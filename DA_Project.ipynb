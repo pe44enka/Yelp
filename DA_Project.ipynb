{
  "nbformat": 4,
  "nbformat_minor": 0,
  "metadata": {
    "colab": {
      "name": "DA_Project.ipynb",
      "provenance": [],
      "collapsed_sections": [
        "4-8ZO2fNqfAE",
        "qa4EUkxos_3F",
        "Q49HtWR2C0AX",
        "s00kmk0yLF-a",
        "aFC8sk7NeYEV",
        "Er9XhbFFEHmx",
        "1-r32zL_vNRk",
        "cMuSzFs6v-4m",
        "01BKOLTLxI9H",
        "ICvi19y-HeVK",
        "o-zz1VPDAxaC",
        "VcIhSeC352a6",
        "STA4Jh6w56Qb",
        "kdITu_f1_zr1",
        "ydXi9cq8_24o",
        "oEogtowi7wCh",
        "nKNtYygvBW45",
        "gzKTMPDtHq_-",
        "vqdd3oTvUJTI",
        "Cpn9HsS9XrCN",
        "JnJ-MdYRYnbO",
        "Fv6BXEXTbI4R",
        "u1mxAx8jDAzN",
        "Aw1Y6fXm_E2Y",
        "YUp33jt6H1Fv",
        "eBvOh2hk0uEv",
        "62AjzstK28DK",
        "AndoA4H54Wuo",
        "xqws4qJW5wVB",
        "S0wb94PEDFqz",
        "0B8VvfC880je",
        "gF5uxeI2-tAY"
      ],
      "authorship_tag": "ABX9TyNqytSi6qwkIcAkbzNeEEaI",
      "include_colab_link": true
    },
    "kernelspec": {
      "name": "python3",
      "display_name": "Python 3"
    }
  },
  "cells": [
    {
      "cell_type": "markdown",
      "metadata": {
        "id": "view-in-github",
        "colab_type": "text"
      },
      "source": [
        "<a href=\"https://colab.research.google.com/github/pe44enka/Yelp/blob/master/DA_Project.ipynb\" target=\"_parent\"><img src=\"https://colab.research.google.com/assets/colab-badge.svg\" alt=\"Open In Colab\"/></a>"
      ]
    },
    {
      "cell_type": "code",
      "metadata": {
        "id": "kJVO0vLWqX_o",
        "colab_type": "code",
        "colab": {}
      },
      "source": [
        "import pandas as pd\n",
        "from pandas.io.json import json_normalize\n",
        "import urllib.request\n",
        "import json"
      ],
      "execution_count": 0,
      "outputs": []
    },
    {
      "cell_type": "markdown",
      "metadata": {
        "id": "4-8ZO2fNqfAE",
        "colab_type": "text"
      },
      "source": [
        "# Data Preparation"
      ]
    },
    {
      "cell_type": "markdown",
      "metadata": {
        "id": "qa4EUkxos_3F",
        "colab_type": "text"
      },
      "source": [
        "## Business Data"
      ]
    },
    {
      "cell_type": "code",
      "metadata": {
        "id": "BIrTDv4LqnLm",
        "colab_type": "code",
        "outputId": "ae281c05-a04d-4787-a562-3eed20c56d94",
        "colab": {
          "base_uri": "https://localhost:8080/",
          "height": 559
        }
      },
      "source": [
        "#create a df from json (incl nested jsons)\n",
        "business = []\n",
        "with urllib.request.urlopen('https://raw.githubusercontent.com/pe44enka/Yelp/master/data/business_simple_cleveland.json') as url:\n",
        "  for line in url:\n",
        "    business.append(json.loads(line))\n",
        "business_data = json_normalize(business)\n",
        "business_data.head()"
      ],
      "execution_count": 0,
      "outputs": [
        {
          "output_type": "execute_result",
          "data": {
            "text/html": [
              "<div>\n",
              "<style scoped>\n",
              "    .dataframe tbody tr th:only-of-type {\n",
              "        vertical-align: middle;\n",
              "    }\n",
              "\n",
              "    .dataframe tbody tr th {\n",
              "        vertical-align: top;\n",
              "    }\n",
              "\n",
              "    .dataframe thead th {\n",
              "        text-align: right;\n",
              "    }\n",
              "</style>\n",
              "<table border=\"1\" class=\"dataframe\">\n",
              "  <thead>\n",
              "    <tr style=\"text-align: right;\">\n",
              "      <th></th>\n",
              "      <th>address</th>\n",
              "      <th>business_id</th>\n",
              "      <th>categories</th>\n",
              "      <th>city</th>\n",
              "      <th>is_open</th>\n",
              "      <th>latitude</th>\n",
              "      <th>longitude</th>\n",
              "      <th>name</th>\n",
              "      <th>neighborhood</th>\n",
              "      <th>postal_code</th>\n",
              "      <th>review_count</th>\n",
              "      <th>stars</th>\n",
              "      <th>state</th>\n",
              "      <th>attributes.BusinessAcceptsCreditCards</th>\n",
              "      <th>hours.Monday</th>\n",
              "      <th>hours.Tuesday</th>\n",
              "      <th>hours.Friday</th>\n",
              "      <th>hours.Wednesday</th>\n",
              "      <th>hours.Thursday</th>\n",
              "      <th>hours.Sunday</th>\n",
              "      <th>hours.Saturday</th>\n",
              "      <th>attributes.BusinessParking.garage</th>\n",
              "      <th>attributes.BusinessParking.street</th>\n",
              "      <th>attributes.BusinessParking.validated</th>\n",
              "      <th>attributes.BusinessParking.lot</th>\n",
              "      <th>attributes.BusinessParking.valet</th>\n",
              "      <th>attributes.Caters</th>\n",
              "      <th>attributes.WiFi</th>\n",
              "      <th>attributes.OutdoorSeating</th>\n",
              "      <th>attributes.RestaurantsPriceRange2</th>\n",
              "      <th>attributes.BikeParking</th>\n",
              "      <th>attributes.RestaurantsDelivery</th>\n",
              "      <th>attributes.RestaurantsTakeOut</th>\n",
              "      <th>attributes.WheelchairAccessible</th>\n",
              "      <th>attributes.GoodForMeal.dessert</th>\n",
              "      <th>attributes.GoodForMeal.latenight</th>\n",
              "      <th>attributes.GoodForMeal.lunch</th>\n",
              "      <th>attributes.GoodForMeal.dinner</th>\n",
              "      <th>attributes.GoodForMeal.brunch</th>\n",
              "      <th>attributes.GoodForMeal.breakfast</th>\n",
              "      <th>...</th>\n",
              "      <th>attributes.Ambience.upscale</th>\n",
              "      <th>attributes.Ambience.casual</th>\n",
              "      <th>attributes.RestaurantsGoodForGroups</th>\n",
              "      <th>attributes.GoodForDancing</th>\n",
              "      <th>attributes.Music.dj</th>\n",
              "      <th>attributes.Music.background_music</th>\n",
              "      <th>attributes.Music.no_music</th>\n",
              "      <th>attributes.Music.jukebox</th>\n",
              "      <th>attributes.Music.live</th>\n",
              "      <th>attributes.Music.video</th>\n",
              "      <th>attributes.Music.karaoke</th>\n",
              "      <th>attributes.BusinessAcceptsBitcoin</th>\n",
              "      <th>attributes.HappyHour</th>\n",
              "      <th>attributes.DogsAllowed</th>\n",
              "      <th>attributes.BestNights.monday</th>\n",
              "      <th>attributes.BestNights.tuesday</th>\n",
              "      <th>attributes.BestNights.friday</th>\n",
              "      <th>attributes.BestNights.wednesday</th>\n",
              "      <th>attributes.BestNights.thursday</th>\n",
              "      <th>attributes.BestNights.sunday</th>\n",
              "      <th>attributes.BestNights.saturday</th>\n",
              "      <th>attributes.CoatCheck</th>\n",
              "      <th>attributes.Smoking</th>\n",
              "      <th>attributes.ByAppointmentOnly</th>\n",
              "      <th>attributes.DriveThru</th>\n",
              "      <th>attributes.BYOBCorkage</th>\n",
              "      <th>attributes.HairSpecializesIn.coloring</th>\n",
              "      <th>attributes.HairSpecializesIn.africanamerican</th>\n",
              "      <th>attributes.HairSpecializesIn.curly</th>\n",
              "      <th>attributes.HairSpecializesIn.perms</th>\n",
              "      <th>attributes.HairSpecializesIn.kids</th>\n",
              "      <th>attributes.HairSpecializesIn.extensions</th>\n",
              "      <th>attributes.HairSpecializesIn.asian</th>\n",
              "      <th>attributes.HairSpecializesIn.straightperms</th>\n",
              "      <th>attributes.RestaurantsCounterService</th>\n",
              "      <th>attributes.BYOB</th>\n",
              "      <th>attributes.AgesAllowed</th>\n",
              "      <th>attributes.AcceptsInsurance</th>\n",
              "      <th>attributes.Open24Hours</th>\n",
              "      <th>attributes.Corkage</th>\n",
              "    </tr>\n",
              "  </thead>\n",
              "  <tbody>\n",
              "    <tr>\n",
              "      <th>0</th>\n",
              "      <td>2128 Warrensville Ctr Rd</td>\n",
              "      <td>jqp5TibmgJZVFKHTp3XfqQ</td>\n",
              "      <td>[Car Wash, Automotive, Auto Detailing]</td>\n",
              "      <td>Cleveland</td>\n",
              "      <td>1</td>\n",
              "      <td>41.501820</td>\n",
              "      <td>-81.536776</td>\n",
              "      <td>Alpaul Automobile Wash</td>\n",
              "      <td></td>\n",
              "      <td>44121</td>\n",
              "      <td>25</td>\n",
              "      <td>3.0</td>\n",
              "      <td>OH</td>\n",
              "      <td>True</td>\n",
              "      <td>8:30-18:00</td>\n",
              "      <td>8:30-18:00</td>\n",
              "      <td>8:30-18:00</td>\n",
              "      <td>8:30-18:00</td>\n",
              "      <td>8:30-18:00</td>\n",
              "      <td>15:00-18:00</td>\n",
              "      <td>8:30-18:00</td>\n",
              "      <td>NaN</td>\n",
              "      <td>NaN</td>\n",
              "      <td>NaN</td>\n",
              "      <td>NaN</td>\n",
              "      <td>NaN</td>\n",
              "      <td>NaN</td>\n",
              "      <td>NaN</td>\n",
              "      <td>NaN</td>\n",
              "      <td>NaN</td>\n",
              "      <td>NaN</td>\n",
              "      <td>NaN</td>\n",
              "      <td>NaN</td>\n",
              "      <td>NaN</td>\n",
              "      <td>NaN</td>\n",
              "      <td>NaN</td>\n",
              "      <td>NaN</td>\n",
              "      <td>NaN</td>\n",
              "      <td>NaN</td>\n",
              "      <td>NaN</td>\n",
              "      <td>...</td>\n",
              "      <td>NaN</td>\n",
              "      <td>NaN</td>\n",
              "      <td>NaN</td>\n",
              "      <td>NaN</td>\n",
              "      <td>NaN</td>\n",
              "      <td>NaN</td>\n",
              "      <td>NaN</td>\n",
              "      <td>NaN</td>\n",
              "      <td>NaN</td>\n",
              "      <td>NaN</td>\n",
              "      <td>NaN</td>\n",
              "      <td>NaN</td>\n",
              "      <td>NaN</td>\n",
              "      <td>NaN</td>\n",
              "      <td>NaN</td>\n",
              "      <td>NaN</td>\n",
              "      <td>NaN</td>\n",
              "      <td>NaN</td>\n",
              "      <td>NaN</td>\n",
              "      <td>NaN</td>\n",
              "      <td>NaN</td>\n",
              "      <td>NaN</td>\n",
              "      <td>NaN</td>\n",
              "      <td>NaN</td>\n",
              "      <td>NaN</td>\n",
              "      <td>NaN</td>\n",
              "      <td>NaN</td>\n",
              "      <td>NaN</td>\n",
              "      <td>NaN</td>\n",
              "      <td>NaN</td>\n",
              "      <td>NaN</td>\n",
              "      <td>NaN</td>\n",
              "      <td>NaN</td>\n",
              "      <td>NaN</td>\n",
              "      <td>NaN</td>\n",
              "      <td>NaN</td>\n",
              "      <td>NaN</td>\n",
              "      <td>NaN</td>\n",
              "      <td>NaN</td>\n",
              "      <td>NaN</td>\n",
              "    </tr>\n",
              "    <tr>\n",
              "      <th>1</th>\n",
              "      <td>3710 Payne Ave</td>\n",
              "      <td>1cLXGXThDYZ5WK_KpBLtkw</td>\n",
              "      <td>[Food, Bakeries, Coffee &amp; Tea]</td>\n",
              "      <td>Cleveland</td>\n",
              "      <td>1</td>\n",
              "      <td>41.509408</td>\n",
              "      <td>-81.662162</td>\n",
              "      <td>Koko Bakery</td>\n",
              "      <td>Goodrich Kirtland</td>\n",
              "      <td>44114</td>\n",
              "      <td>162</td>\n",
              "      <td>4.0</td>\n",
              "      <td>OH</td>\n",
              "      <td>True</td>\n",
              "      <td>9:00-20:00</td>\n",
              "      <td>NaN</td>\n",
              "      <td>9:00-20:00</td>\n",
              "      <td>9:00-20:00</td>\n",
              "      <td>9:00-20:00</td>\n",
              "      <td>9:00-20:00</td>\n",
              "      <td>9:00-20:00</td>\n",
              "      <td>False</td>\n",
              "      <td>False</td>\n",
              "      <td>False</td>\n",
              "      <td>True</td>\n",
              "      <td>False</td>\n",
              "      <td>True</td>\n",
              "      <td>free</td>\n",
              "      <td>False</td>\n",
              "      <td>1.0</td>\n",
              "      <td>True</td>\n",
              "      <td>False</td>\n",
              "      <td>True</td>\n",
              "      <td>True</td>\n",
              "      <td>NaN</td>\n",
              "      <td>NaN</td>\n",
              "      <td>NaN</td>\n",
              "      <td>NaN</td>\n",
              "      <td>NaN</td>\n",
              "      <td>NaN</td>\n",
              "      <td>...</td>\n",
              "      <td>NaN</td>\n",
              "      <td>NaN</td>\n",
              "      <td>NaN</td>\n",
              "      <td>NaN</td>\n",
              "      <td>NaN</td>\n",
              "      <td>NaN</td>\n",
              "      <td>NaN</td>\n",
              "      <td>NaN</td>\n",
              "      <td>NaN</td>\n",
              "      <td>NaN</td>\n",
              "      <td>NaN</td>\n",
              "      <td>NaN</td>\n",
              "      <td>NaN</td>\n",
              "      <td>NaN</td>\n",
              "      <td>NaN</td>\n",
              "      <td>NaN</td>\n",
              "      <td>NaN</td>\n",
              "      <td>NaN</td>\n",
              "      <td>NaN</td>\n",
              "      <td>NaN</td>\n",
              "      <td>NaN</td>\n",
              "      <td>NaN</td>\n",
              "      <td>NaN</td>\n",
              "      <td>NaN</td>\n",
              "      <td>NaN</td>\n",
              "      <td>NaN</td>\n",
              "      <td>NaN</td>\n",
              "      <td>NaN</td>\n",
              "      <td>NaN</td>\n",
              "      <td>NaN</td>\n",
              "      <td>NaN</td>\n",
              "      <td>NaN</td>\n",
              "      <td>NaN</td>\n",
              "      <td>NaN</td>\n",
              "      <td>NaN</td>\n",
              "      <td>NaN</td>\n",
              "      <td>NaN</td>\n",
              "      <td>NaN</td>\n",
              "      <td>NaN</td>\n",
              "      <td>NaN</td>\n",
              "    </tr>\n",
              "    <tr>\n",
              "      <th>2</th>\n",
              "      <td>13181 Cedar Rd</td>\n",
              "      <td>Pawavw9U8rjxWVPU-RB7LA</td>\n",
              "      <td>[Chinese, Restaurants]</td>\n",
              "      <td>Cleveland</td>\n",
              "      <td>1</td>\n",
              "      <td>41.501413</td>\n",
              "      <td>-81.565982</td>\n",
              "      <td>Richie Chan's Chinese Restaurant</td>\n",
              "      <td></td>\n",
              "      <td>44118</td>\n",
              "      <td>22</td>\n",
              "      <td>3.5</td>\n",
              "      <td>OH</td>\n",
              "      <td>False</td>\n",
              "      <td>11:30-21:30</td>\n",
              "      <td>11:30-21:30</td>\n",
              "      <td>11:30-22:00</td>\n",
              "      <td>11:30-21:30</td>\n",
              "      <td>11:30-21:30</td>\n",
              "      <td>16:00-21:00</td>\n",
              "      <td>12:00-22:00</td>\n",
              "      <td>False</td>\n",
              "      <td>False</td>\n",
              "      <td>False</td>\n",
              "      <td>True</td>\n",
              "      <td>False</td>\n",
              "      <td>False</td>\n",
              "      <td>no</td>\n",
              "      <td>False</td>\n",
              "      <td>1.0</td>\n",
              "      <td>True</td>\n",
              "      <td>False</td>\n",
              "      <td>True</td>\n",
              "      <td>NaN</td>\n",
              "      <td>False</td>\n",
              "      <td>False</td>\n",
              "      <td>False</td>\n",
              "      <td>True</td>\n",
              "      <td>False</td>\n",
              "      <td>False</td>\n",
              "      <td>...</td>\n",
              "      <td>False</td>\n",
              "      <td>True</td>\n",
              "      <td>True</td>\n",
              "      <td>NaN</td>\n",
              "      <td>NaN</td>\n",
              "      <td>NaN</td>\n",
              "      <td>NaN</td>\n",
              "      <td>NaN</td>\n",
              "      <td>NaN</td>\n",
              "      <td>NaN</td>\n",
              "      <td>NaN</td>\n",
              "      <td>NaN</td>\n",
              "      <td>NaN</td>\n",
              "      <td>NaN</td>\n",
              "      <td>NaN</td>\n",
              "      <td>NaN</td>\n",
              "      <td>NaN</td>\n",
              "      <td>NaN</td>\n",
              "      <td>NaN</td>\n",
              "      <td>NaN</td>\n",
              "      <td>NaN</td>\n",
              "      <td>NaN</td>\n",
              "      <td>NaN</td>\n",
              "      <td>NaN</td>\n",
              "      <td>NaN</td>\n",
              "      <td>NaN</td>\n",
              "      <td>NaN</td>\n",
              "      <td>NaN</td>\n",
              "      <td>NaN</td>\n",
              "      <td>NaN</td>\n",
              "      <td>NaN</td>\n",
              "      <td>NaN</td>\n",
              "      <td>NaN</td>\n",
              "      <td>NaN</td>\n",
              "      <td>NaN</td>\n",
              "      <td>NaN</td>\n",
              "      <td>NaN</td>\n",
              "      <td>NaN</td>\n",
              "      <td>NaN</td>\n",
              "      <td>NaN</td>\n",
              "    </tr>\n",
              "    <tr>\n",
              "      <th>3</th>\n",
              "      <td></td>\n",
              "      <td>2bGCupC5mfHmEaor4pZaqg</td>\n",
              "      <td>[Home Services, Home Cleaning, Local Services,...</td>\n",
              "      <td>Cleveland</td>\n",
              "      <td>1</td>\n",
              "      <td>41.376464</td>\n",
              "      <td>-81.767764</td>\n",
              "      <td>Clean Machine</td>\n",
              "      <td></td>\n",
              "      <td>44130</td>\n",
              "      <td>3</td>\n",
              "      <td>4.5</td>\n",
              "      <td>OH</td>\n",
              "      <td>NaN</td>\n",
              "      <td>0:00-0:00</td>\n",
              "      <td>0:00-0:00</td>\n",
              "      <td>0:00-0:00</td>\n",
              "      <td>0:00-0:00</td>\n",
              "      <td>0:00-0:00</td>\n",
              "      <td>0:00-0:00</td>\n",
              "      <td>0:00-0:00</td>\n",
              "      <td>NaN</td>\n",
              "      <td>NaN</td>\n",
              "      <td>NaN</td>\n",
              "      <td>NaN</td>\n",
              "      <td>NaN</td>\n",
              "      <td>NaN</td>\n",
              "      <td>NaN</td>\n",
              "      <td>NaN</td>\n",
              "      <td>NaN</td>\n",
              "      <td>NaN</td>\n",
              "      <td>NaN</td>\n",
              "      <td>NaN</td>\n",
              "      <td>NaN</td>\n",
              "      <td>NaN</td>\n",
              "      <td>NaN</td>\n",
              "      <td>NaN</td>\n",
              "      <td>NaN</td>\n",
              "      <td>NaN</td>\n",
              "      <td>NaN</td>\n",
              "      <td>...</td>\n",
              "      <td>NaN</td>\n",
              "      <td>NaN</td>\n",
              "      <td>NaN</td>\n",
              "      <td>NaN</td>\n",
              "      <td>NaN</td>\n",
              "      <td>NaN</td>\n",
              "      <td>NaN</td>\n",
              "      <td>NaN</td>\n",
              "      <td>NaN</td>\n",
              "      <td>NaN</td>\n",
              "      <td>NaN</td>\n",
              "      <td>NaN</td>\n",
              "      <td>NaN</td>\n",
              "      <td>NaN</td>\n",
              "      <td>NaN</td>\n",
              "      <td>NaN</td>\n",
              "      <td>NaN</td>\n",
              "      <td>NaN</td>\n",
              "      <td>NaN</td>\n",
              "      <td>NaN</td>\n",
              "      <td>NaN</td>\n",
              "      <td>NaN</td>\n",
              "      <td>NaN</td>\n",
              "      <td>NaN</td>\n",
              "      <td>NaN</td>\n",
              "      <td>NaN</td>\n",
              "      <td>NaN</td>\n",
              "      <td>NaN</td>\n",
              "      <td>NaN</td>\n",
              "      <td>NaN</td>\n",
              "      <td>NaN</td>\n",
              "      <td>NaN</td>\n",
              "      <td>NaN</td>\n",
              "      <td>NaN</td>\n",
              "      <td>NaN</td>\n",
              "      <td>NaN</td>\n",
              "      <td>NaN</td>\n",
              "      <td>NaN</td>\n",
              "      <td>NaN</td>\n",
              "      <td>NaN</td>\n",
              "    </tr>\n",
              "    <tr>\n",
              "      <th>4</th>\n",
              "      <td>1 American Rd</td>\n",
              "      <td>Q7Xw5YbS4wN7sdqZRsq4vQ</td>\n",
              "      <td>[Event Planning &amp; Services, Cards &amp; Stationery...</td>\n",
              "      <td>Cleveland</td>\n",
              "      <td>1</td>\n",
              "      <td>41.437500</td>\n",
              "      <td>-81.763626</td>\n",
              "      <td>Cardstore</td>\n",
              "      <td>Brooklyn</td>\n",
              "      <td>44144</td>\n",
              "      <td>8</td>\n",
              "      <td>2.5</td>\n",
              "      <td>OH</td>\n",
              "      <td>True</td>\n",
              "      <td>NaN</td>\n",
              "      <td>NaN</td>\n",
              "      <td>NaN</td>\n",
              "      <td>NaN</td>\n",
              "      <td>NaN</td>\n",
              "      <td>NaN</td>\n",
              "      <td>NaN</td>\n",
              "      <td>NaN</td>\n",
              "      <td>NaN</td>\n",
              "      <td>NaN</td>\n",
              "      <td>NaN</td>\n",
              "      <td>NaN</td>\n",
              "      <td>NaN</td>\n",
              "      <td>NaN</td>\n",
              "      <td>NaN</td>\n",
              "      <td>1.0</td>\n",
              "      <td>NaN</td>\n",
              "      <td>NaN</td>\n",
              "      <td>NaN</td>\n",
              "      <td>NaN</td>\n",
              "      <td>NaN</td>\n",
              "      <td>NaN</td>\n",
              "      <td>NaN</td>\n",
              "      <td>NaN</td>\n",
              "      <td>NaN</td>\n",
              "      <td>NaN</td>\n",
              "      <td>...</td>\n",
              "      <td>NaN</td>\n",
              "      <td>NaN</td>\n",
              "      <td>NaN</td>\n",
              "      <td>NaN</td>\n",
              "      <td>NaN</td>\n",
              "      <td>NaN</td>\n",
              "      <td>NaN</td>\n",
              "      <td>NaN</td>\n",
              "      <td>NaN</td>\n",
              "      <td>NaN</td>\n",
              "      <td>NaN</td>\n",
              "      <td>NaN</td>\n",
              "      <td>NaN</td>\n",
              "      <td>NaN</td>\n",
              "      <td>NaN</td>\n",
              "      <td>NaN</td>\n",
              "      <td>NaN</td>\n",
              "      <td>NaN</td>\n",
              "      <td>NaN</td>\n",
              "      <td>NaN</td>\n",
              "      <td>NaN</td>\n",
              "      <td>NaN</td>\n",
              "      <td>NaN</td>\n",
              "      <td>NaN</td>\n",
              "      <td>NaN</td>\n",
              "      <td>NaN</td>\n",
              "      <td>NaN</td>\n",
              "      <td>NaN</td>\n",
              "      <td>NaN</td>\n",
              "      <td>NaN</td>\n",
              "      <td>NaN</td>\n",
              "      <td>NaN</td>\n",
              "      <td>NaN</td>\n",
              "      <td>NaN</td>\n",
              "      <td>NaN</td>\n",
              "      <td>NaN</td>\n",
              "      <td>NaN</td>\n",
              "      <td>NaN</td>\n",
              "      <td>NaN</td>\n",
              "      <td>NaN</td>\n",
              "    </tr>\n",
              "  </tbody>\n",
              "</table>\n",
              "<p>5 rows × 94 columns</p>\n",
              "</div>"
            ],
            "text/plain": [
              "                    address  ... attributes.Corkage\n",
              "0  2128 Warrensville Ctr Rd  ...                NaN\n",
              "1            3710 Payne Ave  ...                NaN\n",
              "2            13181 Cedar Rd  ...                NaN\n",
              "3                            ...                NaN\n",
              "4             1 American Rd  ...                NaN\n",
              "\n",
              "[5 rows x 94 columns]"
            ]
          },
          "metadata": {
            "tags": []
          },
          "execution_count": 12
        }
      ]
    },
    {
      "cell_type": "code",
      "metadata": {
        "id": "HksaQvM-umIK",
        "colab_type": "code",
        "outputId": "24a52339-6bee-4e3b-f131-5984730ca4a2",
        "colab": {
          "base_uri": "https://localhost:8080/",
          "height": 663
        }
      },
      "source": [
        "#checking wich columns have more than 50% of missing data\n",
        "missing_data =(business_data.isna().mean()*100).pipe(lambda ser: ser[ser>50])\n",
        "missing_data.index"
      ],
      "execution_count": 0,
      "outputs": [
        {
          "output_type": "execute_result",
          "data": {
            "text/plain": [
              "Index(['hours.Sunday', 'attributes.Caters', 'attributes.WiFi',\n",
              "       'attributes.OutdoorSeating', 'attributes.RestaurantsDelivery',\n",
              "       'attributes.RestaurantsTakeOut', 'attributes.WheelchairAccessible',\n",
              "       'attributes.GoodForMeal.dessert', 'attributes.GoodForMeal.latenight',\n",
              "       'attributes.GoodForMeal.lunch', 'attributes.GoodForMeal.dinner',\n",
              "       'attributes.GoodForMeal.brunch', 'attributes.GoodForMeal.breakfast',\n",
              "       'attributes.Alcohol', 'attributes.HasTV', 'attributes.GoodForKids',\n",
              "       'attributes.NoiseLevel', 'attributes.RestaurantsAttire',\n",
              "       'attributes.RestaurantsReservations',\n",
              "       'attributes.RestaurantsTableService', 'attributes.Ambience.romantic',\n",
              "       'attributes.Ambience.intimate', 'attributes.Ambience.classy',\n",
              "       'attributes.Ambience.hipster', 'attributes.Ambience.divey',\n",
              "       'attributes.Ambience.touristy', 'attributes.Ambience.trendy',\n",
              "       'attributes.Ambience.upscale', 'attributes.Ambience.casual',\n",
              "       'attributes.RestaurantsGoodForGroups', 'attributes.GoodForDancing',\n",
              "       'attributes.Music.dj', 'attributes.Music.background_music',\n",
              "       'attributes.Music.no_music', 'attributes.Music.jukebox',\n",
              "       'attributes.Music.live', 'attributes.Music.video',\n",
              "       'attributes.Music.karaoke', 'attributes.BusinessAcceptsBitcoin',\n",
              "       'attributes.HappyHour', 'attributes.DogsAllowed',\n",
              "       'attributes.BestNights.monday', 'attributes.BestNights.tuesday',\n",
              "       'attributes.BestNights.friday', 'attributes.BestNights.wednesday',\n",
              "       'attributes.BestNights.thursday', 'attributes.BestNights.sunday',\n",
              "       'attributes.BestNights.saturday', 'attributes.CoatCheck',\n",
              "       'attributes.Smoking', 'attributes.ByAppointmentOnly',\n",
              "       'attributes.DriveThru', 'attributes.BYOBCorkage',\n",
              "       'attributes.HairSpecializesIn.coloring',\n",
              "       'attributes.HairSpecializesIn.africanamerican',\n",
              "       'attributes.HairSpecializesIn.curly',\n",
              "       'attributes.HairSpecializesIn.perms',\n",
              "       'attributes.HairSpecializesIn.kids',\n",
              "       'attributes.HairSpecializesIn.extensions',\n",
              "       'attributes.HairSpecializesIn.asian',\n",
              "       'attributes.HairSpecializesIn.straightperms',\n",
              "       'attributes.RestaurantsCounterService', 'attributes.BYOB',\n",
              "       'attributes.AgesAllowed', 'attributes.AcceptsInsurance',\n",
              "       'attributes.Open24Hours', 'attributes.Corkage'],\n",
              "      dtype='object')"
            ]
          },
          "metadata": {
            "tags": []
          },
          "execution_count": 7
        }
      ]
    },
    {
      "cell_type": "code",
      "metadata": {
        "id": "fUhh42XXq1pP",
        "colab_type": "code",
        "outputId": "892e2980-5f35-46a9-c59c-a2cb631183ef",
        "colab": {
          "base_uri": "https://localhost:8080/",
          "height": 530
        }
      },
      "source": [
        "#drop columns with info missed for more than 50%\n",
        "business_data = business_data.drop(columns=['attributes.Caters', 'attributes.WiFi',\n",
        "       'attributes.OutdoorSeating', 'attributes.RestaurantsDelivery',\n",
        "       'attributes.RestaurantsTakeOut', 'attributes.WheelchairAccessible',\n",
        "       'attributes.GoodForMeal.dessert', 'attributes.GoodForMeal.latenight',\n",
        "       'attributes.GoodForMeal.lunch', 'attributes.GoodForMeal.dinner',\n",
        "       'attributes.GoodForMeal.brunch', 'attributes.GoodForMeal.breakfast',\n",
        "       'attributes.Alcohol', 'attributes.HasTV', 'attributes.GoodForKids',\n",
        "       'attributes.NoiseLevel', 'attributes.RestaurantsAttire',\n",
        "       'attributes.RestaurantsReservations',\n",
        "       'attributes.RestaurantsTableService', 'attributes.Ambience.romantic',\n",
        "       'attributes.Ambience.intimate', 'attributes.Ambience.classy',\n",
        "       'attributes.Ambience.hipster', 'attributes.Ambience.divey',\n",
        "       'attributes.Ambience.touristy', 'attributes.Ambience.trendy',\n",
        "       'attributes.Ambience.upscale', 'attributes.Ambience.casual',\n",
        "       'attributes.RestaurantsGoodForGroups', 'attributes.GoodForDancing',\n",
        "       'attributes.Music.dj', 'attributes.Music.background_music',\n",
        "       'attributes.Music.no_music', 'attributes.Music.jukebox',\n",
        "       'attributes.Music.live', 'attributes.Music.video',\n",
        "       'attributes.Music.karaoke', 'attributes.BusinessAcceptsBitcoin',\n",
        "       'attributes.HappyHour', 'attributes.DogsAllowed',\n",
        "       'attributes.BestNights.monday', 'attributes.BestNights.tuesday',\n",
        "       'attributes.BestNights.friday', 'attributes.BestNights.wednesday',\n",
        "       'attributes.BestNights.thursday', 'attributes.BestNights.sunday',\n",
        "       'attributes.BestNights.saturday', 'attributes.CoatCheck',\n",
        "       'attributes.Smoking', 'attributes.ByAppointmentOnly',\n",
        "       'attributes.DriveThru', 'attributes.BYOBCorkage',\n",
        "       'attributes.HairSpecializesIn.coloring',\n",
        "       'attributes.HairSpecializesIn.africanamerican',\n",
        "       'attributes.HairSpecializesIn.curly',\n",
        "       'attributes.HairSpecializesIn.perms',\n",
        "       'attributes.HairSpecializesIn.kids',\n",
        "       'attributes.HairSpecializesIn.extensions',\n",
        "       'attributes.HairSpecializesIn.asian',\n",
        "       'attributes.HairSpecializesIn.straightperms',\n",
        "       'attributes.RestaurantsCounterService', 'attributes.BYOB',\n",
        "       'attributes.AgesAllowed', 'attributes.AcceptsInsurance',\n",
        "       'attributes.Open24Hours', 'attributes.Corkage', \n",
        "       'attributes.RestaurantsPriceRange2'\n",
        "        ])\n",
        "business_data.head()"
      ],
      "execution_count": 0,
      "outputs": [
        {
          "output_type": "execute_result",
          "data": {
            "text/html": [
              "<div>\n",
              "<style scoped>\n",
              "    .dataframe tbody tr th:only-of-type {\n",
              "        vertical-align: middle;\n",
              "    }\n",
              "\n",
              "    .dataframe tbody tr th {\n",
              "        vertical-align: top;\n",
              "    }\n",
              "\n",
              "    .dataframe thead th {\n",
              "        text-align: right;\n",
              "    }\n",
              "</style>\n",
              "<table border=\"1\" class=\"dataframe\">\n",
              "  <thead>\n",
              "    <tr style=\"text-align: right;\">\n",
              "      <th></th>\n",
              "      <th>address</th>\n",
              "      <th>business_id</th>\n",
              "      <th>categories</th>\n",
              "      <th>city</th>\n",
              "      <th>is_open</th>\n",
              "      <th>latitude</th>\n",
              "      <th>longitude</th>\n",
              "      <th>name</th>\n",
              "      <th>neighborhood</th>\n",
              "      <th>postal_code</th>\n",
              "      <th>review_count</th>\n",
              "      <th>stars</th>\n",
              "      <th>state</th>\n",
              "      <th>attributes.BusinessAcceptsCreditCards</th>\n",
              "      <th>hours.Monday</th>\n",
              "      <th>hours.Tuesday</th>\n",
              "      <th>hours.Friday</th>\n",
              "      <th>hours.Wednesday</th>\n",
              "      <th>hours.Thursday</th>\n",
              "      <th>hours.Sunday</th>\n",
              "      <th>hours.Saturday</th>\n",
              "      <th>attributes.BusinessParking.garage</th>\n",
              "      <th>attributes.BusinessParking.street</th>\n",
              "      <th>attributes.BusinessParking.validated</th>\n",
              "      <th>attributes.BusinessParking.lot</th>\n",
              "      <th>attributes.BusinessParking.valet</th>\n",
              "      <th>attributes.BikeParking</th>\n",
              "    </tr>\n",
              "  </thead>\n",
              "  <tbody>\n",
              "    <tr>\n",
              "      <th>0</th>\n",
              "      <td>2128 Warrensville Ctr Rd</td>\n",
              "      <td>jqp5TibmgJZVFKHTp3XfqQ</td>\n",
              "      <td>[Car Wash, Automotive, Auto Detailing]</td>\n",
              "      <td>Cleveland</td>\n",
              "      <td>1</td>\n",
              "      <td>41.501820</td>\n",
              "      <td>-81.536776</td>\n",
              "      <td>Alpaul Automobile Wash</td>\n",
              "      <td></td>\n",
              "      <td>44121</td>\n",
              "      <td>25</td>\n",
              "      <td>3.0</td>\n",
              "      <td>OH</td>\n",
              "      <td>True</td>\n",
              "      <td>8:30-18:00</td>\n",
              "      <td>8:30-18:00</td>\n",
              "      <td>8:30-18:00</td>\n",
              "      <td>8:30-18:00</td>\n",
              "      <td>8:30-18:00</td>\n",
              "      <td>15:00-18:00</td>\n",
              "      <td>8:30-18:00</td>\n",
              "      <td>NaN</td>\n",
              "      <td>NaN</td>\n",
              "      <td>NaN</td>\n",
              "      <td>NaN</td>\n",
              "      <td>NaN</td>\n",
              "      <td>NaN</td>\n",
              "    </tr>\n",
              "    <tr>\n",
              "      <th>1</th>\n",
              "      <td>3710 Payne Ave</td>\n",
              "      <td>1cLXGXThDYZ5WK_KpBLtkw</td>\n",
              "      <td>[Food, Bakeries, Coffee &amp; Tea]</td>\n",
              "      <td>Cleveland</td>\n",
              "      <td>1</td>\n",
              "      <td>41.509408</td>\n",
              "      <td>-81.662162</td>\n",
              "      <td>Koko Bakery</td>\n",
              "      <td>Goodrich Kirtland</td>\n",
              "      <td>44114</td>\n",
              "      <td>162</td>\n",
              "      <td>4.0</td>\n",
              "      <td>OH</td>\n",
              "      <td>True</td>\n",
              "      <td>9:00-20:00</td>\n",
              "      <td>NaN</td>\n",
              "      <td>9:00-20:00</td>\n",
              "      <td>9:00-20:00</td>\n",
              "      <td>9:00-20:00</td>\n",
              "      <td>9:00-20:00</td>\n",
              "      <td>9:00-20:00</td>\n",
              "      <td>False</td>\n",
              "      <td>False</td>\n",
              "      <td>False</td>\n",
              "      <td>True</td>\n",
              "      <td>False</td>\n",
              "      <td>True</td>\n",
              "    </tr>\n",
              "    <tr>\n",
              "      <th>2</th>\n",
              "      <td>13181 Cedar Rd</td>\n",
              "      <td>Pawavw9U8rjxWVPU-RB7LA</td>\n",
              "      <td>[Chinese, Restaurants]</td>\n",
              "      <td>Cleveland</td>\n",
              "      <td>1</td>\n",
              "      <td>41.501413</td>\n",
              "      <td>-81.565982</td>\n",
              "      <td>Richie Chan's Chinese Restaurant</td>\n",
              "      <td></td>\n",
              "      <td>44118</td>\n",
              "      <td>22</td>\n",
              "      <td>3.5</td>\n",
              "      <td>OH</td>\n",
              "      <td>False</td>\n",
              "      <td>11:30-21:30</td>\n",
              "      <td>11:30-21:30</td>\n",
              "      <td>11:30-22:00</td>\n",
              "      <td>11:30-21:30</td>\n",
              "      <td>11:30-21:30</td>\n",
              "      <td>16:00-21:00</td>\n",
              "      <td>12:00-22:00</td>\n",
              "      <td>False</td>\n",
              "      <td>False</td>\n",
              "      <td>False</td>\n",
              "      <td>True</td>\n",
              "      <td>False</td>\n",
              "      <td>True</td>\n",
              "    </tr>\n",
              "    <tr>\n",
              "      <th>3</th>\n",
              "      <td></td>\n",
              "      <td>2bGCupC5mfHmEaor4pZaqg</td>\n",
              "      <td>[Home Services, Home Cleaning, Local Services,...</td>\n",
              "      <td>Cleveland</td>\n",
              "      <td>1</td>\n",
              "      <td>41.376464</td>\n",
              "      <td>-81.767764</td>\n",
              "      <td>Clean Machine</td>\n",
              "      <td></td>\n",
              "      <td>44130</td>\n",
              "      <td>3</td>\n",
              "      <td>4.5</td>\n",
              "      <td>OH</td>\n",
              "      <td>NaN</td>\n",
              "      <td>0:00-0:00</td>\n",
              "      <td>0:00-0:00</td>\n",
              "      <td>0:00-0:00</td>\n",
              "      <td>0:00-0:00</td>\n",
              "      <td>0:00-0:00</td>\n",
              "      <td>0:00-0:00</td>\n",
              "      <td>0:00-0:00</td>\n",
              "      <td>NaN</td>\n",
              "      <td>NaN</td>\n",
              "      <td>NaN</td>\n",
              "      <td>NaN</td>\n",
              "      <td>NaN</td>\n",
              "      <td>NaN</td>\n",
              "    </tr>\n",
              "    <tr>\n",
              "      <th>4</th>\n",
              "      <td>1 American Rd</td>\n",
              "      <td>Q7Xw5YbS4wN7sdqZRsq4vQ</td>\n",
              "      <td>[Event Planning &amp; Services, Cards &amp; Stationery...</td>\n",
              "      <td>Cleveland</td>\n",
              "      <td>1</td>\n",
              "      <td>41.437500</td>\n",
              "      <td>-81.763626</td>\n",
              "      <td>Cardstore</td>\n",
              "      <td>Brooklyn</td>\n",
              "      <td>44144</td>\n",
              "      <td>8</td>\n",
              "      <td>2.5</td>\n",
              "      <td>OH</td>\n",
              "      <td>True</td>\n",
              "      <td>NaN</td>\n",
              "      <td>NaN</td>\n",
              "      <td>NaN</td>\n",
              "      <td>NaN</td>\n",
              "      <td>NaN</td>\n",
              "      <td>NaN</td>\n",
              "      <td>NaN</td>\n",
              "      <td>NaN</td>\n",
              "      <td>NaN</td>\n",
              "      <td>NaN</td>\n",
              "      <td>NaN</td>\n",
              "      <td>NaN</td>\n",
              "      <td>NaN</td>\n",
              "    </tr>\n",
              "  </tbody>\n",
              "</table>\n",
              "</div>"
            ],
            "text/plain": [
              "                    address  ... attributes.BikeParking\n",
              "0  2128 Warrensville Ctr Rd  ...                    NaN\n",
              "1            3710 Payne Ave  ...                   True\n",
              "2            13181 Cedar Rd  ...                   True\n",
              "3                            ...                    NaN\n",
              "4             1 American Rd  ...                    NaN\n",
              "\n",
              "[5 rows x 27 columns]"
            ]
          },
          "metadata": {
            "tags": []
          },
          "execution_count": 8
        }
      ]
    },
    {
      "cell_type": "code",
      "metadata": {
        "id": "lJ8ha_1C7E1B",
        "colab_type": "code",
        "colab": {}
      },
      "source": [
        "#rename columns\n",
        "business_data = business_data.rename(columns={'attributes.BusinessParking.garage':'parking.garage',\n",
        "                              'attributes.BusinessParking.street':'parking.street',\n",
        "                              'attributes.BusinessParking.validated':'parking.validated',\n",
        "                              'attributes.BusinessParking.lot':'parking.lot',\n",
        "                              'attributes.BusinessParking.valet':'parking.vallet',\n",
        "                              'attributes.BikeParking':'parking.bike',\n",
        "                              'attributes.BusinessAcceptsCreditCards':'AcceptsCreditCards'})"
      ],
      "execution_count": 0,
      "outputs": []
    },
    {
      "cell_type": "code",
      "metadata": {
        "id": "83q6fBsL8Vds",
        "colab_type": "code",
        "outputId": "dd669481-9e70-4dcb-f788-f2d7bf118eda",
        "colab": {
          "base_uri": "https://localhost:8080/",
          "height": 377
        }
      },
      "source": [
        "# extract category from list \n",
        "categories = []\n",
        "for i, category in enumerate(business_data['categories']):\n",
        "  if category:\n",
        "    categories.append(category[0])\n",
        "  else:\n",
        "    categories.append(None)\n",
        "\n",
        "# delete old categories column and add a new one\n",
        "business_data = business_data.drop(columns = ['categories'])\n",
        "business_data['categories'] = categories\n",
        "business_data.head()"
      ],
      "execution_count": 0,
      "outputs": [
        {
          "output_type": "execute_result",
          "data": {
            "text/html": [
              "<div>\n",
              "<style scoped>\n",
              "    .dataframe tbody tr th:only-of-type {\n",
              "        vertical-align: middle;\n",
              "    }\n",
              "\n",
              "    .dataframe tbody tr th {\n",
              "        vertical-align: top;\n",
              "    }\n",
              "\n",
              "    .dataframe thead th {\n",
              "        text-align: right;\n",
              "    }\n",
              "</style>\n",
              "<table border=\"1\" class=\"dataframe\">\n",
              "  <thead>\n",
              "    <tr style=\"text-align: right;\">\n",
              "      <th></th>\n",
              "      <th>address</th>\n",
              "      <th>business_id</th>\n",
              "      <th>city</th>\n",
              "      <th>is_open</th>\n",
              "      <th>latitude</th>\n",
              "      <th>longitude</th>\n",
              "      <th>name</th>\n",
              "      <th>neighborhood</th>\n",
              "      <th>postal_code</th>\n",
              "      <th>review_count</th>\n",
              "      <th>stars</th>\n",
              "      <th>state</th>\n",
              "      <th>AcceptsCreditCards</th>\n",
              "      <th>hours.Monday</th>\n",
              "      <th>hours.Tuesday</th>\n",
              "      <th>hours.Friday</th>\n",
              "      <th>hours.Wednesday</th>\n",
              "      <th>hours.Thursday</th>\n",
              "      <th>hours.Sunday</th>\n",
              "      <th>hours.Saturday</th>\n",
              "      <th>parking.garage</th>\n",
              "      <th>parking.street</th>\n",
              "      <th>parking.validated</th>\n",
              "      <th>parking.lot</th>\n",
              "      <th>parking.vallet</th>\n",
              "      <th>parking.bike</th>\n",
              "      <th>categories</th>\n",
              "    </tr>\n",
              "  </thead>\n",
              "  <tbody>\n",
              "    <tr>\n",
              "      <th>0</th>\n",
              "      <td>2128 Warrensville Ctr Rd</td>\n",
              "      <td>jqp5TibmgJZVFKHTp3XfqQ</td>\n",
              "      <td>Cleveland</td>\n",
              "      <td>1</td>\n",
              "      <td>41.501820</td>\n",
              "      <td>-81.536776</td>\n",
              "      <td>Alpaul Automobile Wash</td>\n",
              "      <td></td>\n",
              "      <td>44121</td>\n",
              "      <td>25</td>\n",
              "      <td>3.0</td>\n",
              "      <td>OH</td>\n",
              "      <td>True</td>\n",
              "      <td>8:30-18:00</td>\n",
              "      <td>8:30-18:00</td>\n",
              "      <td>8:30-18:00</td>\n",
              "      <td>8:30-18:00</td>\n",
              "      <td>8:30-18:00</td>\n",
              "      <td>15:00-18:00</td>\n",
              "      <td>8:30-18:00</td>\n",
              "      <td>NaN</td>\n",
              "      <td>NaN</td>\n",
              "      <td>NaN</td>\n",
              "      <td>NaN</td>\n",
              "      <td>NaN</td>\n",
              "      <td>NaN</td>\n",
              "      <td>Car Wash</td>\n",
              "    </tr>\n",
              "    <tr>\n",
              "      <th>1</th>\n",
              "      <td>3710 Payne Ave</td>\n",
              "      <td>1cLXGXThDYZ5WK_KpBLtkw</td>\n",
              "      <td>Cleveland</td>\n",
              "      <td>1</td>\n",
              "      <td>41.509408</td>\n",
              "      <td>-81.662162</td>\n",
              "      <td>Koko Bakery</td>\n",
              "      <td>Goodrich Kirtland</td>\n",
              "      <td>44114</td>\n",
              "      <td>162</td>\n",
              "      <td>4.0</td>\n",
              "      <td>OH</td>\n",
              "      <td>True</td>\n",
              "      <td>9:00-20:00</td>\n",
              "      <td>NaN</td>\n",
              "      <td>9:00-20:00</td>\n",
              "      <td>9:00-20:00</td>\n",
              "      <td>9:00-20:00</td>\n",
              "      <td>9:00-20:00</td>\n",
              "      <td>9:00-20:00</td>\n",
              "      <td>False</td>\n",
              "      <td>False</td>\n",
              "      <td>False</td>\n",
              "      <td>True</td>\n",
              "      <td>False</td>\n",
              "      <td>True</td>\n",
              "      <td>Food</td>\n",
              "    </tr>\n",
              "    <tr>\n",
              "      <th>2</th>\n",
              "      <td>13181 Cedar Rd</td>\n",
              "      <td>Pawavw9U8rjxWVPU-RB7LA</td>\n",
              "      <td>Cleveland</td>\n",
              "      <td>1</td>\n",
              "      <td>41.501413</td>\n",
              "      <td>-81.565982</td>\n",
              "      <td>Richie Chan's Chinese Restaurant</td>\n",
              "      <td></td>\n",
              "      <td>44118</td>\n",
              "      <td>22</td>\n",
              "      <td>3.5</td>\n",
              "      <td>OH</td>\n",
              "      <td>False</td>\n",
              "      <td>11:30-21:30</td>\n",
              "      <td>11:30-21:30</td>\n",
              "      <td>11:30-22:00</td>\n",
              "      <td>11:30-21:30</td>\n",
              "      <td>11:30-21:30</td>\n",
              "      <td>16:00-21:00</td>\n",
              "      <td>12:00-22:00</td>\n",
              "      <td>False</td>\n",
              "      <td>False</td>\n",
              "      <td>False</td>\n",
              "      <td>True</td>\n",
              "      <td>False</td>\n",
              "      <td>True</td>\n",
              "      <td>Chinese</td>\n",
              "    </tr>\n",
              "    <tr>\n",
              "      <th>3</th>\n",
              "      <td></td>\n",
              "      <td>2bGCupC5mfHmEaor4pZaqg</td>\n",
              "      <td>Cleveland</td>\n",
              "      <td>1</td>\n",
              "      <td>41.376464</td>\n",
              "      <td>-81.767764</td>\n",
              "      <td>Clean Machine</td>\n",
              "      <td></td>\n",
              "      <td>44130</td>\n",
              "      <td>3</td>\n",
              "      <td>4.5</td>\n",
              "      <td>OH</td>\n",
              "      <td>NaN</td>\n",
              "      <td>0:00-0:00</td>\n",
              "      <td>0:00-0:00</td>\n",
              "      <td>0:00-0:00</td>\n",
              "      <td>0:00-0:00</td>\n",
              "      <td>0:00-0:00</td>\n",
              "      <td>0:00-0:00</td>\n",
              "      <td>0:00-0:00</td>\n",
              "      <td>NaN</td>\n",
              "      <td>NaN</td>\n",
              "      <td>NaN</td>\n",
              "      <td>NaN</td>\n",
              "      <td>NaN</td>\n",
              "      <td>NaN</td>\n",
              "      <td>Home Services</td>\n",
              "    </tr>\n",
              "    <tr>\n",
              "      <th>4</th>\n",
              "      <td>1 American Rd</td>\n",
              "      <td>Q7Xw5YbS4wN7sdqZRsq4vQ</td>\n",
              "      <td>Cleveland</td>\n",
              "      <td>1</td>\n",
              "      <td>41.437500</td>\n",
              "      <td>-81.763626</td>\n",
              "      <td>Cardstore</td>\n",
              "      <td>Brooklyn</td>\n",
              "      <td>44144</td>\n",
              "      <td>8</td>\n",
              "      <td>2.5</td>\n",
              "      <td>OH</td>\n",
              "      <td>True</td>\n",
              "      <td>NaN</td>\n",
              "      <td>NaN</td>\n",
              "      <td>NaN</td>\n",
              "      <td>NaN</td>\n",
              "      <td>NaN</td>\n",
              "      <td>NaN</td>\n",
              "      <td>NaN</td>\n",
              "      <td>NaN</td>\n",
              "      <td>NaN</td>\n",
              "      <td>NaN</td>\n",
              "      <td>NaN</td>\n",
              "      <td>NaN</td>\n",
              "      <td>NaN</td>\n",
              "      <td>Event Planning &amp; Services</td>\n",
              "    </tr>\n",
              "  </tbody>\n",
              "</table>\n",
              "</div>"
            ],
            "text/plain": [
              "                    address  ...                 categories\n",
              "0  2128 Warrensville Ctr Rd  ...                   Car Wash\n",
              "1            3710 Payne Ave  ...                       Food\n",
              "2            13181 Cedar Rd  ...                    Chinese\n",
              "3                            ...              Home Services\n",
              "4             1 American Rd  ...  Event Planning & Services\n",
              "\n",
              "[5 rows x 27 columns]"
            ]
          },
          "metadata": {
            "tags": []
          },
          "execution_count": 10
        }
      ]
    },
    {
      "cell_type": "code",
      "metadata": {
        "id": "zKN4eRa1_80v",
        "colab_type": "code",
        "colab": {}
      },
      "source": [
        "#save achieved df to csv-file\n",
        "#side menu --> Files --> name of csv-file --> download\n",
        "business_data.to_csv('business_data.csv')"
      ],
      "execution_count": 0,
      "outputs": []
    },
    {
      "cell_type": "markdown",
      "metadata": {
        "id": "Q49HtWR2C0AX",
        "colab_type": "text"
      },
      "source": [
        "## User Data"
      ]
    },
    {
      "cell_type": "code",
      "metadata": {
        "id": "0EvJO15WBtkX",
        "colab_type": "code",
        "outputId": "f9be3244-c0ea-446c-f6a5-e8b41e325f06",
        "colab": {
          "base_uri": "https://localhost:8080/",
          "height": 711
        }
      },
      "source": [
        "#create a df from json (incl nested jsons)\n",
        "user = []\n",
        "with urllib.request.urlopen('https://raw.githubusercontent.com/pe44enka/Yelp/master/data/user_sample_cleveland.json') as url:\n",
        "  for line in url:\n",
        "    user.append(json.loads(line))\n",
        "user_data = json_normalize(user)\n",
        "user_data"
      ],
      "execution_count": 0,
      "outputs": [
        {
          "output_type": "execute_result",
          "data": {
            "text/html": [
              "<div>\n",
              "<style scoped>\n",
              "    .dataframe tbody tr th:only-of-type {\n",
              "        vertical-align: middle;\n",
              "    }\n",
              "\n",
              "    .dataframe tbody tr th {\n",
              "        vertical-align: top;\n",
              "    }\n",
              "\n",
              "    .dataframe thead th {\n",
              "        text-align: right;\n",
              "    }\n",
              "</style>\n",
              "<table border=\"1\" class=\"dataframe\">\n",
              "  <thead>\n",
              "    <tr style=\"text-align: right;\">\n",
              "      <th></th>\n",
              "      <th>average_stars</th>\n",
              "      <th>compliment_cool</th>\n",
              "      <th>compliment_cute</th>\n",
              "      <th>compliment_funny</th>\n",
              "      <th>compliment_hot</th>\n",
              "      <th>compliment_list</th>\n",
              "      <th>compliment_more</th>\n",
              "      <th>compliment_note</th>\n",
              "      <th>compliment_photos</th>\n",
              "      <th>compliment_plain</th>\n",
              "      <th>compliment_profile</th>\n",
              "      <th>compliment_writer</th>\n",
              "      <th>cool</th>\n",
              "      <th>elite</th>\n",
              "      <th>fans</th>\n",
              "      <th>friends</th>\n",
              "      <th>funny</th>\n",
              "      <th>name</th>\n",
              "      <th>review_count</th>\n",
              "      <th>useful</th>\n",
              "      <th>user_id</th>\n",
              "      <th>yelping_since</th>\n",
              "    </tr>\n",
              "  </thead>\n",
              "  <tbody>\n",
              "    <tr>\n",
              "      <th>0</th>\n",
              "      <td>3.94</td>\n",
              "      <td>1556</td>\n",
              "      <td>211</td>\n",
              "      <td>1556</td>\n",
              "      <td>1285</td>\n",
              "      <td>101</td>\n",
              "      <td>134</td>\n",
              "      <td>1295</td>\n",
              "      <td>162</td>\n",
              "      <td>2134</td>\n",
              "      <td>74</td>\n",
              "      <td>402</td>\n",
              "      <td>40110</td>\n",
              "      <td>[2014, 2017, 2011, 2012, 2015, 2009, 2013, 200...</td>\n",
              "      <td>835</td>\n",
              "      <td>[eoSSJzdprj3jxXyi94vDXg, QF0urZa-0bxga17ZeY-9l...</td>\n",
              "      <td>10882</td>\n",
              "      <td>Andrea</td>\n",
              "      <td>2559</td>\n",
              "      <td>83681</td>\n",
              "      <td>om5ZiponkpRqUNa3pVPiRg</td>\n",
              "      <td>2006-01-18</td>\n",
              "    </tr>\n",
              "    <tr>\n",
              "      <th>1</th>\n",
              "      <td>3.76</td>\n",
              "      <td>9</td>\n",
              "      <td>0</td>\n",
              "      <td>9</td>\n",
              "      <td>1</td>\n",
              "      <td>0</td>\n",
              "      <td>1</td>\n",
              "      <td>4</td>\n",
              "      <td>1</td>\n",
              "      <td>11</td>\n",
              "      <td>0</td>\n",
              "      <td>3</td>\n",
              "      <td>4</td>\n",
              "      <td>[2016, 2017]</td>\n",
              "      <td>11</td>\n",
              "      <td>[96DJovjKAtExnyBZRfniPQ, Djczq-bRn761U4FW77NUt...</td>\n",
              "      <td>4</td>\n",
              "      <td>Leah</td>\n",
              "      <td>436</td>\n",
              "      <td>15</td>\n",
              "      <td>D-ydMTPGWXTVm4_jjp0k9g</td>\n",
              "      <td>2013-04-01</td>\n",
              "    </tr>\n",
              "    <tr>\n",
              "      <th>2</th>\n",
              "      <td>4.15</td>\n",
              "      <td>6</td>\n",
              "      <td>0</td>\n",
              "      <td>6</td>\n",
              "      <td>2</td>\n",
              "      <td>0</td>\n",
              "      <td>0</td>\n",
              "      <td>5</td>\n",
              "      <td>1</td>\n",
              "      <td>4</td>\n",
              "      <td>0</td>\n",
              "      <td>2</td>\n",
              "      <td>7</td>\n",
              "      <td>[]</td>\n",
              "      <td>2</td>\n",
              "      <td>[tgPjX5MplSOXubcTqvCNtw, 6wRnnHSKO05sJ8SALkY8w...</td>\n",
              "      <td>3</td>\n",
              "      <td>Colleen</td>\n",
              "      <td>32</td>\n",
              "      <td>19</td>\n",
              "      <td>s8bVHRqx6cI8F8HGf3A_og</td>\n",
              "      <td>2014-12-18</td>\n",
              "    </tr>\n",
              "    <tr>\n",
              "      <th>3</th>\n",
              "      <td>3.95</td>\n",
              "      <td>5</td>\n",
              "      <td>0</td>\n",
              "      <td>5</td>\n",
              "      <td>2</td>\n",
              "      <td>0</td>\n",
              "      <td>1</td>\n",
              "      <td>5</td>\n",
              "      <td>3</td>\n",
              "      <td>1</td>\n",
              "      <td>0</td>\n",
              "      <td>0</td>\n",
              "      <td>3</td>\n",
              "      <td>[2016, 2017, 2015]</td>\n",
              "      <td>7</td>\n",
              "      <td>[wglTuBHEDBFXLsVNqFqBTQ, PaXfi2uGieoCQniGGSBDW...</td>\n",
              "      <td>2</td>\n",
              "      <td>Casey</td>\n",
              "      <td>72</td>\n",
              "      <td>5</td>\n",
              "      <td>YJLlvBPtvB8iJg8_WKxVzQ</td>\n",
              "      <td>2014-03-01</td>\n",
              "    </tr>\n",
              "    <tr>\n",
              "      <th>4</th>\n",
              "      <td>4.35</td>\n",
              "      <td>34</td>\n",
              "      <td>0</td>\n",
              "      <td>34</td>\n",
              "      <td>20</td>\n",
              "      <td>1</td>\n",
              "      <td>6</td>\n",
              "      <td>6</td>\n",
              "      <td>0</td>\n",
              "      <td>23</td>\n",
              "      <td>2</td>\n",
              "      <td>28</td>\n",
              "      <td>0</td>\n",
              "      <td>[2016, 2015, 2013, 2014, 2017, 2012]</td>\n",
              "      <td>18</td>\n",
              "      <td>[aW2GmH0UZPvjpex1abJFvw, RG_ADQ9b-aEPc9fLqmMu4...</td>\n",
              "      <td>1</td>\n",
              "      <td>George</td>\n",
              "      <td>208</td>\n",
              "      <td>11</td>\n",
              "      <td>3lil3eH4skNVzI0y3vM72w</td>\n",
              "      <td>2010-02-13</td>\n",
              "    </tr>\n",
              "    <tr>\n",
              "      <th>...</th>\n",
              "      <td>...</td>\n",
              "      <td>...</td>\n",
              "      <td>...</td>\n",
              "      <td>...</td>\n",
              "      <td>...</td>\n",
              "      <td>...</td>\n",
              "      <td>...</td>\n",
              "      <td>...</td>\n",
              "      <td>...</td>\n",
              "      <td>...</td>\n",
              "      <td>...</td>\n",
              "      <td>...</td>\n",
              "      <td>...</td>\n",
              "      <td>...</td>\n",
              "      <td>...</td>\n",
              "      <td>...</td>\n",
              "      <td>...</td>\n",
              "      <td>...</td>\n",
              "      <td>...</td>\n",
              "      <td>...</td>\n",
              "      <td>...</td>\n",
              "      <td>...</td>\n",
              "    </tr>\n",
              "    <tr>\n",
              "      <th>33223</th>\n",
              "      <td>2.00</td>\n",
              "      <td>0</td>\n",
              "      <td>0</td>\n",
              "      <td>0</td>\n",
              "      <td>0</td>\n",
              "      <td>0</td>\n",
              "      <td>0</td>\n",
              "      <td>0</td>\n",
              "      <td>0</td>\n",
              "      <td>0</td>\n",
              "      <td>0</td>\n",
              "      <td>0</td>\n",
              "      <td>0</td>\n",
              "      <td>[]</td>\n",
              "      <td>0</td>\n",
              "      <td>[]</td>\n",
              "      <td>0</td>\n",
              "      <td>K</td>\n",
              "      <td>1</td>\n",
              "      <td>0</td>\n",
              "      <td>mF2SwgBpL1ImRCn82KTM5w</td>\n",
              "      <td>2011-01-15</td>\n",
              "    </tr>\n",
              "    <tr>\n",
              "      <th>33224</th>\n",
              "      <td>3.83</td>\n",
              "      <td>0</td>\n",
              "      <td>0</td>\n",
              "      <td>0</td>\n",
              "      <td>0</td>\n",
              "      <td>0</td>\n",
              "      <td>0</td>\n",
              "      <td>1</td>\n",
              "      <td>0</td>\n",
              "      <td>0</td>\n",
              "      <td>0</td>\n",
              "      <td>0</td>\n",
              "      <td>0</td>\n",
              "      <td>[]</td>\n",
              "      <td>0</td>\n",
              "      <td>[]</td>\n",
              "      <td>0</td>\n",
              "      <td>Dan</td>\n",
              "      <td>11</td>\n",
              "      <td>0</td>\n",
              "      <td>al3NyKEJ3KBH-AJAO-YLVw</td>\n",
              "      <td>2010-07-25</td>\n",
              "    </tr>\n",
              "    <tr>\n",
              "      <th>33225</th>\n",
              "      <td>2.00</td>\n",
              "      <td>0</td>\n",
              "      <td>0</td>\n",
              "      <td>0</td>\n",
              "      <td>0</td>\n",
              "      <td>0</td>\n",
              "      <td>0</td>\n",
              "      <td>0</td>\n",
              "      <td>0</td>\n",
              "      <td>0</td>\n",
              "      <td>0</td>\n",
              "      <td>0</td>\n",
              "      <td>0</td>\n",
              "      <td>[]</td>\n",
              "      <td>0</td>\n",
              "      <td>[]</td>\n",
              "      <td>0</td>\n",
              "      <td>Matt</td>\n",
              "      <td>4</td>\n",
              "      <td>0</td>\n",
              "      <td>s945Oc9CBwsNFDVOITwhTw</td>\n",
              "      <td>2013-09-01</td>\n",
              "    </tr>\n",
              "    <tr>\n",
              "      <th>33226</th>\n",
              "      <td>4.00</td>\n",
              "      <td>0</td>\n",
              "      <td>0</td>\n",
              "      <td>0</td>\n",
              "      <td>0</td>\n",
              "      <td>0</td>\n",
              "      <td>1</td>\n",
              "      <td>0</td>\n",
              "      <td>0</td>\n",
              "      <td>0</td>\n",
              "      <td>0</td>\n",
              "      <td>0</td>\n",
              "      <td>0</td>\n",
              "      <td>[]</td>\n",
              "      <td>0</td>\n",
              "      <td>[]</td>\n",
              "      <td>0</td>\n",
              "      <td>Greg</td>\n",
              "      <td>1</td>\n",
              "      <td>0</td>\n",
              "      <td>mau35GyHq9qDK-arfuNztQ</td>\n",
              "      <td>2012-04-23</td>\n",
              "    </tr>\n",
              "    <tr>\n",
              "      <th>33227</th>\n",
              "      <td>5.00</td>\n",
              "      <td>0</td>\n",
              "      <td>0</td>\n",
              "      <td>0</td>\n",
              "      <td>0</td>\n",
              "      <td>0</td>\n",
              "      <td>0</td>\n",
              "      <td>0</td>\n",
              "      <td>0</td>\n",
              "      <td>0</td>\n",
              "      <td>0</td>\n",
              "      <td>0</td>\n",
              "      <td>0</td>\n",
              "      <td>[]</td>\n",
              "      <td>0</td>\n",
              "      <td>[]</td>\n",
              "      <td>0</td>\n",
              "      <td>Bonnie</td>\n",
              "      <td>1</td>\n",
              "      <td>0</td>\n",
              "      <td>vP8Vm8McFdpWvCDD8lA2fg</td>\n",
              "      <td>2014-03-03</td>\n",
              "    </tr>\n",
              "  </tbody>\n",
              "</table>\n",
              "<p>33228 rows × 22 columns</p>\n",
              "</div>"
            ],
            "text/plain": [
              "       average_stars  compliment_cool  ...                 user_id  yelping_since\n",
              "0               3.94             1556  ...  om5ZiponkpRqUNa3pVPiRg     2006-01-18\n",
              "1               3.76                9  ...  D-ydMTPGWXTVm4_jjp0k9g     2013-04-01\n",
              "2               4.15                6  ...  s8bVHRqx6cI8F8HGf3A_og     2014-12-18\n",
              "3               3.95                5  ...  YJLlvBPtvB8iJg8_WKxVzQ     2014-03-01\n",
              "4               4.35               34  ...  3lil3eH4skNVzI0y3vM72w     2010-02-13\n",
              "...              ...              ...  ...                     ...            ...\n",
              "33223           2.00                0  ...  mF2SwgBpL1ImRCn82KTM5w     2011-01-15\n",
              "33224           3.83                0  ...  al3NyKEJ3KBH-AJAO-YLVw     2010-07-25\n",
              "33225           2.00                0  ...  s945Oc9CBwsNFDVOITwhTw     2013-09-01\n",
              "33226           4.00                0  ...  mau35GyHq9qDK-arfuNztQ     2012-04-23\n",
              "33227           5.00                0  ...  vP8Vm8McFdpWvCDD8lA2fg     2014-03-03\n",
              "\n",
              "[33228 rows x 22 columns]"
            ]
          },
          "metadata": {
            "tags": []
          },
          "execution_count": 14
        }
      ]
    },
    {
      "cell_type": "code",
      "metadata": {
        "id": "QSxfksrcEVlq",
        "colab_type": "code",
        "outputId": "f21666fd-e557-4483-c826-cb5e33b3cb2a",
        "colab": {
          "base_uri": "https://localhost:8080/",
          "height": 479
        }
      },
      "source": [
        "#drop unneded columns\n",
        "user_data = user_data.drop(columns = ['friends'])\n",
        "user_data.head()"
      ],
      "execution_count": 0,
      "outputs": [
        {
          "output_type": "execute_result",
          "data": {
            "text/html": [
              "<div>\n",
              "<style scoped>\n",
              "    .dataframe tbody tr th:only-of-type {\n",
              "        vertical-align: middle;\n",
              "    }\n",
              "\n",
              "    .dataframe tbody tr th {\n",
              "        vertical-align: top;\n",
              "    }\n",
              "\n",
              "    .dataframe thead th {\n",
              "        text-align: right;\n",
              "    }\n",
              "</style>\n",
              "<table border=\"1\" class=\"dataframe\">\n",
              "  <thead>\n",
              "    <tr style=\"text-align: right;\">\n",
              "      <th></th>\n",
              "      <th>average_stars</th>\n",
              "      <th>compliment_cool</th>\n",
              "      <th>compliment_cute</th>\n",
              "      <th>compliment_funny</th>\n",
              "      <th>compliment_hot</th>\n",
              "      <th>compliment_list</th>\n",
              "      <th>compliment_more</th>\n",
              "      <th>compliment_note</th>\n",
              "      <th>compliment_photos</th>\n",
              "      <th>compliment_plain</th>\n",
              "      <th>compliment_profile</th>\n",
              "      <th>compliment_writer</th>\n",
              "      <th>cool</th>\n",
              "      <th>elite</th>\n",
              "      <th>fans</th>\n",
              "      <th>funny</th>\n",
              "      <th>name</th>\n",
              "      <th>review_count</th>\n",
              "      <th>useful</th>\n",
              "      <th>user_id</th>\n",
              "      <th>yelping_since</th>\n",
              "    </tr>\n",
              "  </thead>\n",
              "  <tbody>\n",
              "    <tr>\n",
              "      <th>0</th>\n",
              "      <td>3.94</td>\n",
              "      <td>1556</td>\n",
              "      <td>211</td>\n",
              "      <td>1556</td>\n",
              "      <td>1285</td>\n",
              "      <td>101</td>\n",
              "      <td>134</td>\n",
              "      <td>1295</td>\n",
              "      <td>162</td>\n",
              "      <td>2134</td>\n",
              "      <td>74</td>\n",
              "      <td>402</td>\n",
              "      <td>40110</td>\n",
              "      <td>[2014, 2017, 2011, 2012, 2015, 2009, 2013, 200...</td>\n",
              "      <td>835</td>\n",
              "      <td>10882</td>\n",
              "      <td>Andrea</td>\n",
              "      <td>2559</td>\n",
              "      <td>83681</td>\n",
              "      <td>om5ZiponkpRqUNa3pVPiRg</td>\n",
              "      <td>2006-01-18</td>\n",
              "    </tr>\n",
              "    <tr>\n",
              "      <th>1</th>\n",
              "      <td>3.76</td>\n",
              "      <td>9</td>\n",
              "      <td>0</td>\n",
              "      <td>9</td>\n",
              "      <td>1</td>\n",
              "      <td>0</td>\n",
              "      <td>1</td>\n",
              "      <td>4</td>\n",
              "      <td>1</td>\n",
              "      <td>11</td>\n",
              "      <td>0</td>\n",
              "      <td>3</td>\n",
              "      <td>4</td>\n",
              "      <td>[2016, 2017]</td>\n",
              "      <td>11</td>\n",
              "      <td>4</td>\n",
              "      <td>Leah</td>\n",
              "      <td>436</td>\n",
              "      <td>15</td>\n",
              "      <td>D-ydMTPGWXTVm4_jjp0k9g</td>\n",
              "      <td>2013-04-01</td>\n",
              "    </tr>\n",
              "    <tr>\n",
              "      <th>2</th>\n",
              "      <td>4.15</td>\n",
              "      <td>6</td>\n",
              "      <td>0</td>\n",
              "      <td>6</td>\n",
              "      <td>2</td>\n",
              "      <td>0</td>\n",
              "      <td>0</td>\n",
              "      <td>5</td>\n",
              "      <td>1</td>\n",
              "      <td>4</td>\n",
              "      <td>0</td>\n",
              "      <td>2</td>\n",
              "      <td>7</td>\n",
              "      <td>[]</td>\n",
              "      <td>2</td>\n",
              "      <td>3</td>\n",
              "      <td>Colleen</td>\n",
              "      <td>32</td>\n",
              "      <td>19</td>\n",
              "      <td>s8bVHRqx6cI8F8HGf3A_og</td>\n",
              "      <td>2014-12-18</td>\n",
              "    </tr>\n",
              "    <tr>\n",
              "      <th>3</th>\n",
              "      <td>3.95</td>\n",
              "      <td>5</td>\n",
              "      <td>0</td>\n",
              "      <td>5</td>\n",
              "      <td>2</td>\n",
              "      <td>0</td>\n",
              "      <td>1</td>\n",
              "      <td>5</td>\n",
              "      <td>3</td>\n",
              "      <td>1</td>\n",
              "      <td>0</td>\n",
              "      <td>0</td>\n",
              "      <td>3</td>\n",
              "      <td>[2016, 2017, 2015]</td>\n",
              "      <td>7</td>\n",
              "      <td>2</td>\n",
              "      <td>Casey</td>\n",
              "      <td>72</td>\n",
              "      <td>5</td>\n",
              "      <td>YJLlvBPtvB8iJg8_WKxVzQ</td>\n",
              "      <td>2014-03-01</td>\n",
              "    </tr>\n",
              "    <tr>\n",
              "      <th>4</th>\n",
              "      <td>4.35</td>\n",
              "      <td>34</td>\n",
              "      <td>0</td>\n",
              "      <td>34</td>\n",
              "      <td>20</td>\n",
              "      <td>1</td>\n",
              "      <td>6</td>\n",
              "      <td>6</td>\n",
              "      <td>0</td>\n",
              "      <td>23</td>\n",
              "      <td>2</td>\n",
              "      <td>28</td>\n",
              "      <td>0</td>\n",
              "      <td>[2016, 2015, 2013, 2014, 2017, 2012]</td>\n",
              "      <td>18</td>\n",
              "      <td>1</td>\n",
              "      <td>George</td>\n",
              "      <td>208</td>\n",
              "      <td>11</td>\n",
              "      <td>3lil3eH4skNVzI0y3vM72w</td>\n",
              "      <td>2010-02-13</td>\n",
              "    </tr>\n",
              "  </tbody>\n",
              "</table>\n",
              "</div>"
            ],
            "text/plain": [
              "   average_stars  compliment_cool  ...                 user_id  yelping_since\n",
              "0           3.94             1556  ...  om5ZiponkpRqUNa3pVPiRg     2006-01-18\n",
              "1           3.76                9  ...  D-ydMTPGWXTVm4_jjp0k9g     2013-04-01\n",
              "2           4.15                6  ...  s8bVHRqx6cI8F8HGf3A_og     2014-12-18\n",
              "3           3.95                5  ...  YJLlvBPtvB8iJg8_WKxVzQ     2014-03-01\n",
              "4           4.35               34  ...  3lil3eH4skNVzI0y3vM72w     2010-02-13\n",
              "\n",
              "[5 rows x 21 columns]"
            ]
          },
          "metadata": {
            "tags": []
          },
          "execution_count": 116
        }
      ]
    },
    {
      "cell_type": "code",
      "metadata": {
        "id": "RKi4vXgIGEms",
        "colab_type": "code",
        "outputId": "e07350da-a9eb-4b9d-ee2d-4cd3023fb086",
        "colab": {
          "base_uri": "https://localhost:8080/",
          "height": 241
        }
      },
      "source": [
        "# extract elite year from list \n",
        "elite = []\n",
        "for i, years in enumerate(user_data['elite']):\n",
        "  if years:\n",
        "    years.sort()\n",
        "    elite.append(years[0])\n",
        "  else:\n",
        "    elite.append(None)\n",
        "\n",
        "# delete old elite column and add a new one\n",
        "user_data = user_data.drop(columns = ['elite'])\n",
        "user_data['elite_since'] = elite\n",
        "user_data.head()"
      ],
      "execution_count": 0,
      "outputs": [
        {
          "output_type": "execute_result",
          "data": {
            "text/html": [
              "<div>\n",
              "<style scoped>\n",
              "    .dataframe tbody tr th:only-of-type {\n",
              "        vertical-align: middle;\n",
              "    }\n",
              "\n",
              "    .dataframe tbody tr th {\n",
              "        vertical-align: top;\n",
              "    }\n",
              "\n",
              "    .dataframe thead th {\n",
              "        text-align: right;\n",
              "    }\n",
              "</style>\n",
              "<table border=\"1\" class=\"dataframe\">\n",
              "  <thead>\n",
              "    <tr style=\"text-align: right;\">\n",
              "      <th></th>\n",
              "      <th>average_stars</th>\n",
              "      <th>compliment_cool</th>\n",
              "      <th>compliment_cute</th>\n",
              "      <th>compliment_funny</th>\n",
              "      <th>compliment_hot</th>\n",
              "      <th>compliment_list</th>\n",
              "      <th>compliment_more</th>\n",
              "      <th>compliment_note</th>\n",
              "      <th>compliment_photos</th>\n",
              "      <th>compliment_plain</th>\n",
              "      <th>compliment_profile</th>\n",
              "      <th>compliment_writer</th>\n",
              "      <th>cool</th>\n",
              "      <th>fans</th>\n",
              "      <th>funny</th>\n",
              "      <th>name</th>\n",
              "      <th>review_count</th>\n",
              "      <th>useful</th>\n",
              "      <th>user_id</th>\n",
              "      <th>yelping_since</th>\n",
              "      <th>elite_since</th>\n",
              "    </tr>\n",
              "  </thead>\n",
              "  <tbody>\n",
              "    <tr>\n",
              "      <th>0</th>\n",
              "      <td>3.94</td>\n",
              "      <td>1556</td>\n",
              "      <td>211</td>\n",
              "      <td>1556</td>\n",
              "      <td>1285</td>\n",
              "      <td>101</td>\n",
              "      <td>134</td>\n",
              "      <td>1295</td>\n",
              "      <td>162</td>\n",
              "      <td>2134</td>\n",
              "      <td>74</td>\n",
              "      <td>402</td>\n",
              "      <td>40110</td>\n",
              "      <td>835</td>\n",
              "      <td>10882</td>\n",
              "      <td>Andrea</td>\n",
              "      <td>2559</td>\n",
              "      <td>83681</td>\n",
              "      <td>om5ZiponkpRqUNa3pVPiRg</td>\n",
              "      <td>2006-01-18</td>\n",
              "      <td>2006.0</td>\n",
              "    </tr>\n",
              "    <tr>\n",
              "      <th>1</th>\n",
              "      <td>3.76</td>\n",
              "      <td>9</td>\n",
              "      <td>0</td>\n",
              "      <td>9</td>\n",
              "      <td>1</td>\n",
              "      <td>0</td>\n",
              "      <td>1</td>\n",
              "      <td>4</td>\n",
              "      <td>1</td>\n",
              "      <td>11</td>\n",
              "      <td>0</td>\n",
              "      <td>3</td>\n",
              "      <td>4</td>\n",
              "      <td>11</td>\n",
              "      <td>4</td>\n",
              "      <td>Leah</td>\n",
              "      <td>436</td>\n",
              "      <td>15</td>\n",
              "      <td>D-ydMTPGWXTVm4_jjp0k9g</td>\n",
              "      <td>2013-04-01</td>\n",
              "      <td>2016.0</td>\n",
              "    </tr>\n",
              "    <tr>\n",
              "      <th>2</th>\n",
              "      <td>4.15</td>\n",
              "      <td>6</td>\n",
              "      <td>0</td>\n",
              "      <td>6</td>\n",
              "      <td>2</td>\n",
              "      <td>0</td>\n",
              "      <td>0</td>\n",
              "      <td>5</td>\n",
              "      <td>1</td>\n",
              "      <td>4</td>\n",
              "      <td>0</td>\n",
              "      <td>2</td>\n",
              "      <td>7</td>\n",
              "      <td>2</td>\n",
              "      <td>3</td>\n",
              "      <td>Colleen</td>\n",
              "      <td>32</td>\n",
              "      <td>19</td>\n",
              "      <td>s8bVHRqx6cI8F8HGf3A_og</td>\n",
              "      <td>2014-12-18</td>\n",
              "      <td>NaN</td>\n",
              "    </tr>\n",
              "    <tr>\n",
              "      <th>3</th>\n",
              "      <td>3.95</td>\n",
              "      <td>5</td>\n",
              "      <td>0</td>\n",
              "      <td>5</td>\n",
              "      <td>2</td>\n",
              "      <td>0</td>\n",
              "      <td>1</td>\n",
              "      <td>5</td>\n",
              "      <td>3</td>\n",
              "      <td>1</td>\n",
              "      <td>0</td>\n",
              "      <td>0</td>\n",
              "      <td>3</td>\n",
              "      <td>7</td>\n",
              "      <td>2</td>\n",
              "      <td>Casey</td>\n",
              "      <td>72</td>\n",
              "      <td>5</td>\n",
              "      <td>YJLlvBPtvB8iJg8_WKxVzQ</td>\n",
              "      <td>2014-03-01</td>\n",
              "      <td>2015.0</td>\n",
              "    </tr>\n",
              "    <tr>\n",
              "      <th>4</th>\n",
              "      <td>4.35</td>\n",
              "      <td>34</td>\n",
              "      <td>0</td>\n",
              "      <td>34</td>\n",
              "      <td>20</td>\n",
              "      <td>1</td>\n",
              "      <td>6</td>\n",
              "      <td>6</td>\n",
              "      <td>0</td>\n",
              "      <td>23</td>\n",
              "      <td>2</td>\n",
              "      <td>28</td>\n",
              "      <td>0</td>\n",
              "      <td>18</td>\n",
              "      <td>1</td>\n",
              "      <td>George</td>\n",
              "      <td>208</td>\n",
              "      <td>11</td>\n",
              "      <td>3lil3eH4skNVzI0y3vM72w</td>\n",
              "      <td>2010-02-13</td>\n",
              "      <td>2012.0</td>\n",
              "    </tr>\n",
              "  </tbody>\n",
              "</table>\n",
              "</div>"
            ],
            "text/plain": [
              "   average_stars  compliment_cool  ...  yelping_since  elite_since\n",
              "0           3.94             1556  ...     2006-01-18       2006.0\n",
              "1           3.76                9  ...     2013-04-01       2016.0\n",
              "2           4.15                6  ...     2014-12-18          NaN\n",
              "3           3.95                5  ...     2014-03-01       2015.0\n",
              "4           4.35               34  ...     2010-02-13       2012.0\n",
              "\n",
              "[5 rows x 21 columns]"
            ]
          },
          "metadata": {
            "tags": []
          },
          "execution_count": 117
        }
      ]
    },
    {
      "cell_type": "code",
      "metadata": {
        "id": "CzajqMU2DKPM",
        "colab_type": "code",
        "outputId": "c39b42a5-75b5-4355-e745-0223cfb65722",
        "colab": {
          "base_uri": "https://localhost:8080/",
          "height": 391
        }
      },
      "source": [
        "#checking for missing data\n",
        "missing_data =(user_data.isna().mean()*100)\n",
        "missing_data"
      ],
      "execution_count": 0,
      "outputs": [
        {
          "output_type": "execute_result",
          "data": {
            "text/plain": [
              "average_stars          0.000000\n",
              "compliment_cool        0.000000\n",
              "compliment_cute        0.000000\n",
              "compliment_funny       0.000000\n",
              "compliment_hot         0.000000\n",
              "compliment_list        0.000000\n",
              "compliment_more        0.000000\n",
              "compliment_note        0.000000\n",
              "compliment_photos      0.000000\n",
              "compliment_plain       0.000000\n",
              "compliment_profile     0.000000\n",
              "compliment_writer      0.000000\n",
              "cool                   0.000000\n",
              "fans                   0.000000\n",
              "funny                  0.000000\n",
              "name                   0.000000\n",
              "review_count           0.000000\n",
              "useful                 0.000000\n",
              "user_id                0.000000\n",
              "yelping_since          0.000000\n",
              "elite_since           89.259059\n",
              "dtype: float64"
            ]
          },
          "metadata": {
            "tags": []
          },
          "execution_count": 118
        }
      ]
    },
    {
      "cell_type": "code",
      "metadata": {
        "id": "8Hd-t3_kEFCV",
        "colab_type": "code",
        "colab": {}
      },
      "source": [
        "#save achieved df to csv-file\n",
        "#side menu --> Files --> name of csv-file --> download\n",
        "user_data.to_csv('user_data.csv')"
      ],
      "execution_count": 0,
      "outputs": []
    },
    {
      "cell_type": "markdown",
      "metadata": {
        "id": "s00kmk0yLF-a",
        "colab_type": "text"
      },
      "source": [
        "## Review Data"
      ]
    },
    {
      "cell_type": "code",
      "metadata": {
        "id": "wTGKHPVtLIy7",
        "colab_type": "code",
        "outputId": "a0d29411-d513-49db-cc3e-ad086eb28940",
        "colab": {
          "base_uri": "https://localhost:8080/",
          "height": 289
        }
      },
      "source": [
        "#create a df from json (incl nested jsons)\n",
        "review = []\n",
        "with urllib.request.urlopen('https://raw.githubusercontent.com/pe44enka/Yelp/master/data/review_sample_cleveland.json') as url:\n",
        "#('https://raw.githubusercontent.com/ahegel/yelp-dataset/master/data/review_sample_cleveland.json') as url:\n",
        "  for line in url:\n",
        "    review.append(json.loads(line))\n",
        "review_data = json_normalize(review)\n",
        "review_data.head()"
      ],
      "execution_count": 0,
      "outputs": [
        {
          "output_type": "execute_result",
          "data": {
            "text/html": [
              "<div>\n",
              "<style scoped>\n",
              "    .dataframe tbody tr th:only-of-type {\n",
              "        vertical-align: middle;\n",
              "    }\n",
              "\n",
              "    .dataframe tbody tr th {\n",
              "        vertical-align: top;\n",
              "    }\n",
              "\n",
              "    .dataframe thead th {\n",
              "        text-align: right;\n",
              "    }\n",
              "</style>\n",
              "<table border=\"1\" class=\"dataframe\">\n",
              "  <thead>\n",
              "    <tr style=\"text-align: right;\">\n",
              "      <th></th>\n",
              "      <th>business_id</th>\n",
              "      <th>cool</th>\n",
              "      <th>date</th>\n",
              "      <th>funny</th>\n",
              "      <th>review_id</th>\n",
              "      <th>stars</th>\n",
              "      <th>text</th>\n",
              "      <th>useful</th>\n",
              "      <th>user_id</th>\n",
              "    </tr>\n",
              "  </thead>\n",
              "  <tbody>\n",
              "    <tr>\n",
              "      <th>0</th>\n",
              "      <td>Jdqg97lLo_qJlCqU9RjIEA</td>\n",
              "      <td>1</td>\n",
              "      <td>2012-09-08</td>\n",
              "      <td>1</td>\n",
              "      <td>Bz5kR052DviDGQGV_q8VUQ</td>\n",
              "      <td>3</td>\n",
              "      <td>Dipped cone all the way! This location is tric...</td>\n",
              "      <td>1</td>\n",
              "      <td>j5yfS1QjGwNLQ0h4_wDyxg</td>\n",
              "    </tr>\n",
              "    <tr>\n",
              "      <th>1</th>\n",
              "      <td>Jdqg97lLo_qJlCqU9RjIEA</td>\n",
              "      <td>1</td>\n",
              "      <td>2016-09-17</td>\n",
              "      <td>1</td>\n",
              "      <td>Sc2eLc1kTsehqraMhrT1zg</td>\n",
              "      <td>5</td>\n",
              "      <td>Always amazing food and service. Love their ch...</td>\n",
              "      <td>0</td>\n",
              "      <td>dk8-B6hKb1XOmYJKC4Ig3Q</td>\n",
              "    </tr>\n",
              "    <tr>\n",
              "      <th>2</th>\n",
              "      <td>Jdqg97lLo_qJlCqU9RjIEA</td>\n",
              "      <td>0</td>\n",
              "      <td>2016-07-21</td>\n",
              "      <td>0</td>\n",
              "      <td>Qpz73uZ60Gk7MSKbD6Y6_A</td>\n",
              "      <td>1</td>\n",
              "      <td>This place is literally the worst. Hopefully t...</td>\n",
              "      <td>0</td>\n",
              "      <td>9RG87QSBaTmcbDu3ydQJ2g</td>\n",
              "    </tr>\n",
              "    <tr>\n",
              "      <th>3</th>\n",
              "      <td>Jdqg97lLo_qJlCqU9RjIEA</td>\n",
              "      <td>0</td>\n",
              "      <td>2017-01-28</td>\n",
              "      <td>1</td>\n",
              "      <td>NdjK8rttbevfoDwgXcL-eg</td>\n",
              "      <td>3</td>\n",
              "      <td>Very nice and new. Staff is always friendly bu...</td>\n",
              "      <td>0</td>\n",
              "      <td>y6IogOYLjAs8Mksx62vnDQ</td>\n",
              "    </tr>\n",
              "    <tr>\n",
              "      <th>4</th>\n",
              "      <td>Jdqg97lLo_qJlCqU9RjIEA</td>\n",
              "      <td>0</td>\n",
              "      <td>2014-01-17</td>\n",
              "      <td>0</td>\n",
              "      <td>2PoRWtHb6ulqr8AJv_QGhA</td>\n",
              "      <td>3</td>\n",
              "      <td>Nothing special about this place, their ice cr...</td>\n",
              "      <td>0</td>\n",
              "      <td>VKwI11qTXOxHmlh2yr_2TQ</td>\n",
              "    </tr>\n",
              "  </tbody>\n",
              "</table>\n",
              "</div>"
            ],
            "text/plain": [
              "              business_id  cool  ... useful                 user_id\n",
              "0  Jdqg97lLo_qJlCqU9RjIEA     1  ...      1  j5yfS1QjGwNLQ0h4_wDyxg\n",
              "1  Jdqg97lLo_qJlCqU9RjIEA     1  ...      0  dk8-B6hKb1XOmYJKC4Ig3Q\n",
              "2  Jdqg97lLo_qJlCqU9RjIEA     0  ...      0  9RG87QSBaTmcbDu3ydQJ2g\n",
              "3  Jdqg97lLo_qJlCqU9RjIEA     0  ...      0  y6IogOYLjAs8Mksx62vnDQ\n",
              "4  Jdqg97lLo_qJlCqU9RjIEA     0  ...      0  VKwI11qTXOxHmlh2yr_2TQ\n",
              "\n",
              "[5 rows x 9 columns]"
            ]
          },
          "metadata": {
            "tags": []
          },
          "execution_count": 17
        }
      ]
    },
    {
      "cell_type": "code",
      "metadata": {
        "id": "z0Zn6MHBb_BQ",
        "colab_type": "code",
        "outputId": "f447c55c-b044-43ee-ad4f-8d94d99d3ca2",
        "colab": {
          "base_uri": "https://localhost:8080/",
          "height": 289
        }
      },
      "source": [
        "# delete new char from reviews \n",
        "text = []\n",
        "while 1:\n",
        "  for i, review in enumerate(review_data['text']): \n",
        "    if '\\n' in text:\n",
        "      review = review.replace('\\n', ' ')\n",
        "      text.append(review)\n",
        "    else:\n",
        "      text.append(review)\n",
        "  if i == 7: break\n",
        "    \n",
        "\n",
        "# delete old text column and add a new one\n",
        "review_data = review_data.drop(columns = ['text'])\n",
        "review_data['text'] = text\n",
        "review_data.head()"
      ],
      "execution_count": 0,
      "outputs": [
        {
          "output_type": "execute_result",
          "data": {
            "text/html": [
              "<div>\n",
              "<style scoped>\n",
              "    .dataframe tbody tr th:only-of-type {\n",
              "        vertical-align: middle;\n",
              "    }\n",
              "\n",
              "    .dataframe tbody tr th {\n",
              "        vertical-align: top;\n",
              "    }\n",
              "\n",
              "    .dataframe thead th {\n",
              "        text-align: right;\n",
              "    }\n",
              "</style>\n",
              "<table border=\"1\" class=\"dataframe\">\n",
              "  <thead>\n",
              "    <tr style=\"text-align: right;\">\n",
              "      <th></th>\n",
              "      <th>business_id</th>\n",
              "      <th>cool</th>\n",
              "      <th>date</th>\n",
              "      <th>funny</th>\n",
              "      <th>review_id</th>\n",
              "      <th>stars</th>\n",
              "      <th>useful</th>\n",
              "      <th>user_id</th>\n",
              "      <th>text</th>\n",
              "    </tr>\n",
              "  </thead>\n",
              "  <tbody>\n",
              "    <tr>\n",
              "      <th>0</th>\n",
              "      <td>Jdqg97lLo_qJlCqU9RjIEA</td>\n",
              "      <td>1</td>\n",
              "      <td>2012-09-08</td>\n",
              "      <td>1</td>\n",
              "      <td>Bz5kR052DviDGQGV_q8VUQ</td>\n",
              "      <td>3</td>\n",
              "      <td>1</td>\n",
              "      <td>j5yfS1QjGwNLQ0h4_wDyxg</td>\n",
              "      <td>Dipped cone all the way! This location is tric...</td>\n",
              "    </tr>\n",
              "    <tr>\n",
              "      <th>1</th>\n",
              "      <td>Jdqg97lLo_qJlCqU9RjIEA</td>\n",
              "      <td>1</td>\n",
              "      <td>2016-09-17</td>\n",
              "      <td>1</td>\n",
              "      <td>Sc2eLc1kTsehqraMhrT1zg</td>\n",
              "      <td>5</td>\n",
              "      <td>0</td>\n",
              "      <td>dk8-B6hKb1XOmYJKC4Ig3Q</td>\n",
              "      <td>Always amazing food and service. Love their ch...</td>\n",
              "    </tr>\n",
              "    <tr>\n",
              "      <th>2</th>\n",
              "      <td>Jdqg97lLo_qJlCqU9RjIEA</td>\n",
              "      <td>0</td>\n",
              "      <td>2016-07-21</td>\n",
              "      <td>0</td>\n",
              "      <td>Qpz73uZ60Gk7MSKbD6Y6_A</td>\n",
              "      <td>1</td>\n",
              "      <td>0</td>\n",
              "      <td>9RG87QSBaTmcbDu3ydQJ2g</td>\n",
              "      <td>This place is literally the worst. Hopefully t...</td>\n",
              "    </tr>\n",
              "    <tr>\n",
              "      <th>3</th>\n",
              "      <td>Jdqg97lLo_qJlCqU9RjIEA</td>\n",
              "      <td>0</td>\n",
              "      <td>2017-01-28</td>\n",
              "      <td>1</td>\n",
              "      <td>NdjK8rttbevfoDwgXcL-eg</td>\n",
              "      <td>3</td>\n",
              "      <td>0</td>\n",
              "      <td>y6IogOYLjAs8Mksx62vnDQ</td>\n",
              "      <td>Very nice and new. Staff is always friendly bu...</td>\n",
              "    </tr>\n",
              "    <tr>\n",
              "      <th>4</th>\n",
              "      <td>Jdqg97lLo_qJlCqU9RjIEA</td>\n",
              "      <td>0</td>\n",
              "      <td>2014-01-17</td>\n",
              "      <td>0</td>\n",
              "      <td>2PoRWtHb6ulqr8AJv_QGhA</td>\n",
              "      <td>3</td>\n",
              "      <td>0</td>\n",
              "      <td>VKwI11qTXOxHmlh2yr_2TQ</td>\n",
              "      <td>Nothing special about this place, their ice cr...</td>\n",
              "    </tr>\n",
              "  </tbody>\n",
              "</table>\n",
              "</div>"
            ],
            "text/plain": [
              "              business_id  ...                                               text\n",
              "0  Jdqg97lLo_qJlCqU9RjIEA  ...  Dipped cone all the way! This location is tric...\n",
              "1  Jdqg97lLo_qJlCqU9RjIEA  ...  Always amazing food and service. Love their ch...\n",
              "2  Jdqg97lLo_qJlCqU9RjIEA  ...  This place is literally the worst. Hopefully t...\n",
              "3  Jdqg97lLo_qJlCqU9RjIEA  ...  Very nice and new. Staff is always friendly bu...\n",
              "4  Jdqg97lLo_qJlCqU9RjIEA  ...  Nothing special about this place, their ice cr...\n",
              "\n",
              "[5 rows x 9 columns]"
            ]
          },
          "metadata": {
            "tags": []
          },
          "execution_count": 144
        }
      ]
    },
    {
      "cell_type": "code",
      "metadata": {
        "id": "IGNKzXrELeQS",
        "colab_type": "code",
        "colab": {}
      },
      "source": [
        "#save achieved df to csv-file\n",
        "#side menu --> Files --> name of csv-file --> download\n",
        "review_data.to_csv('review_data.csv')"
      ],
      "execution_count": 0,
      "outputs": []
    },
    {
      "cell_type": "code",
      "metadata": {
        "id": "SGa9Oy-cIKH8",
        "colab_type": "code",
        "outputId": "875b5669-fcde-4778-cc46-48b2b3ad760f",
        "colab": {
          "base_uri": "https://localhost:8080/",
          "height": 289
        }
      },
      "source": [
        "#create a df from json (incl nested jsons)\n",
        "tip = []\n",
        "with urllib.request.urlopen('https://raw.githubusercontent.com/ahegel/yelp-dataset/master/data/tip_sample_cleveland.json') as url:\n",
        "  for line in url:\n",
        "    tip.append(json.loads(line))\n",
        "tip_data = json_normalize(tip)\n",
        "tip_data.head()"
      ],
      "execution_count": 0,
      "outputs": [
        {
          "output_type": "execute_result",
          "data": {
            "text/html": [
              "<div>\n",
              "<style scoped>\n",
              "    .dataframe tbody tr th:only-of-type {\n",
              "        vertical-align: middle;\n",
              "    }\n",
              "\n",
              "    .dataframe tbody tr th {\n",
              "        vertical-align: top;\n",
              "    }\n",
              "\n",
              "    .dataframe thead th {\n",
              "        text-align: right;\n",
              "    }\n",
              "</style>\n",
              "<table border=\"1\" class=\"dataframe\">\n",
              "  <thead>\n",
              "    <tr style=\"text-align: right;\">\n",
              "      <th></th>\n",
              "      <th>business_id</th>\n",
              "      <th>date</th>\n",
              "      <th>likes</th>\n",
              "      <th>text</th>\n",
              "      <th>user_id</th>\n",
              "    </tr>\n",
              "  </thead>\n",
              "  <tbody>\n",
              "    <tr>\n",
              "      <th>0</th>\n",
              "      <td>MTsIckdo3_uKuqk3B4zuKA</td>\n",
              "      <td>2012-10-20</td>\n",
              "      <td>0</td>\n",
              "      <td>The Cleveland Pickle is the best sandwich deli...</td>\n",
              "      <td>MolXvMRbUNY6Yr_s0zEQ0A</td>\n",
              "    </tr>\n",
              "    <tr>\n",
              "      <th>1</th>\n",
              "      <td>uv-e-d43NN-1_DcCoJL-Og</td>\n",
              "      <td>2011-11-26</td>\n",
              "      <td>0</td>\n",
              "      <td>Christmas doing for Judee do.e</td>\n",
              "      <td>blrWvPePSv87aU9hV1Zd8Q</td>\n",
              "    </tr>\n",
              "    <tr>\n",
              "      <th>2</th>\n",
              "      <td>0youcKV6-eE3F2MQj1l6Fw</td>\n",
              "      <td>2010-11-25</td>\n",
              "      <td>0</td>\n",
              "      <td>A bit different. Out at a restaurant for Thank...</td>\n",
              "      <td>blrWvPePSv87aU9hV1Zd8Q</td>\n",
              "    </tr>\n",
              "    <tr>\n",
              "      <th>3</th>\n",
              "      <td>CDqPVVvQtVncNQGydnZy7A</td>\n",
              "      <td>2012-08-10</td>\n",
              "      <td>0</td>\n",
              "      <td>Tab Benoit</td>\n",
              "      <td>JE2qFjL4BaUbiI-cT5MSBw</td>\n",
              "    </tr>\n",
              "    <tr>\n",
              "      <th>4</th>\n",
              "      <td>pGjtxXBq4tZcdKdgTU-Tww</td>\n",
              "      <td>2016-10-28</td>\n",
              "      <td>0</td>\n",
              "      <td>One of the. Eat buffet I have been to in an ve...</td>\n",
              "      <td>a4pc6NRtbGkO7koP8qrVsg</td>\n",
              "    </tr>\n",
              "  </tbody>\n",
              "</table>\n",
              "</div>"
            ],
            "text/plain": [
              "              business_id  ...                 user_id\n",
              "0  MTsIckdo3_uKuqk3B4zuKA  ...  MolXvMRbUNY6Yr_s0zEQ0A\n",
              "1  uv-e-d43NN-1_DcCoJL-Og  ...  blrWvPePSv87aU9hV1Zd8Q\n",
              "2  0youcKV6-eE3F2MQj1l6Fw  ...  blrWvPePSv87aU9hV1Zd8Q\n",
              "3  CDqPVVvQtVncNQGydnZy7A  ...  JE2qFjL4BaUbiI-cT5MSBw\n",
              "4  pGjtxXBq4tZcdKdgTU-Tww  ...  a4pc6NRtbGkO7koP8qrVsg\n",
              "\n",
              "[5 rows x 5 columns]"
            ]
          },
          "metadata": {
            "tags": []
          },
          "execution_count": 132
        }
      ]
    },
    {
      "cell_type": "code",
      "metadata": {
        "id": "7Fq9hBFKJRF7",
        "colab_type": "code",
        "colab": {}
      },
      "source": [
        "#save achieved df to csv-file\n",
        "#side menu --> Files --> name of csv-file --> download\n",
        "tip_data.to_csv('tip_data.csv')"
      ],
      "execution_count": 0,
      "outputs": []
    },
    {
      "cell_type": "markdown",
      "metadata": {
        "id": "LG_9zyV9eQpk",
        "colab_type": "text"
      },
      "source": [
        "# Data quality"
      ]
    },
    {
      "cell_type": "markdown",
      "metadata": {
        "id": "aFC8sk7NeYEV",
        "colab_type": "text"
      },
      "source": [
        "## First-look analysis"
      ]
    },
    {
      "cell_type": "code",
      "metadata": {
        "id": "blgcM59Teamu",
        "colab_type": "code",
        "outputId": "63174ce4-c72a-4c9f-872f-60442be23972",
        "colab": {
          "base_uri": "https://localhost:8080/",
          "height": 581
        }
      },
      "source": [
        "df = pd.read_csv('https://raw.githubusercontent.com/pe44enka/Yelp/master/data/FINAL_yelp_dataset_cleveland.csv')\n",
        "df.head()"
      ],
      "execution_count": 90,
      "outputs": [
        {
          "output_type": "execute_result",
          "data": {
            "text/html": [
              "<div>\n",
              "<style scoped>\n",
              "    .dataframe tbody tr th:only-of-type {\n",
              "        vertical-align: middle;\n",
              "    }\n",
              "\n",
              "    .dataframe tbody tr th {\n",
              "        vertical-align: top;\n",
              "    }\n",
              "\n",
              "    .dataframe thead th {\n",
              "        text-align: right;\n",
              "    }\n",
              "</style>\n",
              "<table border=\"1\" class=\"dataframe\">\n",
              "  <thead>\n",
              "    <tr style=\"text-align: right;\">\n",
              "      <th></th>\n",
              "      <th>ID</th>\n",
              "      <th>BUSINESS_ID</th>\n",
              "      <th>COMPANY_NAME</th>\n",
              "      <th>CATEGORIES</th>\n",
              "      <th>IS_OPEN</th>\n",
              "      <th>COMPANY_STARS</th>\n",
              "      <th>COMPANY_REVIEWS</th>\n",
              "      <th>ADDRESS</th>\n",
              "      <th>NEIGHBORHOOD</th>\n",
              "      <th>CITY</th>\n",
              "      <th>STATE</th>\n",
              "      <th>POSTAL_CODE</th>\n",
              "      <th>LATITUDE</th>\n",
              "      <th>LONGITUDE</th>\n",
              "      <th>HOURS_MONDAY</th>\n",
              "      <th>HOURS_TUESDAY</th>\n",
              "      <th>HOURS_WEDNESDAY</th>\n",
              "      <th>HOURS_THURSDAY</th>\n",
              "      <th>HOURS_FRIDAY</th>\n",
              "      <th>HOURS_SATURDAY</th>\n",
              "      <th>HOURS_SUNDAY</th>\n",
              "      <th>ACCEPT_CREDIT_CARD</th>\n",
              "      <th>PARKING_GARAGE</th>\n",
              "      <th>PARKING_STREET</th>\n",
              "      <th>PARKING_VALIDATED</th>\n",
              "      <th>PARKING_LOT</th>\n",
              "      <th>PARKING_VALLET</th>\n",
              "      <th>PARKING_BIKE</th>\n",
              "      <th>REVIEW_ID</th>\n",
              "      <th>DATE_REVIEW</th>\n",
              "      <th>STARS</th>\n",
              "      <th>REVIEW</th>\n",
              "      <th>USEFUL_REVIEW</th>\n",
              "      <th>COOL_REVIEW</th>\n",
              "      <th>FUNNY_REVIEW</th>\n",
              "      <th>USER_ID</th>\n",
              "      <th>USER_NAME</th>\n",
              "      <th>REVIEWS_BY_USER</th>\n",
              "      <th>USER_AVERAGE_STAR</th>\n",
              "      <th>YELPING_USER_SINCE</th>\n",
              "      <th>ELITE_USER_SINCE</th>\n",
              "      <th>USEFUL_USER</th>\n",
              "      <th>COOL_USER</th>\n",
              "      <th>FUNNY_USER</th>\n",
              "      <th>USER_FANS</th>\n",
              "      <th>COMPLIMENT_COOL</th>\n",
              "      <th>COMPLIMENT_CUTE</th>\n",
              "      <th>COMPLIMENT_FUNNY</th>\n",
              "      <th>COMPLIMENT_HOT</th>\n",
              "      <th>COMPLIMENT_LIST</th>\n",
              "      <th>COMPLIMENT_MORE</th>\n",
              "      <th>COMPLIMENT_NOTE</th>\n",
              "      <th>COMPLIMENT_PHOTOS</th>\n",
              "      <th>COMPLIMENT_PLAIN</th>\n",
              "      <th>COMPLIMENT_PROFILE</th>\n",
              "      <th>COMPLIMENT_WRITER</th>\n",
              "    </tr>\n",
              "  </thead>\n",
              "  <tbody>\n",
              "    <tr>\n",
              "      <th>0</th>\n",
              "      <td>1645</td>\n",
              "      <td>tulUhFYMvBkYHsjmn30A9w</td>\n",
              "      <td>Hot Sauce Williams Barbecue Restaurant</td>\n",
              "      <td>Restaurants</td>\n",
              "      <td>1</td>\n",
              "      <td>3.0</td>\n",
              "      <td>154</td>\n",
              "      <td>7815 Carnegie Ave</td>\n",
              "      <td>Fairfax</td>\n",
              "      <td>Cleveland</td>\n",
              "      <td>OH</td>\n",
              "      <td>44103.0</td>\n",
              "      <td>41.501728</td>\n",
              "      <td>-81.633927</td>\n",
              "      <td>11:00-21:00</td>\n",
              "      <td>11:00-21:00</td>\n",
              "      <td>11:00-21:00</td>\n",
              "      <td>11:00-21:00</td>\n",
              "      <td>11:00-21:00</td>\n",
              "      <td>12:00-0:00</td>\n",
              "      <td>11:00-21:00</td>\n",
              "      <td>True</td>\n",
              "      <td>False</td>\n",
              "      <td>False</td>\n",
              "      <td>False</td>\n",
              "      <td>True</td>\n",
              "      <td>False</td>\n",
              "      <td>True</td>\n",
              "      <td>RYHKUSUyPeaU38RytDtZww</td>\n",
              "      <td>2/2/13</td>\n",
              "      <td>2</td>\n",
              "      <td>\"I've been going to Hot Sauce Williams for the...</td>\n",
              "      <td>10</td>\n",
              "      <td>3</td>\n",
              "      <td>7</td>\n",
              "      <td>kEEx6yEf81i9Wk5Ww1q6GA</td>\n",
              "      <td>Samuel</td>\n",
              "      <td>86</td>\n",
              "      <td>3.42</td>\n",
              "      <td>18-04-2009</td>\n",
              "      <td>2013.0</td>\n",
              "      <td>88</td>\n",
              "      <td>14</td>\n",
              "      <td>32</td>\n",
              "      <td>1</td>\n",
              "      <td>4</td>\n",
              "      <td>0</td>\n",
              "      <td>4</td>\n",
              "      <td>3</td>\n",
              "      <td>0</td>\n",
              "      <td>0</td>\n",
              "      <td>0</td>\n",
              "      <td>0</td>\n",
              "      <td>2</td>\n",
              "      <td>0</td>\n",
              "      <td>5</td>\n",
              "    </tr>\n",
              "    <tr>\n",
              "      <th>1</th>\n",
              "      <td>1645</td>\n",
              "      <td>tulUhFYMvBkYHsjmn30A9w</td>\n",
              "      <td>Hot Sauce Williams Barbecue Restaurant</td>\n",
              "      <td>Restaurants</td>\n",
              "      <td>1</td>\n",
              "      <td>3.0</td>\n",
              "      <td>154</td>\n",
              "      <td>7815 Carnegie Ave</td>\n",
              "      <td>Fairfax</td>\n",
              "      <td>Cleveland</td>\n",
              "      <td>OH</td>\n",
              "      <td>44103.0</td>\n",
              "      <td>41.501728</td>\n",
              "      <td>-81.633927</td>\n",
              "      <td>11:00-21:00</td>\n",
              "      <td>11:00-21:00</td>\n",
              "      <td>11:00-21:00</td>\n",
              "      <td>11:00-21:00</td>\n",
              "      <td>11:00-21:00</td>\n",
              "      <td>12:00-0:00</td>\n",
              "      <td>11:00-21:00</td>\n",
              "      <td>True</td>\n",
              "      <td>False</td>\n",
              "      <td>False</td>\n",
              "      <td>False</td>\n",
              "      <td>True</td>\n",
              "      <td>False</td>\n",
              "      <td>True</td>\n",
              "      <td>yUeBnTvqPNB8Ay_5PS3kWg</td>\n",
              "      <td>3/6/09</td>\n",
              "      <td>2</td>\n",
              "      <td>\"My girlfriend and I been dying to try this pl...</td>\n",
              "      <td>3</td>\n",
              "      <td>3</td>\n",
              "      <td>3</td>\n",
              "      <td>Jyi0WJt0UfGdEg0grR38ZA</td>\n",
              "      <td>Sam</td>\n",
              "      <td>69</td>\n",
              "      <td>3.42</td>\n",
              "      <td>20-11-2008</td>\n",
              "      <td>2010.0</td>\n",
              "      <td>5</td>\n",
              "      <td>5</td>\n",
              "      <td>2</td>\n",
              "      <td>4</td>\n",
              "      <td>14</td>\n",
              "      <td>0</td>\n",
              "      <td>14</td>\n",
              "      <td>14</td>\n",
              "      <td>0</td>\n",
              "      <td>2</td>\n",
              "      <td>12</td>\n",
              "      <td>1</td>\n",
              "      <td>12</td>\n",
              "      <td>0</td>\n",
              "      <td>5</td>\n",
              "    </tr>\n",
              "    <tr>\n",
              "      <th>2</th>\n",
              "      <td>1645</td>\n",
              "      <td>tulUhFYMvBkYHsjmn30A9w</td>\n",
              "      <td>Hot Sauce Williams Barbecue Restaurant</td>\n",
              "      <td>Restaurants</td>\n",
              "      <td>1</td>\n",
              "      <td>3.0</td>\n",
              "      <td>154</td>\n",
              "      <td>7815 Carnegie Ave</td>\n",
              "      <td>Fairfax</td>\n",
              "      <td>Cleveland</td>\n",
              "      <td>OH</td>\n",
              "      <td>44103.0</td>\n",
              "      <td>41.501728</td>\n",
              "      <td>-81.633927</td>\n",
              "      <td>11:00-21:00</td>\n",
              "      <td>11:00-21:00</td>\n",
              "      <td>11:00-21:00</td>\n",
              "      <td>11:00-21:00</td>\n",
              "      <td>11:00-21:00</td>\n",
              "      <td>12:00-0:00</td>\n",
              "      <td>11:00-21:00</td>\n",
              "      <td>True</td>\n",
              "      <td>False</td>\n",
              "      <td>False</td>\n",
              "      <td>False</td>\n",
              "      <td>True</td>\n",
              "      <td>False</td>\n",
              "      <td>True</td>\n",
              "      <td>q0cL9c_IQPjaGFIA64COFA</td>\n",
              "      <td>1/4/15</td>\n",
              "      <td>1</td>\n",
              "      <td>Worst food I've ever had the laziest service. ...</td>\n",
              "      <td>0</td>\n",
              "      <td>0</td>\n",
              "      <td>0</td>\n",
              "      <td>RyixLoQmLZt5BWp6xJZ5uQ</td>\n",
              "      <td>Vince</td>\n",
              "      <td>7</td>\n",
              "      <td>4.43</td>\n",
              "      <td>23-10-2012</td>\n",
              "      <td>NaN</td>\n",
              "      <td>0</td>\n",
              "      <td>0</td>\n",
              "      <td>1</td>\n",
              "      <td>0</td>\n",
              "      <td>0</td>\n",
              "      <td>0</td>\n",
              "      <td>0</td>\n",
              "      <td>0</td>\n",
              "      <td>0</td>\n",
              "      <td>0</td>\n",
              "      <td>1</td>\n",
              "      <td>0</td>\n",
              "      <td>0</td>\n",
              "      <td>0</td>\n",
              "      <td>0</td>\n",
              "    </tr>\n",
              "    <tr>\n",
              "      <th>3</th>\n",
              "      <td>1645</td>\n",
              "      <td>tulUhFYMvBkYHsjmn30A9w</td>\n",
              "      <td>Hot Sauce Williams Barbecue Restaurant</td>\n",
              "      <td>Restaurants</td>\n",
              "      <td>1</td>\n",
              "      <td>3.0</td>\n",
              "      <td>154</td>\n",
              "      <td>7815 Carnegie Ave</td>\n",
              "      <td>Fairfax</td>\n",
              "      <td>Cleveland</td>\n",
              "      <td>OH</td>\n",
              "      <td>44103.0</td>\n",
              "      <td>41.501728</td>\n",
              "      <td>-81.633927</td>\n",
              "      <td>11:00-21:00</td>\n",
              "      <td>11:00-21:00</td>\n",
              "      <td>11:00-21:00</td>\n",
              "      <td>11:00-21:00</td>\n",
              "      <td>11:00-21:00</td>\n",
              "      <td>12:00-0:00</td>\n",
              "      <td>11:00-21:00</td>\n",
              "      <td>True</td>\n",
              "      <td>False</td>\n",
              "      <td>False</td>\n",
              "      <td>False</td>\n",
              "      <td>True</td>\n",
              "      <td>False</td>\n",
              "      <td>True</td>\n",
              "      <td>tBtVsv9M__Zl4xqQ7xN9AQ</td>\n",
              "      <td>4/16/15</td>\n",
              "      <td>4</td>\n",
              "      <td>\"Hot Sauce Williams is a Cleveland institution...</td>\n",
              "      <td>2</td>\n",
              "      <td>0</td>\n",
              "      <td>0</td>\n",
              "      <td>3AC_liBwORA9w18CIrGxcQ</td>\n",
              "      <td>Doug</td>\n",
              "      <td>34</td>\n",
              "      <td>3.81</td>\n",
              "      <td>05-07-2013</td>\n",
              "      <td>NaN</td>\n",
              "      <td>10</td>\n",
              "      <td>6</td>\n",
              "      <td>7</td>\n",
              "      <td>2</td>\n",
              "      <td>0</td>\n",
              "      <td>0</td>\n",
              "      <td>0</td>\n",
              "      <td>0</td>\n",
              "      <td>0</td>\n",
              "      <td>0</td>\n",
              "      <td>1</td>\n",
              "      <td>0</td>\n",
              "      <td>0</td>\n",
              "      <td>0</td>\n",
              "      <td>0</td>\n",
              "    </tr>\n",
              "    <tr>\n",
              "      <th>4</th>\n",
              "      <td>325</td>\n",
              "      <td>Jdqg97lLo_qJlCqU9RjIEA</td>\n",
              "      <td>Dairy Queen</td>\n",
              "      <td>Restaurants</td>\n",
              "      <td>1</td>\n",
              "      <td>3.0</td>\n",
              "      <td>6</td>\n",
              "      <td>12980 W Sprague Rd</td>\n",
              "      <td>NaN</td>\n",
              "      <td>Cleveland</td>\n",
              "      <td>OH</td>\n",
              "      <td>44130.0</td>\n",
              "      <td>41.351026</td>\n",
              "      <td>-81.784108</td>\n",
              "      <td>NaN</td>\n",
              "      <td>NaN</td>\n",
              "      <td>NaN</td>\n",
              "      <td>NaN</td>\n",
              "      <td>NaN</td>\n",
              "      <td>NaN</td>\n",
              "      <td>NaN</td>\n",
              "      <td>True</td>\n",
              "      <td>False</td>\n",
              "      <td>False</td>\n",
              "      <td>False</td>\n",
              "      <td>False</td>\n",
              "      <td>False</td>\n",
              "      <td>True</td>\n",
              "      <td>Bz5kR052DviDGQGV_q8VUQ</td>\n",
              "      <td>9/8/12</td>\n",
              "      <td>3</td>\n",
              "      <td>\"Dipped cone all the way! This location is tri...</td>\n",
              "      <td>1</td>\n",
              "      <td>1</td>\n",
              "      <td>1</td>\n",
              "      <td>j5yfS1QjGwNLQ0h4_wDyxg</td>\n",
              "      <td>Alexis</td>\n",
              "      <td>550</td>\n",
              "      <td>4.10</td>\n",
              "      <td>20-05-2008</td>\n",
              "      <td>2012.0</td>\n",
              "      <td>332</td>\n",
              "      <td>211</td>\n",
              "      <td>233</td>\n",
              "      <td>88</td>\n",
              "      <td>78</td>\n",
              "      <td>12</td>\n",
              "      <td>78</td>\n",
              "      <td>44</td>\n",
              "      <td>3</td>\n",
              "      <td>5</td>\n",
              "      <td>38</td>\n",
              "      <td>19</td>\n",
              "      <td>66</td>\n",
              "      <td>15</td>\n",
              "      <td>35</td>\n",
              "    </tr>\n",
              "  </tbody>\n",
              "</table>\n",
              "</div>"
            ],
            "text/plain": [
              "     ID             BUSINESS_ID  ... COMPLIMENT_PROFILE COMPLIMENT_WRITER\n",
              "0  1645  tulUhFYMvBkYHsjmn30A9w  ...                  0                 5\n",
              "1  1645  tulUhFYMvBkYHsjmn30A9w  ...                  0                 5\n",
              "2  1645  tulUhFYMvBkYHsjmn30A9w  ...                  0                 0\n",
              "3  1645  tulUhFYMvBkYHsjmn30A9w  ...                  0                 0\n",
              "4   325  Jdqg97lLo_qJlCqU9RjIEA  ...                 15                35\n",
              "\n",
              "[5 rows x 56 columns]"
            ]
          },
          "metadata": {
            "tags": []
          },
          "execution_count": 90
        }
      ]
    },
    {
      "cell_type": "code",
      "metadata": {
        "id": "Px2kbWF9xnME",
        "colab_type": "code",
        "outputId": "54ec51a8-a5b3-4d6d-b7eb-7b7be04489fc",
        "colab": {
          "base_uri": "https://localhost:8080/",
          "height": 986
        }
      },
      "source": [
        "df.dtypes"
      ],
      "execution_count": 0,
      "outputs": [
        {
          "output_type": "execute_result",
          "data": {
            "text/plain": [
              "ID                      int64\n",
              "BUSINESS_ID            object\n",
              "COMPANY_NAME           object\n",
              "CATEGORIES             object\n",
              "IS_OPEN                 int64\n",
              "COMPANY_STARS         float64\n",
              "COMPANY_REVIEWS         int64\n",
              "ADDRESS                object\n",
              "NEIGHBORHOOD           object\n",
              "CITY                   object\n",
              "STATE                  object\n",
              "POSTAL_CODE           float64\n",
              "LATITUDE              float64\n",
              "LONGITUDE             float64\n",
              "HOURS_MONDAY           object\n",
              "HOURS_TUESDAY          object\n",
              "HOURS_WEDNESDAY        object\n",
              "HOURS_THURSDAY         object\n",
              "HOURS_FRIDAY           object\n",
              "HOURS_SATURDAY         object\n",
              "HOURS_SUNDAY           object\n",
              "ACCEPT_CREDIT_CARD     object\n",
              "PARKING_GARAGE         object\n",
              "PARKING_STREET         object\n",
              "PARKING_VALIDATED      object\n",
              "PARKING_LOT            object\n",
              "PARKING_VALLET         object\n",
              "PARKING_BIKE           object\n",
              "REVIEW_ID              object\n",
              "DATE_REVIEW            object\n",
              "STARS                   int64\n",
              "REVIEW                 object\n",
              "USEFUL_REVIEW           int64\n",
              "COOL_REVIEW             int64\n",
              "FUNNY_REVIEW            int64\n",
              "USER_ID                object\n",
              "USER_NAME              object\n",
              "REVIEWS_BY_USER         int64\n",
              "USER_AVERAGE_STAR     float64\n",
              "YELPING_USER_SINCE     object\n",
              "ELITE_USER_SINCE      float64\n",
              "USEFUL_USER             int64\n",
              "COOL_USER               int64\n",
              "FUNNY_USER              int64\n",
              "USER_FANS               int64\n",
              "COMPLIMENT_COOL         int64\n",
              "COMPLIMENT_CUTE         int64\n",
              "COMPLIMENT_FUNNY        int64\n",
              "COMPLIMENT_HOT          int64\n",
              "COMPLIMENT_LIST         int64\n",
              "COMPLIMENT_MORE         int64\n",
              "COMPLIMENT_NOTE         int64\n",
              "COMPLIMENT_PHOTOS       int64\n",
              "COMPLIMENT_PLAIN        int64\n",
              "COMPLIMENT_PROFILE      int64\n",
              "COMPLIMENT_WRITER       int64\n",
              "dtype: object"
            ]
          },
          "metadata": {
            "tags": []
          },
          "execution_count": 8
        }
      ]
    },
    {
      "cell_type": "markdown",
      "metadata": {
        "id": "Er9XhbFFEHmx",
        "colab_type": "text"
      },
      "source": [
        "## Categories"
      ]
    },
    {
      "cell_type": "code",
      "metadata": {
        "id": "6r41tpd2EogZ",
        "colab_type": "code",
        "outputId": "51c004b7-a2fd-46e5-991e-b6b28f1810ea",
        "colab": {
          "base_uri": "https://localhost:8080/",
          "height": 221
        }
      },
      "source": [
        "df.CATEGORIES.value_counts(dropna = False)"
      ],
      "execution_count": 0,
      "outputs": [
        {
          "output_type": "execute_result",
          "data": {
            "text/plain": [
              "Restaurants               18356\n",
              "Food                       5340\n",
              "Bars                       4580\n",
              "Nightlife                  3557\n",
              "American (Traditional)     2836\n",
              "                          ...  \n",
              "Keys & Locksmiths             3\n",
              "Massage Therapy               3\n",
              "Employment Law                3\n",
              "Masonry/Concrete              3\n",
              "Electronics                   2\n",
              "Name: CATEGORIES, Length: 393, dtype: int64"
            ]
          },
          "metadata": {
            "tags": []
          },
          "execution_count": 9
        }
      ]
    },
    {
      "cell_type": "code",
      "metadata": {
        "id": "NB04YOZ4E9e7",
        "colab_type": "code",
        "outputId": "36f7545c-e9e5-46ff-8813-16c7d8b70a32",
        "colab": {
          "base_uri": "https://localhost:8080/",
          "height": 221
        }
      },
      "source": [
        "def limit_categories(val):\n",
        "  if val in ('Restaurants', 'Food', 'American (Traditional)', 'American (New)', \n",
        "             'Pizza', 'Breakfast & Brunch', 'Sandwiches', 'Seafood', 'Italian', 'Salad',\n",
        "             'Mexican', 'Ice Cream & Frozen Yogurt', 'Coffee & Tea', 'Mediterranean',\n",
        "             'Sushi Bars', 'Chinese', 'Soup', 'Bakeries', 'Thai', 'French', \n",
        "             'Asian Fusion', 'Burgers', 'Fast Food', 'Noodles', 'Diners', 'Vietnamese',\n",
        "             'Japanese', 'Specialty Food', 'Caterers', 'Gluten-Free', 'Indian',\n",
        "             'Steakhouses', 'Grocery', 'Vegetarian', 'Cajun/Creole','Delis',\n",
        "             'Middle Eastern', 'Cambodian', 'Donuts', 'Cafes', 'Ethnic Food',\n",
        "             'Tapas/Small Plates', 'Desserts', 'Barbeque', 'Southern', 'Brazilian', \n",
        "             'Lebanese', 'Bagels', 'Szechuan', 'Soul Food', 'Comford Food','Salvadoran',\n",
        "             'Vegan', 'Mongolian', 'Irish', 'Tea Rooms','Buffets', 'Chicken Wings',\n",
        "             'Comfort Food', 'Juice Bars & Smoothies', 'Greek', 'Gastropubs',\n",
        "             'British', 'Korean', 'Cuban', 'Cupcakes', 'Caribbean','Food Stands',\n",
        "             'Tacos','Creperies'):\n",
        "    return ('restaurants')\n",
        "  elif val in ('Bars', 'Nightlife', 'Breweries', 'Lounges', 'Pubs', 'Cocktail Bars', \n",
        "               'Wine Bars', 'Beer', 'Beer Bar', 'Dance Clubs', 'Sports Bars', \n",
        "               'Dive Bars', 'Beer Gardens'):\n",
        "    return('bars')\n",
        "  elif val in ('Beauty & Spas', 'Polish', 'Hair Salons', 'Nail Salons', 'Hair Removal',\n",
        "                  'Barbers', 'Day Spas', 'Hair Stylists'):\n",
        "    return('beauty_spa')\n",
        "  elif val in ('Hotels & Travel', 'Hotels', 'Airports','Car Rental', 'Transportation',\n",
        "               'Resorts', 'Airlines'):\n",
        "    return('travel')\n",
        "  elif val in ('Public Services & Government', 'Local Services', 'Education', 'Home Services'):\n",
        "    return('public_service')\n",
        "  elif val in ('Arts & Entertainment', 'Event Planning & Services', 'Venues & Event Spaces', \n",
        "               'Shopping', 'Active Life', 'Adult Entertainment', 'Museums', 'Stadiums & Arenas',\n",
        "               'Fashion', 'Music & DVDs', 'Music Venues', 'Cinema', 'Gyms', 'Art Galleries',\n",
        "               'Fitness & Instruction', 'Aquariums', 'Performing Arts', \"Women's Clothing\",\n",
        "               'Yoga','Shopping Centers', 'Party & Event Planning', 'Wedding Planning', \n",
        "               'Festivals'):\n",
        "    return('entertainment')\n",
        "  return 'other'\n",
        "\n",
        "df.CATEGORIES.apply(limit_categories).value_counts()"
      ],
      "execution_count": 140,
      "outputs": [
        {
          "output_type": "execute_result",
          "data": {
            "text/plain": [
              "0        restaurants\n",
              "1        restaurants\n",
              "2        restaurants\n",
              "3        restaurants\n",
              "4        restaurants\n",
              "            ...     \n",
              "88511    restaurants\n",
              "88512    restaurants\n",
              "88513          other\n",
              "88514          other\n",
              "88515          other\n",
              "Name: CATEGORIES, Length: 88516, dtype: object"
            ]
          },
          "metadata": {
            "tags": []
          },
          "execution_count": 140
        }
      ]
    },
    {
      "cell_type": "markdown",
      "metadata": {
        "id": "1-r32zL_vNRk",
        "colab_type": "text"
      },
      "source": [
        "## Is Open"
      ]
    },
    {
      "cell_type": "code",
      "metadata": {
        "id": "hWOL00levMZl",
        "colab_type": "code",
        "colab": {
          "base_uri": "https://localhost:8080/",
          "height": 68
        },
        "outputId": "b735891a-8a55-4bc0-ff9b-cd49c2b02d63"
      },
      "source": [
        "df.IS_OPEN.value_counts(dropna = False)"
      ],
      "execution_count": 37,
      "outputs": [
        {
          "output_type": "execute_result",
          "data": {
            "text/plain": [
              "1    79325\n",
              "0     9191\n",
              "Name: IS_OPEN, dtype: int64"
            ]
          },
          "metadata": {
            "tags": []
          },
          "execution_count": 37
        }
      ]
    },
    {
      "cell_type": "markdown",
      "metadata": {
        "id": "cMuSzFs6v-4m",
        "colab_type": "text"
      },
      "source": [
        "## Company Star"
      ]
    },
    {
      "cell_type": "code",
      "metadata": {
        "id": "S6UQbfPZwIVD",
        "colab_type": "code",
        "colab": {
          "base_uri": "https://localhost:8080/",
          "height": 187
        },
        "outputId": "29400adb-5901-412e-83d3-424114cd1d66"
      },
      "source": [
        "df.COMPANY_STARS.value_counts(dropna=False)"
      ],
      "execution_count": 36,
      "outputs": [
        {
          "output_type": "execute_result",
          "data": {
            "text/plain": [
              "4.0    33907\n",
              "3.5    17977\n",
              "4.5    15627\n",
              "3.0    10718\n",
              "2.5     4222\n",
              "5.0     3213\n",
              "2.0     1681\n",
              "1.5      879\n",
              "1.0      292\n",
              "Name: COMPANY_STARS, dtype: int64"
            ]
          },
          "metadata": {
            "tags": []
          },
          "execution_count": 36
        }
      ]
    },
    {
      "cell_type": "code",
      "metadata": {
        "id": "f8lYCdnm27zx",
        "colab_type": "code",
        "colab": {
          "base_uri": "https://localhost:8080/",
          "height": 34
        },
        "outputId": "6b049a13-a48d-42b3-b964-9f46f6923f8a"
      },
      "source": [
        "df.COMPANY_STARS.isna().sum()"
      ],
      "execution_count": 81,
      "outputs": [
        {
          "output_type": "execute_result",
          "data": {
            "text/plain": [
              "0"
            ]
          },
          "metadata": {
            "tags": []
          },
          "execution_count": 81
        }
      ]
    },
    {
      "cell_type": "markdown",
      "metadata": {
        "id": "01BKOLTLxI9H",
        "colab_type": "text"
      },
      "source": [
        "## Company_review"
      ]
    },
    {
      "cell_type": "code",
      "metadata": {
        "id": "pq8VaTdRxLZE",
        "colab_type": "code",
        "colab": {
          "base_uri": "https://localhost:8080/",
          "height": 221
        },
        "outputId": "e6fc3787-0e56-48af-f0f8-14c480ce96ae"
      },
      "source": [
        "df.COMPANY_REVIEWS.value_counts(dropna=False)"
      ],
      "execution_count": 74,
      "outputs": [
        {
          "output_type": "execute_result",
          "data": {
            "text/plain": [
              "3      1558\n",
              "4      1334\n",
              "5      1251\n",
              "6      1145\n",
              "35     1004\n",
              "       ... \n",
              "113     112\n",
              "112     112\n",
              "52      102\n",
              "92       89\n",
              "68       68\n",
              "Name: COMPANY_REVIEWS, Length: 224, dtype: int64"
            ]
          },
          "metadata": {
            "tags": []
          },
          "execution_count": 74
        }
      ]
    },
    {
      "cell_type": "markdown",
      "metadata": {
        "id": "YC0ISum32TH0",
        "colab_type": "text"
      },
      "source": [
        "## Review Bin"
      ]
    },
    {
      "cell_type": "code",
      "metadata": {
        "id": "630aFxEfymd7",
        "colab_type": "code",
        "colab": {
          "base_uri": "https://localhost:8080/",
          "height": 136
        },
        "outputId": "5995483a-c2ba-41d6-c106-a0bafe74a365"
      },
      "source": [
        "review_bin = pd.cut(df.COMPANY_REVIEWS, bins=6, labels=['2-150', '151-300', '301-450', '451-600', '600-750', '750-900'])\n",
        "review_bin.value_counts(dropna=False)"
      ],
      "execution_count": 95,
      "outputs": [
        {
          "output_type": "execute_result",
          "data": {
            "text/plain": [
              "2-150      59348\n",
              "151-300    14537\n",
              "301-450     5935\n",
              "451-600     4349\n",
              "600-750     2618\n",
              "750-900     1729\n",
              "Name: COMPANY_REVIEWS, dtype: int64"
            ]
          },
          "metadata": {
            "tags": []
          },
          "execution_count": 95
        }
      ]
    },
    {
      "cell_type": "code",
      "metadata": {
        "id": "zgp9Ass9AF9I",
        "colab_type": "code",
        "colab": {
          "base_uri": "https://localhost:8080/",
          "height": 136
        },
        "outputId": "d1228cf7-526b-49a8-eaa5-d269594ec34d"
      },
      "source": [
        "pd.cut(df.COMPANY_REVIEWS, bins=6).value_counts()"
      ],
      "execution_count": 94,
      "outputs": [
        {
          "output_type": "execute_result",
          "data": {
            "text/plain": [
              "(2.107, 151.833]      59348\n",
              "(151.833, 300.667]    14537\n",
              "(300.667, 449.5]       5935\n",
              "(449.5, 598.333]       4349\n",
              "(598.333, 747.167]     2618\n",
              "(747.167, 896.0]       1729\n",
              "Name: COMPANY_REVIEWS, dtype: int64"
            ]
          },
          "metadata": {
            "tags": []
          },
          "execution_count": 94
        }
      ]
    },
    {
      "cell_type": "markdown",
      "metadata": {
        "id": "ICvi19y-HeVK",
        "colab_type": "text"
      },
      "source": [
        "## Address"
      ]
    },
    {
      "cell_type": "code",
      "metadata": {
        "id": "Y914cP1lBvJB",
        "colab_type": "code",
        "outputId": "d3fdb7ad-bf74-4498-dfae-e98baf0bb475",
        "colab": {
          "base_uri": "https://localhost:8080/",
          "height": 221
        }
      },
      "source": [
        "df.ADDRESS.value_counts(dropna = False)"
      ],
      "execution_count": 80,
      "outputs": [
        {
          "output_type": "execute_result",
          "data": {
            "text/plain": [
              "5300 Riverside Dr    1256\n",
              "2038 E 4th St         885\n",
              "2058 E 4th St         844\n",
              "NaN                   745\n",
              "2516 Market Ave       687\n",
              "                     ... \n",
              "4301 State Rd           2\n",
              "16902 Harvard Ave       2\n",
              "435 E 200th St          2\n",
              "6347 State Rd           2\n",
              "6405 York Rd            2\n",
              "Name: ADDRESS, Length: 2622, dtype: int64"
            ]
          },
          "metadata": {
            "tags": []
          },
          "execution_count": 80
        }
      ]
    },
    {
      "cell_type": "code",
      "metadata": {
        "id": "dqQV34bW3MSP",
        "colab_type": "code",
        "colab": {
          "base_uri": "https://localhost:8080/",
          "height": 323
        },
        "outputId": "a8cf9a2b-d875-4652-90b3-f436c34ddd17"
      },
      "source": [
        "def limit_address(val):\n",
        "  if val in ('Euclid Ave', 'W 25th St', 'E 4th St', 'Lorain Ave', 'Mayfield Rd', 'Detroit Ave', 'Lee Rd', 'Coventry Rd', \n",
        "             'Professor Ave', 'Cedar Rd', 'W 11th St', 'Pearl Rd', 'Riverside Dr', 'Market Ave', 'W 6th St', 'Fulton Rd'):\n",
        "    return val\n",
        "  return 'other'\n",
        "\n",
        "(df.ADDRESS\n",
        " .str.split(' ', 1 ,expand = True)\n",
        " .loc[:,1]\n",
        " .apply(limit_address)\n",
        " .value_counts().head(20)\n",
        " )"
      ],
      "execution_count": 94,
      "outputs": [
        {
          "output_type": "execute_result",
          "data": {
            "text/plain": [
              "other            47956\n",
              "Euclid Ave        6739\n",
              "W 25th St         4474\n",
              "E 4th St          3674\n",
              "Lorain Ave        3633\n",
              "Mayfield Rd       3269\n",
              "Detroit Ave       3180\n",
              "Lee Rd            2481\n",
              "Coventry Rd       2422\n",
              "Professor Ave     1661\n",
              "Cedar Rd          1642\n",
              "W 11th St         1280\n",
              "Pearl Rd          1260\n",
              "Riverside Dr      1256\n",
              "Market Ave        1207\n",
              "W 6th St          1196\n",
              "Fulton Rd         1186\n",
              "Name: 1, dtype: int64"
            ]
          },
          "metadata": {
            "tags": []
          },
          "execution_count": 94
        }
      ]
    },
    {
      "cell_type": "markdown",
      "metadata": {
        "id": "o-zz1VPDAxaC",
        "colab_type": "text"
      },
      "source": [
        "## Neighborhood"
      ]
    },
    {
      "cell_type": "code",
      "metadata": {
        "id": "wRvZKacdDzxP",
        "colab_type": "code",
        "outputId": "ec66cc07-0654-4b82-e8e8-719893381a0a",
        "colab": {
          "base_uri": "https://localhost:8080/",
          "height": 884
        }
      },
      "source": [
        "df.NEIGHBORHOOD.value_counts(dropna = False)"
      ],
      "execution_count": 0,
      "outputs": [
        {
          "output_type": "execute_result",
          "data": {
            "text/plain": [
              "NaN                   21430\n",
              "Gateway District      12570\n",
              "Ohio City             10647\n",
              "Tremont                8069\n",
              "Detroit-Shoreway       3965\n",
              "Goodrich Kirtland      3388\n",
              "Warehouse District     3258\n",
              "University             2884\n",
              "Little Italy           2268\n",
              "Riverside              2056\n",
              "Civic Center           2021\n",
              "Old Brooklyn           1484\n",
              "Playhouse Square       1456\n",
              "Edgewater              1350\n",
              "Jefferson              1346\n",
              "Northeast District     1319\n",
              "Tower City             1289\n",
              "East Bank              1176\n",
              "Quadrangle              861\n",
              "West Bank               771\n",
              "Fairfax                 663\n",
              "Northeast Shores        643\n",
              "North Collinwood        389\n",
              "West Boulevard          388\n",
              "Central                 296\n",
              "St Clair-Superior       260\n",
              "Puritas-Longmead        246\n",
              "Clark-Fulton            245\n",
              "Cascade Crossing        209\n",
              "Cudell                  206\n",
              "Brooklyn-Centre         175\n",
              "Chinatown               135\n",
              "South Broadway          124\n",
              "Glenville               112\n",
              "The Flats               104\n",
              "Hough                    95\n",
              "South Collinwood         82\n",
              "Whiskey Island           77\n",
              "Stockyards               75\n",
              "Brooklyn                 72\n",
              "Forrest Hill             64\n",
              "East Cleveland           58\n",
              "Industrial Valley        47\n",
              "Ridge & Memphis          45\n",
              "North Broadway           35\n",
              "East 185th               32\n",
              "Euclid-Green             13\n",
              "Kinsman                   8\n",
              "Windemere                 7\n",
              "Brooklyn Acres            3\n",
              "Name: NEIGHBORHOOD, dtype: int64"
            ]
          },
          "metadata": {
            "tags": []
          },
          "execution_count": 12
        }
      ]
    },
    {
      "cell_type": "code",
      "metadata": {
        "id": "Pa-9t1KAFJKE",
        "colab_type": "code",
        "outputId": "dc051fec-e253-4ad0-96c2-b0f865e55eac",
        "colab": {
          "base_uri": "https://localhost:8080/",
          "height": 221
        }
      },
      "source": [
        "def limit_neighborhood(val):\n",
        "  if val in ('Gateway District', 'Ohio City', 'Tremont', 'Detroit-Shoreway', 'Goodrich Kirtland',\n",
        "            'Warehouse District', 'University', 'Little Italy', 'Riverside', 'Civic Center'):\n",
        "    return val\n",
        "  return 'other'\n",
        "\n",
        "df.NEIGHBORHOOD.apply(limit_neighborhood).value_counts()"
      ],
      "execution_count": 0,
      "outputs": [
        {
          "output_type": "execute_result",
          "data": {
            "text/plain": [
              "other                 37390\n",
              "Gateway District      12570\n",
              "Ohio City             10647\n",
              "Tremont                8069\n",
              "Detroit-Shoreway       3965\n",
              "Goodrich Kirtland      3388\n",
              "Warehouse District     3258\n",
              "University             2884\n",
              "Little Italy           2268\n",
              "Riverside              2056\n",
              "Civic Center           2021\n",
              "Name: NEIGHBORHOOD, dtype: int64"
            ]
          },
          "metadata": {
            "tags": []
          },
          "execution_count": 13
        }
      ]
    },
    {
      "cell_type": "markdown",
      "metadata": {
        "id": "VcIhSeC352a6",
        "colab_type": "text"
      },
      "source": [
        "## Postal Code"
      ]
    },
    {
      "cell_type": "code",
      "metadata": {
        "id": "xKKYqheH57sg",
        "colab_type": "code",
        "colab": {
          "base_uri": "https://localhost:8080/",
          "height": 119
        },
        "outputId": "7b7f2e74-3525-4df9-cc05-e5d2b1ce72b8"
      },
      "source": [
        "df.POSTAL_CODE.value_counts(dropna=False).head()"
      ],
      "execution_count": 108,
      "outputs": [
        {
          "output_type": "execute_result",
          "data": {
            "text/plain": [
              "44113.0    25443\n",
              "44114.0    10868\n",
              "44115.0    10217\n",
              "44106.0     8348\n",
              "44118.0     6889\n",
              "Name: POSTAL_CODE, dtype: int64"
            ]
          },
          "metadata": {
            "tags": []
          },
          "execution_count": 108
        }
      ]
    },
    {
      "cell_type": "code",
      "metadata": {
        "id": "8Q2ywI9F6nRD",
        "colab_type": "code",
        "colab": {
          "base_uri": "https://localhost:8080/",
          "height": 119
        },
        "outputId": "d21b339a-9140-44ff-90fe-e0f78f3297ad"
      },
      "source": [
        "df.POSTAL_CODE.fillna('0').astype(int).value_counts().head()"
      ],
      "execution_count": 142,
      "outputs": [
        {
          "output_type": "execute_result",
          "data": {
            "text/plain": [
              "44113    25443\n",
              "44114    10868\n",
              "44115    10217\n",
              "44106     8348\n",
              "44118     6889\n",
              "Name: POSTAL_CODE, dtype: int64"
            ]
          },
          "metadata": {
            "tags": []
          },
          "execution_count": 142
        }
      ]
    },
    {
      "cell_type": "markdown",
      "metadata": {
        "id": "STA4Jh6w56Qb",
        "colab_type": "text"
      },
      "source": [
        "## Hours"
      ]
    },
    {
      "cell_type": "markdown",
      "metadata": {
        "id": "kdITu_f1_zr1",
        "colab_type": "text"
      },
      "source": [
        "### Open Hours"
      ]
    },
    {
      "cell_type": "code",
      "metadata": {
        "id": "RbJy7dS87yZp",
        "colab_type": "code",
        "colab": {
          "base_uri": "https://localhost:8080/",
          "height": 391
        },
        "outputId": "e4689fab-7a91-40b1-bd24-01be7e0d548b"
      },
      "source": [
        "def open_hours(ser):\n",
        "  return ser.str.split(':',1, expand = True).iloc[:,0].fillna('-1').astype(int)\n",
        "\n",
        "open_hours(df.HOURS_MONDAY).value_counts()"
      ],
      "execution_count": 146,
      "outputs": [
        {
          "output_type": "execute_result",
          "data": {
            "text/plain": [
              " 11    26853\n",
              "-1     20013\n",
              " 16     7583\n",
              " 7      6099\n",
              " 10     6058\n",
              " 17     5326\n",
              " 6      4314\n",
              " 9      3472\n",
              " 0      2547\n",
              " 8      2395\n",
              " 12     1576\n",
              " 5       774\n",
              " 15      769\n",
              " 14      190\n",
              " 18      155\n",
              " 13      152\n",
              " 19      136\n",
              " 4        56\n",
              " 22       24\n",
              " 20       21\n",
              " 21        3\n",
              "Name: 0, dtype: int64"
            ]
          },
          "metadata": {
            "tags": []
          },
          "execution_count": 146
        }
      ]
    },
    {
      "cell_type": "markdown",
      "metadata": {
        "id": "ydXi9cq8_24o",
        "colab_type": "text"
      },
      "source": [
        "### Close Hours"
      ]
    },
    {
      "cell_type": "code",
      "metadata": {
        "id": "_1h9fWUx_7qf",
        "colab_type": "code",
        "colab": {
          "base_uri": "https://localhost:8080/",
          "height": 391
        },
        "outputId": "4942ef34-7d4f-4f72-e84d-075b0d3ec464"
      },
      "source": [
        "def close_hours(ser):\n",
        "  return ser.str.split('-',1, expand = True).iloc[:,1].str.split(':', expand=True).iloc[:,0].fillna('-1').astype(int)\n",
        "\n",
        "close_hours(df.HOURS_MONDAY).value_counts()"
      ],
      "execution_count": 147,
      "outputs": [
        {
          "output_type": "execute_result",
          "data": {
            "text/plain": [
              "-1     20013\n",
              " 22    17585\n",
              " 0      8502\n",
              " 21     8043\n",
              " 2      7617\n",
              " 23     5774\n",
              " 20     4219\n",
              " 17     3639\n",
              " 19     2732\n",
              " 18     2693\n",
              " 14     2092\n",
              " 15     1851\n",
              " 1      1700\n",
              " 16     1320\n",
              " 12      296\n",
              " 6       196\n",
              " 3        76\n",
              " 4        68\n",
              " 13       67\n",
              " 5        23\n",
              " 9        10\n",
              "Name: 0, dtype: int64"
            ]
          },
          "metadata": {
            "tags": []
          },
          "execution_count": 147
        }
      ]
    },
    {
      "cell_type": "markdown",
      "metadata": {
        "id": "oEogtowi7wCh",
        "colab_type": "text"
      },
      "source": [
        "## Accept Credit Card"
      ]
    },
    {
      "cell_type": "code",
      "metadata": {
        "id": "unxJoHTcBX6o",
        "colab_type": "code",
        "colab": {
          "base_uri": "https://localhost:8080/",
          "height": 85
        },
        "outputId": "9d3e31a1-49e2-4ee1-d857-a78762e72605"
      },
      "source": [
        "df.ACCEPT_CREDIT_CARD.fillna('-1').astype(int).value_counts(dropna = False)"
      ],
      "execution_count": 138,
      "outputs": [
        {
          "output_type": "execute_result",
          "data": {
            "text/plain": [
              " 1    80699\n",
              "-1     5787\n",
              " 0     2030\n",
              "Name: ACCEPT_CREDIT_CARD, dtype: int64"
            ]
          },
          "metadata": {
            "tags": []
          },
          "execution_count": 138
        }
      ]
    },
    {
      "cell_type": "markdown",
      "metadata": {
        "id": "nKNtYygvBW45",
        "colab_type": "text"
      },
      "source": [
        "## Parking"
      ]
    },
    {
      "cell_type": "code",
      "metadata": {
        "id": "BEHmRrbLHcx5",
        "colab_type": "code",
        "colab": {
          "base_uri": "https://localhost:8080/",
          "height": 85
        },
        "outputId": "bc42c686-a6ab-40fc-bb40-93ee2152a67d"
      },
      "source": [
        "df.PARKING_GARAGE.value_counts(dropna=False)"
      ],
      "execution_count": 196,
      "outputs": [
        {
          "output_type": "execute_result",
          "data": {
            "text/plain": [
              "False    68831\n",
              "NaN      11818\n",
              "True      7867\n",
              "Name: PARKING_GARAGE, dtype: int64"
            ]
          },
          "metadata": {
            "tags": []
          },
          "execution_count": 196
        }
      ]
    },
    {
      "cell_type": "code",
      "metadata": {
        "id": "ZkhEfXH-FloS",
        "colab_type": "code",
        "colab": {
          "base_uri": "https://localhost:8080/",
          "height": 85
        },
        "outputId": "26f7a308-2389-4211-e084-c05ab5e5ff68"
      },
      "source": [
        "def parking(ser):\n",
        "  return ser.fillna('-1').astype(int)\n",
        "\n",
        "parking(df.PARKING_LOT).value_counts(dropna=False)"
      ],
      "execution_count": 156,
      "outputs": [
        {
          "output_type": "execute_result",
          "data": {
            "text/plain": [
              " 0    53056\n",
              " 1    23642\n",
              "-1    11818\n",
              "Name: PARKING_LOT, dtype: int64"
            ]
          },
          "metadata": {
            "tags": []
          },
          "execution_count": 156
        }
      ]
    },
    {
      "cell_type": "markdown",
      "metadata": {
        "id": "gzKTMPDtHq_-",
        "colab_type": "text"
      },
      "source": [
        "## Sentimental Analysis"
      ]
    },
    {
      "cell_type": "code",
      "metadata": {
        "id": "tLRQFWW4HvvS",
        "colab_type": "code",
        "colab": {
          "base_uri": "https://localhost:8080/",
          "height": 85
        },
        "outputId": "f5d900cb-415b-475e-ec0b-5f2d57eeb74b"
      },
      "source": [
        "positive_word, negative_word = [], []\n",
        "with urllib.request.urlopen('https://raw.githubusercontent.com/pe44enka/Yelp/master/data/positive.txt') as url:\n",
        "  for line in url:\n",
        "    positive_word.append(url.readline().decode()[:-2])\n",
        "with urllib.request.urlopen('https://raw.githubusercontent.com/pe44enka/Yelp/master/data/negative.txt') as url:\n",
        "  for line in url:\n",
        "    negative_word.append(url.readline().decode()[:-1])\n",
        "def sent_analysis(val):\n",
        "  negative = positive = 0\n",
        "  for word in val.split():\n",
        "    if word in negative_word:\n",
        "      negative += 1 \n",
        "    elif word in positive_word:\n",
        "      positive += 1\n",
        "  if negative > positive:\n",
        "    return 'negative'\n",
        "  elif negative < positive:\n",
        "    return 'positive'\n",
        "  else:\n",
        "    return 'neutral'\n",
        "\n",
        "df.REVIEW.loc[:100].apply(sent_analysis).value_counts()"
      ],
      "execution_count": 240,
      "outputs": [
        {
          "output_type": "execute_result",
          "data": {
            "text/plain": [
              "negative    51\n",
              "positive    26\n",
              "neutral     24\n",
              "Name: REVIEW, dtype: int64"
            ]
          },
          "metadata": {
            "tags": []
          },
          "execution_count": 240
        }
      ]
    },
    {
      "cell_type": "markdown",
      "metadata": {
        "id": "vqdd3oTvUJTI",
        "colab_type": "text"
      },
      "source": [
        "## Review Date"
      ]
    },
    {
      "cell_type": "code",
      "metadata": {
        "id": "vSJlp3HRV_C1",
        "colab_type": "code",
        "colab": {
          "base_uri": "https://localhost:8080/",
          "height": 221
        },
        "outputId": "9823508d-e52f-46c0-8980-0369cfb23860"
      },
      "source": [
        "df.DATE_REVIEW.value_counts(dropna = False)"
      ],
      "execution_count": 242,
      "outputs": [
        {
          "output_type": "execute_result",
          "data": {
            "text/plain": [
              "5/29/15     163\n",
              "8/10/15      95\n",
              "7/9/17       92\n",
              "6/9/17       89\n",
              "7/23/17      87\n",
              "           ... \n",
              "7/20/08       1\n",
              "6/5/08        1\n",
              "5/9/09        1\n",
              "6/14/08       1\n",
              "12/29/06      1\n",
              "Name: DATE_REVIEW, Length: 3743, dtype: int64"
            ]
          },
          "metadata": {
            "tags": []
          },
          "execution_count": 242
        }
      ]
    },
    {
      "cell_type": "code",
      "metadata": {
        "id": "dn0_gXQkWFvV",
        "colab_type": "code",
        "colab": {
          "base_uri": "https://localhost:8080/",
          "height": 34
        },
        "outputId": "195ac973-610c-43dd-efa8-8c3501b90ab8"
      },
      "source": [
        "df.DATE_REVIEW.isna().sum()"
      ],
      "execution_count": 243,
      "outputs": [
        {
          "output_type": "execute_result",
          "data": {
            "text/plain": [
              "0"
            ]
          },
          "metadata": {
            "tags": []
          },
          "execution_count": 243
        }
      ]
    },
    {
      "cell_type": "code",
      "metadata": {
        "id": "19C7peDsW5og",
        "colab_type": "code",
        "colab": {
          "base_uri": "https://localhost:8080/",
          "height": 136
        },
        "outputId": "1da72e26-a108-4d03-eeec-3b5104552ab6"
      },
      "source": [
        "#year\n",
        "pd.to_datetime(df.DATE_REVIEW.loc[:5]).dt.year"
      ],
      "execution_count": 250,
      "outputs": [
        {
          "output_type": "execute_result",
          "data": {
            "text/plain": [
              "0    2013\n",
              "1    2009\n",
              "2    2015\n",
              "3    2015\n",
              "4    2012\n",
              "5    2016\n",
              "Name: DATE_REVIEW, dtype: int64"
            ]
          },
          "metadata": {
            "tags": []
          },
          "execution_count": 250
        }
      ]
    },
    {
      "cell_type": "code",
      "metadata": {
        "id": "A-ED0dYIXEZr",
        "colab_type": "code",
        "colab": {
          "base_uri": "https://localhost:8080/",
          "height": 136
        },
        "outputId": "85bc6b9c-1f09-4ae2-d626-d37cdc99cb41"
      },
      "source": [
        "#month\n",
        "pd.to_datetime(df.DATE_REVIEW.loc[:5]).dt.month"
      ],
      "execution_count": 252,
      "outputs": [
        {
          "output_type": "execute_result",
          "data": {
            "text/plain": [
              "0    2\n",
              "1    3\n",
              "2    1\n",
              "3    4\n",
              "4    9\n",
              "5    9\n",
              "Name: DATE_REVIEW, dtype: int64"
            ]
          },
          "metadata": {
            "tags": []
          },
          "execution_count": 252
        }
      ]
    },
    {
      "cell_type": "code",
      "metadata": {
        "id": "zLSEt6fnU3rJ",
        "colab_type": "code",
        "colab": {
          "base_uri": "https://localhost:8080/",
          "height": 136
        },
        "outputId": "53831631-fc64-433c-9456-c94f0ecd095f"
      },
      "source": [
        "#day name\n",
        "pd.to_datetime(df.DATE_REVIEW.loc[:5]).dt.day_name()"
      ],
      "execution_count": 253,
      "outputs": [
        {
          "output_type": "execute_result",
          "data": {
            "text/plain": [
              "0    Saturday\n",
              "1      Friday\n",
              "2      Sunday\n",
              "3    Thursday\n",
              "4    Saturday\n",
              "5    Saturday\n",
              "Name: DATE_REVIEW, dtype: object"
            ]
          },
          "metadata": {
            "tags": []
          },
          "execution_count": 253
        }
      ]
    },
    {
      "cell_type": "markdown",
      "metadata": {
        "id": "Cpn9HsS9XrCN",
        "colab_type": "text"
      },
      "source": [
        "## Stars"
      ]
    },
    {
      "cell_type": "code",
      "metadata": {
        "id": "PMRcKO43Xs1Z",
        "colab_type": "code",
        "colab": {
          "base_uri": "https://localhost:8080/",
          "height": 119
        },
        "outputId": "6da3aac6-1107-4b8d-c1c2-b847ddbeddc3"
      },
      "source": [
        "df.STARS.value_counts(dropna = False)"
      ],
      "execution_count": 254,
      "outputs": [
        {
          "output_type": "execute_result",
          "data": {
            "text/plain": [
              "5    35073\n",
              "4    24507\n",
              "3    11441\n",
              "1     9607\n",
              "2     7888\n",
              "Name: STARS, dtype: int64"
            ]
          },
          "metadata": {
            "tags": []
          },
          "execution_count": 254
        }
      ]
    },
    {
      "cell_type": "markdown",
      "metadata": {
        "id": "JnJ-MdYRYnbO",
        "colab_type": "text"
      },
      "source": [
        "## Usefull Review"
      ]
    },
    {
      "cell_type": "code",
      "metadata": {
        "id": "CsquRQ3fYsia",
        "colab_type": "code",
        "colab": {
          "base_uri": "https://localhost:8080/",
          "height": 221
        },
        "outputId": "0b59a903-c135-450a-b3b9-efdd5e44dc47"
      },
      "source": [
        "df.USEFUL_REVIEW#.value_counts(dropna = False)"
      ],
      "execution_count": 267,
      "outputs": [
        {
          "output_type": "execute_result",
          "data": {
            "text/plain": [
              "0        10\n",
              "1         3\n",
              "2         0\n",
              "3         2\n",
              "4         1\n",
              "         ..\n",
              "88511     1\n",
              "88512     0\n",
              "88513     0\n",
              "88514     1\n",
              "88515     0\n",
              "Name: USEFUL_REVIEW, Length: 88516, dtype: int64"
            ]
          },
          "metadata": {
            "tags": []
          },
          "execution_count": 267
        }
      ]
    },
    {
      "cell_type": "code",
      "metadata": {
        "id": "85aZFkhJaK5D",
        "colab_type": "code",
        "colab": {
          "base_uri": "https://localhost:8080/",
          "height": 34
        },
        "outputId": "a71f88e3-cb12-4643-d637-f804a7f93ebd"
      },
      "source": [
        "df.USEFUL_REVIEW.dtypes"
      ],
      "execution_count": 258,
      "outputs": [
        {
          "output_type": "execute_result",
          "data": {
            "text/plain": [
              "dtype('int64')"
            ]
          },
          "metadata": {
            "tags": []
          },
          "execution_count": 258
        }
      ]
    },
    {
      "cell_type": "code",
      "metadata": {
        "id": "nTY5uhsvY5jb",
        "colab_type": "code",
        "colab": {
          "base_uri": "https://localhost:8080/",
          "height": 85
        },
        "outputId": "e0349123-7c59-41c6-cf86-ed5afbafcb32"
      },
      "source": [
        "def useful(val):\n",
        "  if val > 1:\n",
        "    return 'very useful'\n",
        "  elif val == 1:\n",
        "    return 'useful'\n",
        "  else:\n",
        "    return 'not rated'\n",
        "\n",
        "df.USEFUL_REVIEW.apply(useful).value_counts()"
      ],
      "execution_count": 260,
      "outputs": [
        {
          "output_type": "execute_result",
          "data": {
            "text/plain": [
              "not rated      45942\n",
              "useful         21813\n",
              "very useful    20761\n",
              "Name: USEFUL_REVIEW, dtype: int64"
            ]
          },
          "metadata": {
            "tags": []
          },
          "execution_count": 260
        }
      ]
    },
    {
      "cell_type": "markdown",
      "metadata": {
        "id": "Fv6BXEXTbI4R",
        "colab_type": "text"
      },
      "source": [
        "## Cool Review"
      ]
    },
    {
      "cell_type": "code",
      "metadata": {
        "id": "3DAu55rWbPK6",
        "colab_type": "code",
        "colab": {
          "base_uri": "https://localhost:8080/",
          "height": 221
        },
        "outputId": "b3522983-4c46-49b0-e5b4-a62a654ef43b"
      },
      "source": [
        "df.COOL_REVIEW.value_counts(dropna=False)"
      ],
      "execution_count": 266,
      "outputs": [
        {
          "output_type": "execute_result",
          "data": {
            "text/plain": [
              "0        3\n",
              "1        3\n",
              "2        0\n",
              "3        0\n",
              "4        1\n",
              "        ..\n",
              "88511    1\n",
              "88512    0\n",
              "88513    0\n",
              "88514    0\n",
              "88515    0\n",
              "Name: COOL_REVIEW, Length: 88516, dtype: int64"
            ]
          },
          "metadata": {
            "tags": []
          },
          "execution_count": 266
        }
      ]
    },
    {
      "cell_type": "code",
      "metadata": {
        "id": "dXNENUJSbU0S",
        "colab_type": "code",
        "colab": {
          "base_uri": "https://localhost:8080/",
          "height": 34
        },
        "outputId": "9b7b8eb1-0790-41d9-f3b1-cef828cb12d8"
      },
      "source": [
        "df.COOL_REVIEW.dtypes"
      ],
      "execution_count": 263,
      "outputs": [
        {
          "output_type": "execute_result",
          "data": {
            "text/plain": [
              "dtype('int64')"
            ]
          },
          "metadata": {
            "tags": []
          },
          "execution_count": 263
        }
      ]
    },
    {
      "cell_type": "code",
      "metadata": {
        "id": "aWp2K15nbZR2",
        "colab_type": "code",
        "colab": {
          "base_uri": "https://localhost:8080/",
          "height": 221
        },
        "outputId": "5ece6a17-7890-482f-9f41-d58432dfe21f"
      },
      "source": [
        "def cool(val):\n",
        "  if val > 1:\n",
        "    return 'very cool'\n",
        "  elif val == 1:\n",
        "    return 'cool'\n",
        "  else:\n",
        "    return 'not rated'\n",
        "\n",
        "df.COOL_REVIEW.apply(cool)"
      ],
      "execution_count": 264,
      "outputs": [
        {
          "output_type": "execute_result",
          "data": {
            "text/plain": [
              "0        very cool\n",
              "1        very cool\n",
              "2        not rated\n",
              "3        not rated\n",
              "4             cool\n",
              "           ...    \n",
              "88511         cool\n",
              "88512    not rated\n",
              "88513    not rated\n",
              "88514    not rated\n",
              "88515    not rated\n",
              "Name: COOL_REVIEW, Length: 88516, dtype: object"
            ]
          },
          "metadata": {
            "tags": []
          },
          "execution_count": 264
        }
      ]
    },
    {
      "cell_type": "markdown",
      "metadata": {
        "id": "u1mxAx8jDAzN",
        "colab_type": "text"
      },
      "source": [
        "## Funny Review"
      ]
    },
    {
      "cell_type": "code",
      "metadata": {
        "id": "q4G1MmUlb-0V",
        "colab_type": "code",
        "colab": {
          "base_uri": "https://localhost:8080/",
          "height": 663
        },
        "outputId": "639338c4-8a39-48cf-977b-7c570d8bdef9"
      },
      "source": [
        "df.FUNNY_REVIEW.value_counts(dropna = False)"
      ],
      "execution_count": 273,
      "outputs": [
        {
          "output_type": "execute_result",
          "data": {
            "text/plain": [
              "0      68622\n",
              "1      12809\n",
              "2       3412\n",
              "3       1547\n",
              "4        792\n",
              "5        459\n",
              "6        267\n",
              "7        183\n",
              "8        126\n",
              "9         91\n",
              "10        59\n",
              "11        30\n",
              "12        29\n",
              "13        12\n",
              "15        12\n",
              "14        11\n",
              "16         8\n",
              "19         7\n",
              "17         6\n",
              "18         6\n",
              "22         4\n",
              "26         4\n",
              "20         3\n",
              "21         3\n",
              "24         2\n",
              "55         1\n",
              "68         1\n",
              "54         1\n",
              "53         1\n",
              "111        1\n",
              "37         1\n",
              "27         1\n",
              "29         1\n",
              "28         1\n",
              "89         1\n",
              "23         1\n",
              "59         1\n",
              "Name: FUNNY_REVIEW, dtype: int64"
            ]
          },
          "metadata": {
            "tags": []
          },
          "execution_count": 273
        }
      ]
    },
    {
      "cell_type": "code",
      "metadata": {
        "id": "_i23F6LccFFO",
        "colab_type": "code",
        "colab": {
          "base_uri": "https://localhost:8080/",
          "height": 34
        },
        "outputId": "5176ab63-25f0-4ee6-f824-7bd1efab96d5"
      },
      "source": [
        "df.FUNNY_REVIEW.dtypes"
      ],
      "execution_count": 269,
      "outputs": [
        {
          "output_type": "execute_result",
          "data": {
            "text/plain": [
              "dtype('int64')"
            ]
          },
          "metadata": {
            "tags": []
          },
          "execution_count": 269
        }
      ]
    },
    {
      "cell_type": "code",
      "metadata": {
        "id": "quIg9TdccH9L",
        "colab_type": "code",
        "colab": {
          "base_uri": "https://localhost:8080/",
          "height": 85
        },
        "outputId": "e83a0b04-799d-43ee-a083-60bb615feeaa"
      },
      "source": [
        "def funny(val):\n",
        "  if val > 1:\n",
        "    return 'very funny'\n",
        "  elif val == 1:\n",
        "    return 'funny'\n",
        "  else:\n",
        "    return 'not rated'\n",
        "\n",
        "df.FUNNY_REVIEW.apply(funny).value_counts()"
      ],
      "execution_count": 270,
      "outputs": [
        {
          "output_type": "execute_result",
          "data": {
            "text/plain": [
              "not rated     68622\n",
              "funny         12809\n",
              "very funny     7085\n",
              "Name: FUNNY_REVIEW, dtype: int64"
            ]
          },
          "metadata": {
            "tags": []
          },
          "execution_count": 270
        }
      ]
    },
    {
      "cell_type": "markdown",
      "metadata": {
        "id": "Yif_AZg0ASPa",
        "colab_type": "text"
      },
      "source": [
        "## Final func"
      ]
    },
    {
      "cell_type": "markdown",
      "metadata": {
        "id": "vKW1m70Ms4J0",
        "colab_type": "text"
      },
      "source": [
        "### Supporting funcs"
      ]
    },
    {
      "cell_type": "code",
      "metadata": {
        "id": "7e7ezh1Zs1zw",
        "colab_type": "code",
        "colab": {}
      },
      "source": [
        "def limit_categories(val):\n",
        "  if val in ('Restaurants', 'Food', 'American (Traditional)', 'American (New)', \n",
        "             'Pizza', 'Breakfast & Brunch', 'Sandwiches', 'Seafood', 'Italian', 'Salad',\n",
        "             'Mexican', 'Ice Cream & Frozen Yogurt', 'Coffee & Tea', 'Mediterranean',\n",
        "             'Sushi Bars', 'Chinese', 'Soup', 'Bakeries', 'Thai', 'French', \n",
        "             'Asian Fusion', 'Burgers', 'Fast Food', 'Noodles', 'Diners', 'Vietnamese',\n",
        "             'Japanese', 'Specialty Food', 'Caterers', 'Gluten-Free', 'Indian',\n",
        "             'Steakhouses', 'Grocery', 'Vegetarian', 'Cajun/Creole','Delis',\n",
        "             'Middle Eastern', 'Cambodian', 'Donuts', 'Cafes', 'Ethnic Food',\n",
        "             'Tapas/Small Plates', 'Desserts', 'Barbeque', 'Southern', 'Brazilian', \n",
        "             'Lebanese', 'Bagels', 'Szechuan', 'Soul Food', 'Comford Food','Salvadoran',\n",
        "             'Vegan', 'Mongolian', 'Irish', 'Tea Rooms','Buffets', 'Chicken Wings',\n",
        "             'Comfort Food', 'Juice Bars & Smoothies', 'Greek', 'Gastropubs',\n",
        "             'British', 'Korean', 'Cuban', 'Cupcakes', 'Caribbean','Food Stands',\n",
        "             'Tacos','Creperies'):\n",
        "    return ('restaurants')\n",
        "  elif val in ('Bars', 'Nightlife', 'Breweries', 'Lounges', 'Pubs', 'Cocktail Bars', \n",
        "               'Wine Bars', 'Beer', 'Beer Bar', 'Dance Clubs', 'Sports Bars', \n",
        "               'Dive Bars', 'Beer Gardens'):\n",
        "    return('bars')\n",
        "  elif val in ('Beauty & Spas', 'Polish', 'Hair Salons', 'Nail Salons', 'Hair Removal',\n",
        "                  'Barbers', 'Day Spas', 'Hair Stylists'):\n",
        "    return('beauty_spa')\n",
        "  elif val in ('Hotels & Travel', 'Hotels', 'Airports','Car Rental', 'Transportation',\n",
        "               'Resorts', 'Airlines'):\n",
        "    return('travel')\n",
        "  elif val in ('Public Services & Government', 'Local Services', 'Education', 'Home Services'):\n",
        "    return('public_service')\n",
        "  elif val in ('Arts & Entertainment', 'Event Planning & Services', 'Venues & Event Spaces', \n",
        "               'Shopping', 'Active Life', 'Adult Entertainment', 'Museums', 'Stadiums & Arenas',\n",
        "               'Fashion', 'Music & DVDs', 'Music Venues', 'Cinema', 'Gyms', 'Art Galleries',\n",
        "               'Fitness & Instruction', 'Aquariums', 'Performing Arts', \"Women's Clothing\",\n",
        "               'Yoga','Shopping Centers', 'Party & Event Planning', 'Wedding Planning', \n",
        "               'Festivals'):\n",
        "    return('entertainment')\n",
        "  return 'other'\n",
        "\n",
        "def limit_neighborhood(val):\n",
        "  if val in ('Gateway District', 'Ohio City', 'Tremont', 'Detroit-Shoreway', 'Goodrich Kirtland',\n",
        "            'Warehouse District', 'University', 'Little Italy', 'Riverside', 'Civic Center'):\n",
        "    return val\n",
        "  return 'other'\n",
        "\n",
        "def limit_address(val):\n",
        "  if val in ('Euclid Ave', 'W 25th St', 'E 4th St', 'Lorain Ave', 'Mayfield Rd', 'Detroit Ave', 'Lee Rd', 'Coventry Rd', \n",
        "             'Professor Ave', 'Cedar Rd', 'W 11th St', 'Pearl Rd', 'Riverside Dr', 'Market Ave', 'W 6th St', 'Fulton Rd'):\n",
        "    return val\n",
        "  return 'other'\n",
        "\n",
        "def open_hours(ser):\n",
        "  return ser.str.split(':',1, expand = True).iloc[:,0].fillna('-1').astype(int)\n",
        "\n",
        "def close_hours(ser):\n",
        "  return ser.str.split('-',1, expand = True).iloc[:,1].str.split(':', expand=True).iloc[:,0].fillna('-1').astype(int)\n",
        "\n",
        "def parking(ser):\n",
        "  return ser.fillna('-1').astype(int)\n",
        "\n",
        "positive_word, negative_word = [], []\n",
        "with urllib.request.urlopen('https://raw.githubusercontent.com/pe44enka/Yelp/master/data/positive.txt') as url:\n",
        "  for line in url:\n",
        "    positive_word.append(url.readline().decode()[:-2])\n",
        "with urllib.request.urlopen('https://raw.githubusercontent.com/pe44enka/Yelp/master/data/negative.txt') as url:\n",
        "  for line in url:\n",
        "    negative_word.append(url.readline().decode()[:-1])\n",
        "def sent_analysis(val):\n",
        "  negative = positive = 0\n",
        "  for word in val.split():\n",
        "    if word in negative_word:\n",
        "      negative += 1 \n",
        "    elif word in positive_word:\n",
        "      positive += 1\n",
        "  if negative > positive:\n",
        "    return 'negative'\n",
        "  elif negative < positive:\n",
        "    return 'positive'\n",
        "  else:\n",
        "    return 'neutral'\n",
        "\n",
        "def useful(val):\n",
        "  if val > 1:\n",
        "    return 'very useful'\n",
        "  elif val == 1:\n",
        "    return 'useful'\n",
        "  else:\n",
        "    return 'not rated'\n",
        "\n",
        "def cool(val):\n",
        "  if val > 1:\n",
        "    return 'very cool'\n",
        "  elif val == 1:\n",
        "    return 'cool'\n",
        "  else:\n",
        "    return 'not rated'\n",
        "\n",
        "def funny(val):\n",
        "  if val > 1:\n",
        "    return 'very funny'\n",
        "  elif val == 1:\n",
        "    return 'funny'\n",
        "  else:\n",
        "    return 'not rated'"
      ],
      "execution_count": 0,
      "outputs": []
    },
    {
      "cell_type": "code",
      "metadata": {
        "id": "N22SBywk-FUE",
        "colab_type": "code",
        "outputId": "77600229-e0d6-4299-b318-e7b56f076406",
        "colab": {
          "base_uri": "https://localhost:8080/",
          "height": 224
        }
      },
      "source": [
        "def final_func(df):\n",
        "  q0 = df.REVIEW.apply(sent_analysis).rename('review')\n",
        "  q1 = df.STARS.rename('stars')\n",
        "  q2 = pd.to_datetime(df.DATE_REVIEW).dt.year.rename('year')\n",
        "  q3 = pd.to_datetime(df.DATE_REVIEW).dt.month.rename('month')\n",
        "  q4 = pd.to_datetime(df.DATE_REVIEW).dt.day_name().rename('weekday')\n",
        "  q5 = df.CATEGORIES.apply(limit_categories).rename('category')\n",
        "  q6 = df.COMPANY_STARS.rename('company_star')\n",
        "  q7 = df.COMPANY_REVIEWS.rename('company_review')\n",
        "  q8 = pd.cut(df.COMPANY_REVIEWS, bins=6, labels=['2-150', '151-300', '301-450', '451-600', '600-750', '750-900']).rename('reviewbin')\n",
        "  q9 = df.IS_OPEN.rename('is_open')\n",
        "  q10 = df.NEIGHBORHOOD.apply(limit_neighborhood).rename('district')\n",
        "  q11 = df.ADDRESS.str.split(' ', 1 ,expand = True).loc[:,1].apply(limit_address).rename('street')\n",
        "  q12 = df.POSTAL_CODE.fillna('0').astype(int).rename('post_code')\n",
        "  q13 = df.ACCEPT_CREDIT_CARD.fillna('-1').astype(int).rename('accept_credit_card')\n",
        "  q14 = open_hours(df.HOURS_MONDAY).rename('mon_open')\n",
        "  q15 = close_hours(df.HOURS_MONDAY).rename('mon_close')\n",
        "  q16 = open_hours(df.HOURS_TUESDAY).rename('tue_open')\n",
        "  q17 = close_hours(df.HOURS_TUESDAY).rename('tue_close')\n",
        "  q18 = open_hours(df.HOURS_WEDNESDAY).rename('wed_open')\n",
        "  q19 = close_hours(df.HOURS_WEDNESDAY).rename('wed_close')\n",
        "  q20 = open_hours(df.HOURS_THURSDAY).rename('thu_open')\n",
        "  q21 = close_hours(df.HOURS_THURSDAY).rename('thu_close')\n",
        "  q22 = open_hours(df.HOURS_FRIDAY).rename('fri_open')\n",
        "  q23 = close_hours(df.HOURS_FRIDAY).rename('fri_close')\n",
        "  q24 = open_hours(df.HOURS_SATURDAY).rename('sat_open')\n",
        "  q25 = close_hours(df.HOURS_SATURDAY).rename('sat_close')\n",
        "  q26 = open_hours(df.HOURS_SUNDAY).rename('sun_open')\n",
        "  q27 = close_hours(df.HOURS_SUNDAY).rename('sun_close')\n",
        "  q28 = parking(df.PARKING_GARAGE).rename('park_garage')\n",
        "  q29 = parking(df.PARKING_STREET).rename('park_street')\n",
        "  q30 = parking(df.PARKING_LOT).rename('park_lot')\n",
        "  q31 = parking(df.PARKING_VALIDATED).rename('park_valid')\n",
        "  q32 = parking(df.PARKING_VALLET).rename('park_vallet')\n",
        "  q33 = parking(df.PARKING_BIKE).rename('park_bike')\n",
        "  q34 = df.USEFUL_REVIEW.apply(useful).rename('useful_review')\n",
        "  q35 = df.COOL_REVIEW.apply(cool).rename('cool_review')\n",
        "  q36 = df.FUNNY_REVIEW.apply(funny).rename('funny_review')\n",
        "\n",
        "  return pd.concat([q0, q1, q2, q3, q4, q5, q6, q7, q8, q9, q10, q11, q12, q13, \n",
        "                    q14, q15, q16, q17, q18, q19, q20, q21, q22, q23, q24, q25, \n",
        "                    q26, q27, q28, q29, q30, q31, q32, q33, q34, q35, q36], axis = 1)\n",
        "\n",
        "rdf = final_func(df)#.iloc[:10])\n",
        "rdf.head()\n",
        "\n"
      ],
      "execution_count": 6,
      "outputs": [
        {
          "output_type": "execute_result",
          "data": {
            "text/html": [
              "<div>\n",
              "<style scoped>\n",
              "    .dataframe tbody tr th:only-of-type {\n",
              "        vertical-align: middle;\n",
              "    }\n",
              "\n",
              "    .dataframe tbody tr th {\n",
              "        vertical-align: top;\n",
              "    }\n",
              "\n",
              "    .dataframe thead th {\n",
              "        text-align: right;\n",
              "    }\n",
              "</style>\n",
              "<table border=\"1\" class=\"dataframe\">\n",
              "  <thead>\n",
              "    <tr style=\"text-align: right;\">\n",
              "      <th></th>\n",
              "      <th>review</th>\n",
              "      <th>stars</th>\n",
              "      <th>year</th>\n",
              "      <th>month</th>\n",
              "      <th>weekday</th>\n",
              "      <th>category</th>\n",
              "      <th>company_star</th>\n",
              "      <th>company_review</th>\n",
              "      <th>reviewbin</th>\n",
              "      <th>open</th>\n",
              "      <th>district</th>\n",
              "      <th>street</th>\n",
              "      <th>post_code</th>\n",
              "      <th>accept_credit_card</th>\n",
              "      <th>mon_open</th>\n",
              "      <th>mon_close</th>\n",
              "      <th>tue_open</th>\n",
              "      <th>tue_close</th>\n",
              "      <th>wed_open</th>\n",
              "      <th>wed_close</th>\n",
              "      <th>thu_open</th>\n",
              "      <th>thu_close</th>\n",
              "      <th>fri_open</th>\n",
              "      <th>fri_close</th>\n",
              "      <th>sat_open</th>\n",
              "      <th>sat_close</th>\n",
              "      <th>sun_open</th>\n",
              "      <th>sun_close</th>\n",
              "      <th>park_garage</th>\n",
              "      <th>park_street</th>\n",
              "      <th>park_lot</th>\n",
              "      <th>park_valid</th>\n",
              "      <th>park_vallet</th>\n",
              "      <th>park_bike</th>\n",
              "      <th>useful_review</th>\n",
              "      <th>cool_review</th>\n",
              "      <th>funny_review</th>\n",
              "    </tr>\n",
              "  </thead>\n",
              "  <tbody>\n",
              "    <tr>\n",
              "      <th>0</th>\n",
              "      <td>negative</td>\n",
              "      <td>2</td>\n",
              "      <td>2013</td>\n",
              "      <td>2</td>\n",
              "      <td>Saturday</td>\n",
              "      <td>restaurants</td>\n",
              "      <td>3.0</td>\n",
              "      <td>154</td>\n",
              "      <td>2</td>\n",
              "      <td>1</td>\n",
              "      <td>other</td>\n",
              "      <td>other</td>\n",
              "      <td>44103</td>\n",
              "      <td>1</td>\n",
              "      <td>11</td>\n",
              "      <td>21</td>\n",
              "      <td>11</td>\n",
              "      <td>21</td>\n",
              "      <td>11</td>\n",
              "      <td>21</td>\n",
              "      <td>11</td>\n",
              "      <td>21</td>\n",
              "      <td>11</td>\n",
              "      <td>21</td>\n",
              "      <td>12</td>\n",
              "      <td>0</td>\n",
              "      <td>11</td>\n",
              "      <td>21</td>\n",
              "      <td>0</td>\n",
              "      <td>0</td>\n",
              "      <td>1</td>\n",
              "      <td>0</td>\n",
              "      <td>0</td>\n",
              "      <td>1</td>\n",
              "      <td>very useful</td>\n",
              "      <td>very cool</td>\n",
              "      <td>very funny</td>\n",
              "    </tr>\n",
              "    <tr>\n",
              "      <th>1</th>\n",
              "      <td>negative</td>\n",
              "      <td>2</td>\n",
              "      <td>2009</td>\n",
              "      <td>3</td>\n",
              "      <td>Friday</td>\n",
              "      <td>restaurants</td>\n",
              "      <td>3.0</td>\n",
              "      <td>154</td>\n",
              "      <td>2</td>\n",
              "      <td>1</td>\n",
              "      <td>other</td>\n",
              "      <td>other</td>\n",
              "      <td>44103</td>\n",
              "      <td>1</td>\n",
              "      <td>11</td>\n",
              "      <td>21</td>\n",
              "      <td>11</td>\n",
              "      <td>21</td>\n",
              "      <td>11</td>\n",
              "      <td>21</td>\n",
              "      <td>11</td>\n",
              "      <td>21</td>\n",
              "      <td>11</td>\n",
              "      <td>21</td>\n",
              "      <td>12</td>\n",
              "      <td>0</td>\n",
              "      <td>11</td>\n",
              "      <td>21</td>\n",
              "      <td>0</td>\n",
              "      <td>0</td>\n",
              "      <td>1</td>\n",
              "      <td>0</td>\n",
              "      <td>0</td>\n",
              "      <td>1</td>\n",
              "      <td>very useful</td>\n",
              "      <td>very cool</td>\n",
              "      <td>very funny</td>\n",
              "    </tr>\n",
              "    <tr>\n",
              "      <th>2</th>\n",
              "      <td>neutral</td>\n",
              "      <td>1</td>\n",
              "      <td>2015</td>\n",
              "      <td>1</td>\n",
              "      <td>Sunday</td>\n",
              "      <td>restaurants</td>\n",
              "      <td>3.0</td>\n",
              "      <td>154</td>\n",
              "      <td>2</td>\n",
              "      <td>1</td>\n",
              "      <td>other</td>\n",
              "      <td>other</td>\n",
              "      <td>44103</td>\n",
              "      <td>1</td>\n",
              "      <td>11</td>\n",
              "      <td>21</td>\n",
              "      <td>11</td>\n",
              "      <td>21</td>\n",
              "      <td>11</td>\n",
              "      <td>21</td>\n",
              "      <td>11</td>\n",
              "      <td>21</td>\n",
              "      <td>11</td>\n",
              "      <td>21</td>\n",
              "      <td>12</td>\n",
              "      <td>0</td>\n",
              "      <td>11</td>\n",
              "      <td>21</td>\n",
              "      <td>0</td>\n",
              "      <td>0</td>\n",
              "      <td>1</td>\n",
              "      <td>0</td>\n",
              "      <td>0</td>\n",
              "      <td>1</td>\n",
              "      <td>not rated</td>\n",
              "      <td>not rated</td>\n",
              "      <td>not rated</td>\n",
              "    </tr>\n",
              "    <tr>\n",
              "      <th>3</th>\n",
              "      <td>positive</td>\n",
              "      <td>4</td>\n",
              "      <td>2015</td>\n",
              "      <td>4</td>\n",
              "      <td>Thursday</td>\n",
              "      <td>restaurants</td>\n",
              "      <td>3.0</td>\n",
              "      <td>154</td>\n",
              "      <td>2</td>\n",
              "      <td>1</td>\n",
              "      <td>other</td>\n",
              "      <td>other</td>\n",
              "      <td>44103</td>\n",
              "      <td>1</td>\n",
              "      <td>11</td>\n",
              "      <td>21</td>\n",
              "      <td>11</td>\n",
              "      <td>21</td>\n",
              "      <td>11</td>\n",
              "      <td>21</td>\n",
              "      <td>11</td>\n",
              "      <td>21</td>\n",
              "      <td>11</td>\n",
              "      <td>21</td>\n",
              "      <td>12</td>\n",
              "      <td>0</td>\n",
              "      <td>11</td>\n",
              "      <td>21</td>\n",
              "      <td>0</td>\n",
              "      <td>0</td>\n",
              "      <td>1</td>\n",
              "      <td>0</td>\n",
              "      <td>0</td>\n",
              "      <td>1</td>\n",
              "      <td>very useful</td>\n",
              "      <td>not rated</td>\n",
              "      <td>not rated</td>\n",
              "    </tr>\n",
              "    <tr>\n",
              "      <th>4</th>\n",
              "      <td>neutral</td>\n",
              "      <td>3</td>\n",
              "      <td>2012</td>\n",
              "      <td>9</td>\n",
              "      <td>Saturday</td>\n",
              "      <td>restaurants</td>\n",
              "      <td>3.0</td>\n",
              "      <td>6</td>\n",
              "      <td>1</td>\n",
              "      <td>1</td>\n",
              "      <td>other</td>\n",
              "      <td>other</td>\n",
              "      <td>44130</td>\n",
              "      <td>1</td>\n",
              "      <td>-1</td>\n",
              "      <td>-1</td>\n",
              "      <td>-1</td>\n",
              "      <td>-1</td>\n",
              "      <td>-1</td>\n",
              "      <td>-1</td>\n",
              "      <td>-1</td>\n",
              "      <td>-1</td>\n",
              "      <td>-1</td>\n",
              "      <td>-1</td>\n",
              "      <td>-1</td>\n",
              "      <td>-1</td>\n",
              "      <td>-1</td>\n",
              "      <td>-1</td>\n",
              "      <td>0</td>\n",
              "      <td>0</td>\n",
              "      <td>0</td>\n",
              "      <td>0</td>\n",
              "      <td>0</td>\n",
              "      <td>1</td>\n",
              "      <td>useful</td>\n",
              "      <td>cool</td>\n",
              "      <td>funny</td>\n",
              "    </tr>\n",
              "  </tbody>\n",
              "</table>\n",
              "</div>"
            ],
            "text/plain": [
              "     review  stars  year  ...  useful_review cool_review funny_review\n",
              "0  negative      2  2013  ...    very useful   very cool   very funny\n",
              "1  negative      2  2009  ...    very useful   very cool   very funny\n",
              "2   neutral      1  2015  ...      not rated   not rated    not rated\n",
              "3  positive      4  2015  ...    very useful   not rated    not rated\n",
              "4   neutral      3  2012  ...         useful        cool        funny\n",
              "\n",
              "[5 rows x 37 columns]"
            ]
          },
          "metadata": {
            "tags": []
          },
          "execution_count": 6
        }
      ]
    },
    {
      "cell_type": "code",
      "metadata": {
        "id": "-1x4E1OOMqdm",
        "colab_type": "code",
        "colab": {}
      },
      "source": [
        "result_df.to_csv('cleaned_data.csv')"
      ],
      "execution_count": 0,
      "outputs": []
    },
    {
      "cell_type": "markdown",
      "metadata": {
        "id": "meWvdo9I9xz1",
        "colab_type": "text"
      },
      "source": [
        "# Exploratory Data Analysis (EDA)"
      ]
    },
    {
      "cell_type": "code",
      "metadata": {
        "id": "ApnBPILZMWLB",
        "colab_type": "code",
        "colab": {
          "base_uri": "https://localhost:8080/",
          "height": 224
        },
        "outputId": "d051ec3a-ce81-4b25-c5ef-4e423701b81f"
      },
      "source": [
        "rdf = pd.read_csv('https://raw.githubusercontent.com/pe44enka/Yelp/master/data/cleaned_data.csv')\n",
        "rdf.drop(['Unnamed: 0'], axis=1, inplace=True)\n",
        "rdf.head()"
      ],
      "execution_count": 19,
      "outputs": [
        {
          "output_type": "execute_result",
          "data": {
            "text/html": [
              "<div>\n",
              "<style scoped>\n",
              "    .dataframe tbody tr th:only-of-type {\n",
              "        vertical-align: middle;\n",
              "    }\n",
              "\n",
              "    .dataframe tbody tr th {\n",
              "        vertical-align: top;\n",
              "    }\n",
              "\n",
              "    .dataframe thead th {\n",
              "        text-align: right;\n",
              "    }\n",
              "</style>\n",
              "<table border=\"1\" class=\"dataframe\">\n",
              "  <thead>\n",
              "    <tr style=\"text-align: right;\">\n",
              "      <th></th>\n",
              "      <th>review</th>\n",
              "      <th>stars</th>\n",
              "      <th>year</th>\n",
              "      <th>month</th>\n",
              "      <th>weekday</th>\n",
              "      <th>category</th>\n",
              "      <th>company_star</th>\n",
              "      <th>company_review</th>\n",
              "      <th>reviewbin</th>\n",
              "      <th>open</th>\n",
              "      <th>district</th>\n",
              "      <th>street</th>\n",
              "      <th>post_code</th>\n",
              "      <th>accept_credit_card</th>\n",
              "      <th>mon_open</th>\n",
              "      <th>mon_close</th>\n",
              "      <th>tue_open</th>\n",
              "      <th>tue_close</th>\n",
              "      <th>wed_open</th>\n",
              "      <th>wed_close</th>\n",
              "      <th>thu_open</th>\n",
              "      <th>thu_close</th>\n",
              "      <th>fri_open</th>\n",
              "      <th>fri_close</th>\n",
              "      <th>sat_open</th>\n",
              "      <th>sat_close</th>\n",
              "      <th>sun_open</th>\n",
              "      <th>sun_close</th>\n",
              "      <th>park_garage</th>\n",
              "      <th>park_street</th>\n",
              "      <th>park_lot</th>\n",
              "      <th>park_valid</th>\n",
              "      <th>park_vallet</th>\n",
              "      <th>park_bike</th>\n",
              "      <th>useful_review</th>\n",
              "      <th>cool_review</th>\n",
              "      <th>funny_review</th>\n",
              "    </tr>\n",
              "  </thead>\n",
              "  <tbody>\n",
              "    <tr>\n",
              "      <th>0</th>\n",
              "      <td>negative</td>\n",
              "      <td>2</td>\n",
              "      <td>2013</td>\n",
              "      <td>2</td>\n",
              "      <td>Saturday</td>\n",
              "      <td>restaurants</td>\n",
              "      <td>3.0</td>\n",
              "      <td>154</td>\n",
              "      <td>2</td>\n",
              "      <td>1</td>\n",
              "      <td>other</td>\n",
              "      <td>other</td>\n",
              "      <td>44103</td>\n",
              "      <td>1</td>\n",
              "      <td>11</td>\n",
              "      <td>21</td>\n",
              "      <td>11</td>\n",
              "      <td>21</td>\n",
              "      <td>11</td>\n",
              "      <td>21</td>\n",
              "      <td>11</td>\n",
              "      <td>21</td>\n",
              "      <td>11</td>\n",
              "      <td>21</td>\n",
              "      <td>12</td>\n",
              "      <td>0</td>\n",
              "      <td>11</td>\n",
              "      <td>21</td>\n",
              "      <td>0</td>\n",
              "      <td>0</td>\n",
              "      <td>1</td>\n",
              "      <td>0</td>\n",
              "      <td>0</td>\n",
              "      <td>1</td>\n",
              "      <td>very useful</td>\n",
              "      <td>very cool</td>\n",
              "      <td>very funny</td>\n",
              "    </tr>\n",
              "    <tr>\n",
              "      <th>1</th>\n",
              "      <td>negative</td>\n",
              "      <td>2</td>\n",
              "      <td>2009</td>\n",
              "      <td>3</td>\n",
              "      <td>Friday</td>\n",
              "      <td>restaurants</td>\n",
              "      <td>3.0</td>\n",
              "      <td>154</td>\n",
              "      <td>2</td>\n",
              "      <td>1</td>\n",
              "      <td>other</td>\n",
              "      <td>other</td>\n",
              "      <td>44103</td>\n",
              "      <td>1</td>\n",
              "      <td>11</td>\n",
              "      <td>21</td>\n",
              "      <td>11</td>\n",
              "      <td>21</td>\n",
              "      <td>11</td>\n",
              "      <td>21</td>\n",
              "      <td>11</td>\n",
              "      <td>21</td>\n",
              "      <td>11</td>\n",
              "      <td>21</td>\n",
              "      <td>12</td>\n",
              "      <td>0</td>\n",
              "      <td>11</td>\n",
              "      <td>21</td>\n",
              "      <td>0</td>\n",
              "      <td>0</td>\n",
              "      <td>1</td>\n",
              "      <td>0</td>\n",
              "      <td>0</td>\n",
              "      <td>1</td>\n",
              "      <td>very useful</td>\n",
              "      <td>very cool</td>\n",
              "      <td>very funny</td>\n",
              "    </tr>\n",
              "    <tr>\n",
              "      <th>2</th>\n",
              "      <td>neutral</td>\n",
              "      <td>1</td>\n",
              "      <td>2015</td>\n",
              "      <td>1</td>\n",
              "      <td>Sunday</td>\n",
              "      <td>restaurants</td>\n",
              "      <td>3.0</td>\n",
              "      <td>154</td>\n",
              "      <td>2</td>\n",
              "      <td>1</td>\n",
              "      <td>other</td>\n",
              "      <td>other</td>\n",
              "      <td>44103</td>\n",
              "      <td>1</td>\n",
              "      <td>11</td>\n",
              "      <td>21</td>\n",
              "      <td>11</td>\n",
              "      <td>21</td>\n",
              "      <td>11</td>\n",
              "      <td>21</td>\n",
              "      <td>11</td>\n",
              "      <td>21</td>\n",
              "      <td>11</td>\n",
              "      <td>21</td>\n",
              "      <td>12</td>\n",
              "      <td>0</td>\n",
              "      <td>11</td>\n",
              "      <td>21</td>\n",
              "      <td>0</td>\n",
              "      <td>0</td>\n",
              "      <td>1</td>\n",
              "      <td>0</td>\n",
              "      <td>0</td>\n",
              "      <td>1</td>\n",
              "      <td>not rated</td>\n",
              "      <td>not rated</td>\n",
              "      <td>not rated</td>\n",
              "    </tr>\n",
              "    <tr>\n",
              "      <th>3</th>\n",
              "      <td>positive</td>\n",
              "      <td>4</td>\n",
              "      <td>2015</td>\n",
              "      <td>4</td>\n",
              "      <td>Thursday</td>\n",
              "      <td>restaurants</td>\n",
              "      <td>3.0</td>\n",
              "      <td>154</td>\n",
              "      <td>2</td>\n",
              "      <td>1</td>\n",
              "      <td>other</td>\n",
              "      <td>other</td>\n",
              "      <td>44103</td>\n",
              "      <td>1</td>\n",
              "      <td>11</td>\n",
              "      <td>21</td>\n",
              "      <td>11</td>\n",
              "      <td>21</td>\n",
              "      <td>11</td>\n",
              "      <td>21</td>\n",
              "      <td>11</td>\n",
              "      <td>21</td>\n",
              "      <td>11</td>\n",
              "      <td>21</td>\n",
              "      <td>12</td>\n",
              "      <td>0</td>\n",
              "      <td>11</td>\n",
              "      <td>21</td>\n",
              "      <td>0</td>\n",
              "      <td>0</td>\n",
              "      <td>1</td>\n",
              "      <td>0</td>\n",
              "      <td>0</td>\n",
              "      <td>1</td>\n",
              "      <td>very useful</td>\n",
              "      <td>not rated</td>\n",
              "      <td>not rated</td>\n",
              "    </tr>\n",
              "    <tr>\n",
              "      <th>4</th>\n",
              "      <td>neutral</td>\n",
              "      <td>3</td>\n",
              "      <td>2012</td>\n",
              "      <td>9</td>\n",
              "      <td>Saturday</td>\n",
              "      <td>restaurants</td>\n",
              "      <td>3.0</td>\n",
              "      <td>6</td>\n",
              "      <td>1</td>\n",
              "      <td>1</td>\n",
              "      <td>other</td>\n",
              "      <td>other</td>\n",
              "      <td>44130</td>\n",
              "      <td>1</td>\n",
              "      <td>-1</td>\n",
              "      <td>-1</td>\n",
              "      <td>-1</td>\n",
              "      <td>-1</td>\n",
              "      <td>-1</td>\n",
              "      <td>-1</td>\n",
              "      <td>-1</td>\n",
              "      <td>-1</td>\n",
              "      <td>-1</td>\n",
              "      <td>-1</td>\n",
              "      <td>-1</td>\n",
              "      <td>-1</td>\n",
              "      <td>-1</td>\n",
              "      <td>-1</td>\n",
              "      <td>0</td>\n",
              "      <td>0</td>\n",
              "      <td>0</td>\n",
              "      <td>0</td>\n",
              "      <td>0</td>\n",
              "      <td>1</td>\n",
              "      <td>useful</td>\n",
              "      <td>cool</td>\n",
              "      <td>funny</td>\n",
              "    </tr>\n",
              "  </tbody>\n",
              "</table>\n",
              "</div>"
            ],
            "text/plain": [
              "     review  stars  year  ...  useful_review cool_review funny_review\n",
              "0  negative      2  2013  ...    very useful   very cool   very funny\n",
              "1  negative      2  2009  ...    very useful   very cool   very funny\n",
              "2   neutral      1  2015  ...      not rated   not rated    not rated\n",
              "3  positive      4  2015  ...    very useful   not rated    not rated\n",
              "4   neutral      3  2012  ...         useful        cool        funny\n",
              "\n",
              "[5 rows x 37 columns]"
            ]
          },
          "metadata": {
            "tags": []
          },
          "execution_count": 19
        }
      ]
    },
    {
      "cell_type": "code",
      "metadata": {
        "id": "0vAdK-Uf-FYO",
        "colab_type": "code",
        "colab": {
          "base_uri": "https://localhost:8080/",
          "height": 663
        },
        "outputId": "8728ee4d-31a4-4444-8bc1-e103bf9f4bad"
      },
      "source": [
        "rdf.dtypes"
      ],
      "execution_count": 20,
      "outputs": [
        {
          "output_type": "execute_result",
          "data": {
            "text/plain": [
              "review                 object\n",
              "stars                   int64\n",
              "year                    int64\n",
              "month                   int64\n",
              "weekday                object\n",
              "category               object\n",
              "company_star          float64\n",
              "company_review          int64\n",
              "reviewbin               int64\n",
              "open                    int64\n",
              "district               object\n",
              "street                 object\n",
              "post_code               int64\n",
              "accept_credit_card      int64\n",
              "mon_open                int64\n",
              "mon_close               int64\n",
              "tue_open                int64\n",
              "tue_close               int64\n",
              "wed_open                int64\n",
              "wed_close               int64\n",
              "thu_open                int64\n",
              "thu_close               int64\n",
              "fri_open                int64\n",
              "fri_close               int64\n",
              "sat_open                int64\n",
              "sat_close               int64\n",
              "sun_open                int64\n",
              "sun_close               int64\n",
              "park_garage             int64\n",
              "park_street             int64\n",
              "park_lot                int64\n",
              "park_valid              int64\n",
              "park_vallet             int64\n",
              "park_bike               int64\n",
              "useful_review          object\n",
              "cool_review            object\n",
              "funny_review           object\n",
              "dtype: object"
            ]
          },
          "metadata": {
            "tags": []
          },
          "execution_count": 20
        }
      ]
    },
    {
      "cell_type": "markdown",
      "metadata": {
        "id": "Aw1Y6fXm_E2Y",
        "colab_type": "text"
      },
      "source": [
        "## Summarize Data"
      ]
    },
    {
      "cell_type": "markdown",
      "metadata": {
        "id": "SeoWS2KO_656",
        "colab_type": "text"
      },
      "source": [
        "### Categorical Data"
      ]
    },
    {
      "cell_type": "markdown",
      "metadata": {
        "id": "K9ZZlLK-AvVs",
        "colab_type": "text"
      },
      "source": [
        "\n",
        "\n",
        "\n",
        "\n",
        "**1. Review**\n",
        "\n",
        "\n",
        "\n"
      ]
    },
    {
      "cell_type": "code",
      "metadata": {
        "id": "aiJ9RcS8-HUq",
        "colab_type": "code",
        "colab": {
          "base_uri": "https://localhost:8080/",
          "height": 85
        },
        "outputId": "0d4b1c67-9d3d-4eab-eb5b-5cd607c2b0a5"
      },
      "source": [
        "rdf.review.value_counts()"
      ],
      "execution_count": 283,
      "outputs": [
        {
          "output_type": "execute_result",
          "data": {
            "text/plain": [
              "positive    36233\n",
              "negative    30023\n",
              "neutral     22260\n",
              "Name: review, dtype: int64"
            ]
          },
          "metadata": {
            "tags": []
          },
          "execution_count": 283
        }
      ]
    },
    {
      "cell_type": "code",
      "metadata": {
        "id": "QCsQmY1JAgp6",
        "colab_type": "code",
        "colab": {
          "base_uri": "https://localhost:8080/",
          "height": 316
        },
        "outputId": "071ce7b8-7611-4b96-bcce-a2358116a5c9"
      },
      "source": [
        "rdf.review.value_counts().plot.bar()"
      ],
      "execution_count": 285,
      "outputs": [
        {
          "output_type": "execute_result",
          "data": {
            "text/plain": [
              "<matplotlib.axes._subplots.AxesSubplot at 0x7f0e6df792e8>"
            ]
          },
          "metadata": {
            "tags": []
          },
          "execution_count": 285
        },
        {
          "output_type": "display_data",
          "data": {
            "image/png": "[encoded data removed]",
            "text/plain": [
              "<Figure size 432x288 with 1 Axes>"
            ]
          },
          "metadata": {
            "tags": []
          }
        }
      ]
    },
    {
      "cell_type": "markdown",
      "metadata": {
        "id": "-Xl3rSl8WNzr",
        "colab_type": "text"
      },
      "source": [
        "\n",
        "\n",
        "---\n",
        "\n",
        "\n",
        "**2. Year**"
      ]
    },
    {
      "cell_type": "code",
      "metadata": {
        "id": "Ab0Z_xqZJp4K",
        "colab_type": "code",
        "colab": {
          "base_uri": "https://localhost:8080/",
          "height": 255
        },
        "outputId": "308bf48b-c434-4854-b405-77fd32832f66"
      },
      "source": [
        "rdf.year.value_counts()"
      ],
      "execution_count": 41,
      "outputs": [
        {
          "output_type": "execute_result",
          "data": {
            "text/plain": [
              "2016    17368\n",
              "2015    16110\n",
              "2014    13164\n",
              "2017    10899\n",
              "2013     9706\n",
              "2012     7806\n",
              "2011     6247\n",
              "2010     3639\n",
              "2009     1676\n",
              "2008     1103\n",
              "2007      448\n",
              "2006      260\n",
              "2005       90\n",
              "Name: year, dtype: int64"
            ]
          },
          "metadata": {
            "tags": []
          },
          "execution_count": 41
        }
      ]
    },
    {
      "cell_type": "code",
      "metadata": {
        "id": "O5z-1Q20Wifm",
        "colab_type": "code",
        "colab": {
          "base_uri": "https://localhost:8080/",
          "height": 34
        },
        "outputId": "e566b250-8772-4f73-cf5f-d96bde41d620"
      },
      "source": [
        "rdf.year.mean()"
      ],
      "execution_count": 43,
      "outputs": [
        {
          "output_type": "execute_result",
          "data": {
            "text/plain": [
              "2014.0441050205613"
            ]
          },
          "metadata": {
            "tags": []
          },
          "execution_count": 43
        }
      ]
    },
    {
      "cell_type": "code",
      "metadata": {
        "id": "fRWoNwQYWadL",
        "colab_type": "code",
        "colab": {
          "base_uri": "https://localhost:8080/",
          "height": 298
        },
        "outputId": "e97ec0e5-9ae7-4231-8da7-cd9fc0fddcc3"
      },
      "source": [
        "rdf.year.value_counts().plot.bar()"
      ],
      "execution_count": 15,
      "outputs": [
        {
          "output_type": "execute_result",
          "data": {
            "text/plain": [
              "<matplotlib.axes._subplots.AxesSubplot at 0x7fb00cc1a470>"
            ]
          },
          "metadata": {
            "tags": []
          },
          "execution_count": 15
        },
        {
          "output_type": "display_data",
          "data": {
            "image/png": "[encoded data removed]",
            "text/plain": [
              "<Figure size 432x288 with 1 Axes>"
            ]
          },
          "metadata": {
            "tags": []
          }
        }
      ]
    },
    {
      "cell_type": "code",
      "metadata": {
        "id": "Oe5p_CV3Wm68",
        "colab_type": "code",
        "colab": {
          "base_uri": "https://localhost:8080/",
          "height": 34
        },
        "outputId": "9285fe61-47a4-4376-8ea5-a2f81206a075"
      },
      "source": [
        "rdf.year.quantile(.25)"
      ],
      "execution_count": 7,
      "outputs": [
        {
          "output_type": "execute_result",
          "data": {
            "text/plain": [
              "2013.0"
            ]
          },
          "metadata": {
            "tags": []
          },
          "execution_count": 7
        }
      ]
    },
    {
      "cell_type": "markdown",
      "metadata": {
        "id": "tz_sHHj8W_Ja",
        "colab_type": "text"
      },
      "source": [
        "\n",
        "\n",
        "---\n",
        "**3. Month**\n"
      ]
    },
    {
      "cell_type": "code",
      "metadata": {
        "id": "3DY6akzYWxp4",
        "colab_type": "code",
        "colab": {
          "base_uri": "https://localhost:8080/",
          "height": 238
        },
        "outputId": "4bce665d-dd30-463a-a214-d269764aea44"
      },
      "source": [
        "rdf.month.value_counts()"
      ],
      "execution_count": 49,
      "outputs": [
        {
          "output_type": "execute_result",
          "data": {
            "text/plain": [
              "7     9235\n",
              "6     8300\n",
              "5     7968\n",
              "8     7897\n",
              "4     7524\n",
              "3     7328\n",
              "1     7178\n",
              "2     7013\n",
              "10    6608\n",
              "9     6597\n",
              "12    6510\n",
              "11    6358\n",
              "Name: month, dtype: int64"
            ]
          },
          "metadata": {
            "tags": []
          },
          "execution_count": 49
        }
      ]
    },
    {
      "cell_type": "code",
      "metadata": {
        "id": "jbuYCkcxXK2e",
        "colab_type": "code",
        "colab": {
          "base_uri": "https://localhost:8080/",
          "height": 285
        },
        "outputId": "fc1a1fb5-c024-4a34-c50f-7a2a2c842ceb"
      },
      "source": [
        "rdf.month.value_counts().plot.bar()"
      ],
      "execution_count": 10,
      "outputs": [
        {
          "output_type": "execute_result",
          "data": {
            "text/plain": [
              "<matplotlib.axes._subplots.AxesSubplot at 0x7fb00cd70588>"
            ]
          },
          "metadata": {
            "tags": []
          },
          "execution_count": 10
        },
        {
          "output_type": "display_data",
          "data": {
            "image/png": "[encoded data removed]",
            "text/plain": [
              "<Figure size 432x288 with 1 Axes>"
            ]
          },
          "metadata": {
            "tags": []
          }
        }
      ]
    },
    {
      "cell_type": "markdown",
      "metadata": {
        "id": "es4dhNOhBJdV",
        "colab_type": "text"
      },
      "source": [
        "\n",
        "\n",
        "---\n",
        "\n",
        "\n",
        "**4. Weekday**"
      ]
    },
    {
      "cell_type": "code",
      "metadata": {
        "id": "5p-XIk1eAlko",
        "colab_type": "code",
        "colab": {
          "base_uri": "https://localhost:8080/",
          "height": 153
        },
        "outputId": "36c0bd62-f476-4fb1-8b8d-89ef480857d4"
      },
      "source": [
        "rdf.weekday.value_counts()"
      ],
      "execution_count": 286,
      "outputs": [
        {
          "output_type": "execute_result",
          "data": {
            "text/plain": [
              "Sunday       14269\n",
              "Monday       13729\n",
              "Saturday     12530\n",
              "Wednesday    12486\n",
              "Tuesday      12152\n",
              "Thursday     11891\n",
              "Friday       11459\n",
              "Name: weekday, dtype: int64"
            ]
          },
          "metadata": {
            "tags": []
          },
          "execution_count": 286
        }
      ]
    },
    {
      "cell_type": "code",
      "metadata": {
        "id": "Ll50NifxBCeJ",
        "colab_type": "code",
        "colab": {
          "base_uri": "https://localhost:8080/",
          "height": 331
        },
        "outputId": "515beb77-7cc0-40e4-bbbc-ae9bdf6362fc"
      },
      "source": [
        "rdf.weekday.value_counts().plot.bar()"
      ],
      "execution_count": 287,
      "outputs": [
        {
          "output_type": "execute_result",
          "data": {
            "text/plain": [
              "<matplotlib.axes._subplots.AxesSubplot at 0x7f0e6fce5278>"
            ]
          },
          "metadata": {
            "tags": []
          },
          "execution_count": 287
        },
        {
          "output_type": "display_data",
          "data": {
            "image/png": "[encoded data removed]",
            "text/plain": [
              "<Figure size 432x288 with 1 Axes>"
            ]
          },
          "metadata": {
            "tags": []
          }
        }
      ]
    },
    {
      "cell_type": "markdown",
      "metadata": {
        "id": "JCoZXR3jBpmZ",
        "colab_type": "text"
      },
      "source": [
        "\n",
        "\n",
        "---\n",
        "**5. Category**\n"
      ]
    },
    {
      "cell_type": "code",
      "metadata": {
        "id": "3ugI-AHSBF8Q",
        "colab_type": "code",
        "colab": {
          "base_uri": "https://localhost:8080/",
          "height": 153
        },
        "outputId": "958a4803-3027-4fad-e863-cba72f3a6d11"
      },
      "source": [
        "rdf.category.value_counts()"
      ],
      "execution_count": 288,
      "outputs": [
        {
          "output_type": "execute_result",
          "data": {
            "text/plain": [
              "restaurants       56323\n",
              "bars              12779\n",
              "other              6917\n",
              "entertainment      6729\n",
              "travel             2722\n",
              "beauty_spa         1876\n",
              "public_service     1170\n",
              "Name: category, dtype: int64"
            ]
          },
          "metadata": {
            "tags": []
          },
          "execution_count": 288
        }
      ]
    },
    {
      "cell_type": "code",
      "metadata": {
        "id": "CoJMz9sLBhm3",
        "colab_type": "code",
        "colab": {
          "base_uri": "https://localhost:8080/",
          "height": 344
        },
        "outputId": "8369b79c-29af-4ffb-b060-6539d44871b0"
      },
      "source": [
        "rdf.category.value_counts().plot.bar()"
      ],
      "execution_count": 289,
      "outputs": [
        {
          "output_type": "execute_result",
          "data": {
            "text/plain": [
              "<matplotlib.axes._subplots.AxesSubplot at 0x7f0e6deeea58>"
            ]
          },
          "metadata": {
            "tags": []
          },
          "execution_count": 289
        },
        {
          "output_type": "display_data",
          "data": {
            "image/png": "[encoded data removed]",
            "text/plain": [
              "<Figure size 432x288 with 1 Axes>"
            ]
          },
          "metadata": {
            "tags": []
          }
        }
      ]
    },
    {
      "cell_type": "markdown",
      "metadata": {
        "id": "Iti62ecGxqf0",
        "colab_type": "text"
      },
      "source": [
        "\n",
        "\n",
        "---\n",
        "\n",
        "**6. Open**"
      ]
    },
    {
      "cell_type": "code",
      "metadata": {
        "id": "VwzHxkJqxyT0",
        "colab_type": "code",
        "colab": {
          "base_uri": "https://localhost:8080/",
          "height": 68
        },
        "outputId": "9788a29a-16a1-4a5a-8de6-1188426faed7"
      },
      "source": [
        "rdf.open.value_counts()"
      ],
      "execution_count": 21,
      "outputs": [
        {
          "output_type": "execute_result",
          "data": {
            "text/plain": [
              "1    79325\n",
              "0     9191\n",
              "Name: open, dtype: int64"
            ]
          },
          "metadata": {
            "tags": []
          },
          "execution_count": 21
        }
      ]
    },
    {
      "cell_type": "code",
      "metadata": {
        "id": "xFkiu8r5ystm",
        "colab_type": "code",
        "colab": {
          "base_uri": "https://localhost:8080/",
          "height": 279
        },
        "outputId": "3fda7304-c866-494d-d092-b06025634e8e"
      },
      "source": [
        "rdf.open.value_counts().plot.bar()"
      ],
      "execution_count": 23,
      "outputs": [
        {
          "output_type": "execute_result",
          "data": {
            "text/plain": [
              "<matplotlib.axes._subplots.AxesSubplot at 0x7fb00ca68320>"
            ]
          },
          "metadata": {
            "tags": []
          },
          "execution_count": 23
        },
        {
          "output_type": "display_data",
          "data": {
            "image/png": "[encoded data removed]",
            "text/plain": [
              "<Figure size 432x288 with 1 Axes>"
            ]
          },
          "metadata": {
            "tags": []
          }
        }
      ]
    },
    {
      "cell_type": "markdown",
      "metadata": {
        "id": "jPHuCmFLE3MS",
        "colab_type": "text"
      },
      "source": [
        "\n",
        "\n",
        "---\n",
        "**7. District**\n",
        "\n"
      ]
    },
    {
      "cell_type": "code",
      "metadata": {
        "id": "KTPTK7fCBkfF",
        "colab_type": "code",
        "colab": {
          "base_uri": "https://localhost:8080/",
          "height": 221
        },
        "outputId": "94d6c561-4dd9-43b3-9165-344e1151888b"
      },
      "source": [
        "rdf.district.value_counts()"
      ],
      "execution_count": 293,
      "outputs": [
        {
          "output_type": "execute_result",
          "data": {
            "text/plain": [
              "other                 37390\n",
              "Gateway District      12570\n",
              "Ohio City             10647\n",
              "Tremont                8069\n",
              "Detroit-Shoreway       3965\n",
              "Goodrich Kirtland      3388\n",
              "Warehouse District     3258\n",
              "University             2884\n",
              "Little Italy           2268\n",
              "Riverside              2056\n",
              "Civic Center           2021\n",
              "Name: district, dtype: int64"
            ]
          },
          "metadata": {
            "tags": []
          },
          "execution_count": 293
        }
      ]
    },
    {
      "cell_type": "code",
      "metadata": {
        "id": "lGkQzTz3B0WV",
        "colab_type": "code",
        "colab": {
          "base_uri": "https://localhost:8080/",
          "height": 368
        },
        "outputId": "dead2ad7-e1f8-4e2d-9c48-13d0f0fef827"
      },
      "source": [
        "rdf.district.value_counts().plot.bar()"
      ],
      "execution_count": 294,
      "outputs": [
        {
          "output_type": "execute_result",
          "data": {
            "text/plain": [
              "<matplotlib.axes._subplots.AxesSubplot at 0x7f0e6e645320>"
            ]
          },
          "metadata": {
            "tags": []
          },
          "execution_count": 294
        },
        {
          "output_type": "display_data",
          "data": {
            "image/png": "[encoded data removed]",
            "text/plain": [
              "<Figure size 432x288 with 1 Axes>"
            ]
          },
          "metadata": {
            "tags": []
          }
        }
      ]
    },
    {
      "cell_type": "code",
      "metadata": {
        "id": "qO5X3HCgCQnq",
        "colab_type": "code",
        "colab": {
          "base_uri": "https://localhost:8080/",
          "height": 368
        },
        "outputId": "af76ebaa-e8d4-44b1-d94d-9dfad7cf475c"
      },
      "source": [
        "#without Other districts\n",
        "rdf.district.value_counts()[1:].plot.bar()"
      ],
      "execution_count": 310,
      "outputs": [
        {
          "output_type": "execute_result",
          "data": {
            "text/plain": [
              "<matplotlib.axes._subplots.AxesSubplot at 0x7f0e6dfd1ef0>"
            ]
          },
          "metadata": {
            "tags": []
          },
          "execution_count": 310
        },
        {
          "output_type": "display_data",
          "data": {
            "image/png": "[encoded data removed]",
            "text/plain": [
              "<Figure size 432x288 with 1 Axes>"
            ]
          },
          "metadata": {
            "tags": []
          }
        }
      ]
    },
    {
      "cell_type": "markdown",
      "metadata": {
        "id": "Tgi12KVsE8Xd",
        "colab_type": "text"
      },
      "source": [
        "\n",
        "\n",
        "---\n",
        "**8. Street**\n"
      ]
    },
    {
      "cell_type": "code",
      "metadata": {
        "id": "G4huOp9qCcjT",
        "colab_type": "code",
        "colab": {
          "base_uri": "https://localhost:8080/",
          "height": 323
        },
        "outputId": "277274dc-e0ab-4e16-8b1c-346606d8fd3c"
      },
      "source": [
        "rdf.street.value_counts()"
      ],
      "execution_count": 311,
      "outputs": [
        {
          "output_type": "execute_result",
          "data": {
            "text/plain": [
              "other            47956\n",
              "Euclid Ave        6739\n",
              "W 25th St         4474\n",
              "E 4th St          3674\n",
              "Lorain Ave        3633\n",
              "Mayfield Rd       3269\n",
              "Detroit Ave       3180\n",
              "Lee Rd            2481\n",
              "Coventry Rd       2422\n",
              "Professor Ave     1661\n",
              "Cedar Rd          1642\n",
              "W 11th St         1280\n",
              "Pearl Rd          1260\n",
              "Riverside Dr      1256\n",
              "Market Ave        1207\n",
              "W 6th St          1196\n",
              "Fulton Rd         1186\n",
              "Name: street, dtype: int64"
            ]
          },
          "metadata": {
            "tags": []
          },
          "execution_count": 311
        }
      ]
    },
    {
      "cell_type": "code",
      "metadata": {
        "id": "0jvH3-5NFDNV",
        "colab_type": "code",
        "colab": {
          "base_uri": "https://localhost:8080/",
          "height": 343
        },
        "outputId": "75dba1d1-9cd1-4693-b30a-d7c397a7fc15"
      },
      "source": [
        "rdf.street.value_counts().plot.bar()"
      ],
      "execution_count": 312,
      "outputs": [
        {
          "output_type": "execute_result",
          "data": {
            "text/plain": [
              "<matplotlib.axes._subplots.AxesSubplot at 0x7f0e6e2c9cf8>"
            ]
          },
          "metadata": {
            "tags": []
          },
          "execution_count": 312
        },
        {
          "output_type": "display_data",
          "data": {
            "image/png": "[encoded data removed]",
            "text/plain": [
              "<Figure size 432x288 with 1 Axes>"
            ]
          },
          "metadata": {
            "tags": []
          }
        }
      ]
    },
    {
      "cell_type": "code",
      "metadata": {
        "id": "k5C8Pzw7FKd9",
        "colab_type": "code",
        "colab": {
          "base_uri": "https://localhost:8080/",
          "height": 343
        },
        "outputId": "8d6d575b-4d8e-4b1d-b924-d6eb9b56ebea"
      },
      "source": [
        "#without Other streets\n",
        "rdf.street.value_counts()[1:].plot.bar()"
      ],
      "execution_count": 313,
      "outputs": [
        {
          "output_type": "execute_result",
          "data": {
            "text/plain": [
              "<matplotlib.axes._subplots.AxesSubplot at 0x7f0e6e30dfd0>"
            ]
          },
          "metadata": {
            "tags": []
          },
          "execution_count": 313
        },
        {
          "output_type": "display_data",
          "data": {
            "image/png": "[encoded data removed]",
            "text/plain": [
              "<Figure size 432x288 with 1 Axes>"
            ]
          },
          "metadata": {
            "tags": []
          }
        }
      ]
    },
    {
      "cell_type": "markdown",
      "metadata": {
        "id": "7uawkP8aFsde",
        "colab_type": "text"
      },
      "source": [
        "\n",
        "\n",
        "---\n",
        "**9. Useful Review**\n"
      ]
    },
    {
      "cell_type": "code",
      "metadata": {
        "id": "1pAUUkrIFNNb",
        "colab_type": "code",
        "colab": {
          "base_uri": "https://localhost:8080/",
          "height": 85
        },
        "outputId": "ed7b5667-8a27-482f-be13-d30b58c95f68"
      },
      "source": [
        "rdf.useful_review.value_counts()"
      ],
      "execution_count": 314,
      "outputs": [
        {
          "output_type": "execute_result",
          "data": {
            "text/plain": [
              "not rated      45942\n",
              "useful         21813\n",
              "very useful    20761\n",
              "Name: useful_review, dtype: int64"
            ]
          },
          "metadata": {
            "tags": []
          },
          "execution_count": 314
        }
      ]
    },
    {
      "cell_type": "code",
      "metadata": {
        "id": "_MQZ6bE6GDDM",
        "colab_type": "code",
        "colab": {
          "base_uri": "https://localhost:8080/",
          "height": 328
        },
        "outputId": "837eca0a-4f56-46c6-caf6-cf9b7c1f26bb"
      },
      "source": [
        "rdf.useful_review.value_counts().plot.bar()"
      ],
      "execution_count": 315,
      "outputs": [
        {
          "output_type": "execute_result",
          "data": {
            "text/plain": [
              "<matplotlib.axes._subplots.AxesSubplot at 0x7f0e6dfd14a8>"
            ]
          },
          "metadata": {
            "tags": []
          },
          "execution_count": 315
        },
        {
          "output_type": "display_data",
          "data": {
            "image/png": "[encoded data removed]",
            "text/plain": [
              "<Figure size 432x288 with 1 Axes>"
            ]
          },
          "metadata": {
            "tags": []
          }
        }
      ]
    },
    {
      "cell_type": "markdown",
      "metadata": {
        "id": "GsDFhRt6HGyt",
        "colab_type": "text"
      },
      "source": [
        "\n",
        "\n",
        "---\n",
        "**10. Cool Review**\n",
        "\n",
        "\n"
      ]
    },
    {
      "cell_type": "code",
      "metadata": {
        "id": "bYeMCq7oGG3g",
        "colab_type": "code",
        "colab": {
          "base_uri": "https://localhost:8080/",
          "height": 85
        },
        "outputId": "8810a17f-d6db-4a10-c40b-cfdc16d8ce4c"
      },
      "source": [
        "rdf.cool_review.value_counts()"
      ],
      "execution_count": 316,
      "outputs": [
        {
          "output_type": "execute_result",
          "data": {
            "text/plain": [
              "not rated    62928\n",
              "cool         16241\n",
              "very cool     9347\n",
              "Name: cool_review, dtype: int64"
            ]
          },
          "metadata": {
            "tags": []
          },
          "execution_count": 316
        }
      ]
    },
    {
      "cell_type": "code",
      "metadata": {
        "id": "rNNQN621HYs1",
        "colab_type": "code",
        "colab": {
          "base_uri": "https://localhost:8080/",
          "height": 318
        },
        "outputId": "94e47fb7-a17e-4765-ff65-f26248480911"
      },
      "source": [
        "rdf.cool_review.value_counts().plot.bar()"
      ],
      "execution_count": 317,
      "outputs": [
        {
          "output_type": "execute_result",
          "data": {
            "text/plain": [
              "<matplotlib.axes._subplots.AxesSubplot at 0x7f0e6e441c18>"
            ]
          },
          "metadata": {
            "tags": []
          },
          "execution_count": 317
        },
        {
          "output_type": "display_data",
          "data": {
            "image/png": "[encoded data removed]",
            "text/plain": [
              "<Figure size 432x288 with 1 Axes>"
            ]
          },
          "metadata": {
            "tags": []
          }
        }
      ]
    },
    {
      "cell_type": "markdown",
      "metadata": {
        "id": "jefO2McmHgnK",
        "colab_type": "text"
      },
      "source": [
        "\n",
        "\n",
        "---\n",
        "**11. Funny Review**\n"
      ]
    },
    {
      "cell_type": "code",
      "metadata": {
        "id": "JmYgQyX4HdgV",
        "colab_type": "code",
        "colab": {
          "base_uri": "https://localhost:8080/",
          "height": 85
        },
        "outputId": "2482e1ee-0a20-4860-da94-e722d07e5c09"
      },
      "source": [
        "rdf.funny_review.value_counts()"
      ],
      "execution_count": 318,
      "outputs": [
        {
          "output_type": "execute_result",
          "data": {
            "text/plain": [
              "not rated     68622\n",
              "funny         12809\n",
              "very funny     7085\n",
              "Name: funny_review, dtype: int64"
            ]
          },
          "metadata": {
            "tags": []
          },
          "execution_count": 318
        }
      ]
    },
    {
      "cell_type": "code",
      "metadata": {
        "id": "efHS7yrrjALG",
        "colab_type": "code",
        "colab": {
          "base_uri": "https://localhost:8080/",
          "height": 326
        },
        "outputId": "87d46fb1-273e-4573-a427-62cfc34e5282"
      },
      "source": [
        "rdf.funny_review.value_counts().plot.bar()"
      ],
      "execution_count": 16,
      "outputs": [
        {
          "output_type": "execute_result",
          "data": {
            "text/plain": [
              "<matplotlib.axes._subplots.AxesSubplot at 0x7fb00cc06128>"
            ]
          },
          "metadata": {
            "tags": []
          },
          "execution_count": 16
        },
        {
          "output_type": "display_data",
          "data": {
            "image/png": "[encoded data removed]",
            "text/plain": [
              "<Figure size 432x288 with 1 Axes>"
            ]
          },
          "metadata": {
            "tags": []
          }
        }
      ]
    },
    {
      "cell_type": "markdown",
      "metadata": {
        "id": "YUp33jt6H1Fv",
        "colab_type": "text"
      },
      "source": [
        "### Numeric Data"
      ]
    },
    {
      "cell_type": "code",
      "metadata": {
        "id": "yrIu2tP0S4Hz",
        "colab_type": "code",
        "colab": {
          "base_uri": "https://localhost:8080/",
          "height": 317
        },
        "outputId": "0fec876d-e1d1-47fc-b292-de20aa25b6fc"
      },
      "source": [
        "rdf.describe()"
      ],
      "execution_count": 5,
      "outputs": [
        {
          "output_type": "execute_result",
          "data": {
            "text/html": [
              "<div>\n",
              "<style scoped>\n",
              "    .dataframe tbody tr th:only-of-type {\n",
              "        vertical-align: middle;\n",
              "    }\n",
              "\n",
              "    .dataframe tbody tr th {\n",
              "        vertical-align: top;\n",
              "    }\n",
              "\n",
              "    .dataframe thead th {\n",
              "        text-align: right;\n",
              "    }\n",
              "</style>\n",
              "<table border=\"1\" class=\"dataframe\">\n",
              "  <thead>\n",
              "    <tr style=\"text-align: right;\">\n",
              "      <th></th>\n",
              "      <th>stars</th>\n",
              "      <th>year</th>\n",
              "      <th>month</th>\n",
              "      <th>company_star</th>\n",
              "      <th>company_review</th>\n",
              "      <th>reviewbin</th>\n",
              "      <th>open</th>\n",
              "      <th>post_code</th>\n",
              "      <th>accept_credit_card</th>\n",
              "      <th>mon_open</th>\n",
              "      <th>mon_close</th>\n",
              "      <th>tue_open</th>\n",
              "      <th>tue_close</th>\n",
              "      <th>wed_open</th>\n",
              "      <th>wed_close</th>\n",
              "      <th>thu_open</th>\n",
              "      <th>thu_close</th>\n",
              "      <th>fri_open</th>\n",
              "      <th>fri_close</th>\n",
              "      <th>sat_open</th>\n",
              "      <th>sat_close</th>\n",
              "      <th>sun_open</th>\n",
              "      <th>sun_close</th>\n",
              "      <th>park_garage</th>\n",
              "      <th>park_street</th>\n",
              "      <th>park_lot</th>\n",
              "      <th>park_valid</th>\n",
              "      <th>park_vallet</th>\n",
              "      <th>park_bike</th>\n",
              "    </tr>\n",
              "  </thead>\n",
              "  <tbody>\n",
              "    <tr>\n",
              "      <th>count</th>\n",
              "      <td>88516.000000</td>\n",
              "      <td>88516.000000</td>\n",
              "      <td>88516.000000</td>\n",
              "      <td>88516.000000</td>\n",
              "      <td>88516.000000</td>\n",
              "      <td>88516.000000</td>\n",
              "      <td>88516.000000</td>\n",
              "      <td>88516.000000</td>\n",
              "      <td>88516.000000</td>\n",
              "      <td>88516.000000</td>\n",
              "      <td>88516.000000</td>\n",
              "      <td>88516.000000</td>\n",
              "      <td>88516.000000</td>\n",
              "      <td>88516.000000</td>\n",
              "      <td>88516.000000</td>\n",
              "      <td>88516.000000</td>\n",
              "      <td>88516.000000</td>\n",
              "      <td>88516.000000</td>\n",
              "      <td>88516.000000</td>\n",
              "      <td>88516.000000</td>\n",
              "      <td>88516.000000</td>\n",
              "      <td>88516.000000</td>\n",
              "      <td>88516.000000</td>\n",
              "      <td>88516.000000</td>\n",
              "      <td>88516.000000</td>\n",
              "      <td>88516.000000</td>\n",
              "      <td>88516.000000</td>\n",
              "      <td>88516.000000</td>\n",
              "      <td>88516.000000</td>\n",
              "    </tr>\n",
              "    <tr>\n",
              "      <th>mean</th>\n",
              "      <td>3.763150</td>\n",
              "      <td>2014.044105</td>\n",
              "      <td>6.374622</td>\n",
              "      <td>3.757688</td>\n",
              "      <td>157.698653</td>\n",
              "      <td>1.987776</td>\n",
              "      <td>0.896166</td>\n",
              "      <td>44051.733201</td>\n",
              "      <td>0.846310</td>\n",
              "      <td>8.047890</td>\n",
              "      <td>11.484907</td>\n",
              "      <td>9.459623</td>\n",
              "      <td>13.458324</td>\n",
              "      <td>9.651690</td>\n",
              "      <td>13.687119</td>\n",
              "      <td>9.613889</td>\n",
              "      <td>13.351394</td>\n",
              "      <td>9.551753</td>\n",
              "      <td>11.847858</td>\n",
              "      <td>9.456516</td>\n",
              "      <td>11.264461</td>\n",
              "      <td>7.371436</td>\n",
              "      <td>10.822439</td>\n",
              "      <td>-0.044636</td>\n",
              "      <td>0.377649</td>\n",
              "      <td>0.133580</td>\n",
              "      <td>-0.122260</td>\n",
              "      <td>-0.010642</td>\n",
              "      <td>0.539891</td>\n",
              "    </tr>\n",
              "    <tr>\n",
              "      <th>std</th>\n",
              "      <td>1.342636</td>\n",
              "      <td>2.295387</td>\n",
              "      <td>3.331614</td>\n",
              "      <td>0.684559</td>\n",
              "      <td>186.425957</td>\n",
              "      <td>1.610277</td>\n",
              "      <td>0.305047</td>\n",
              "      <td>1669.843033</td>\n",
              "      <td>0.510713</td>\n",
              "      <td>5.932172</td>\n",
              "      <td>10.258941</td>\n",
              "      <td>5.439669</td>\n",
              "      <td>9.806517</td>\n",
              "      <td>5.328771</td>\n",
              "      <td>9.725802</td>\n",
              "      <td>5.289526</td>\n",
              "      <td>9.793024</td>\n",
              "      <td>5.151611</td>\n",
              "      <td>10.106608</td>\n",
              "      <td>5.366045</td>\n",
              "      <td>10.115130</td>\n",
              "      <td>6.149075</td>\n",
              "      <td>10.179722</td>\n",
              "      <td>0.469467</td>\n",
              "      <td>0.708563</td>\n",
              "      <td>0.618681</td>\n",
              "      <td>0.360304</td>\n",
              "      <td>0.506234</td>\n",
              "      <td>0.779635</td>\n",
              "    </tr>\n",
              "    <tr>\n",
              "      <th>min</th>\n",
              "      <td>1.000000</td>\n",
              "      <td>2005.000000</td>\n",
              "      <td>1.000000</td>\n",
              "      <td>1.000000</td>\n",
              "      <td>3.000000</td>\n",
              "      <td>1.000000</td>\n",
              "      <td>0.000000</td>\n",
              "      <td>0.000000</td>\n",
              "      <td>-1.000000</td>\n",
              "      <td>-1.000000</td>\n",
              "      <td>-1.000000</td>\n",
              "      <td>-1.000000</td>\n",
              "      <td>-1.000000</td>\n",
              "      <td>-1.000000</td>\n",
              "      <td>-1.000000</td>\n",
              "      <td>-1.000000</td>\n",
              "      <td>-1.000000</td>\n",
              "      <td>-1.000000</td>\n",
              "      <td>-1.000000</td>\n",
              "      <td>-1.000000</td>\n",
              "      <td>-1.000000</td>\n",
              "      <td>-1.000000</td>\n",
              "      <td>-1.000000</td>\n",
              "      <td>-1.000000</td>\n",
              "      <td>-1.000000</td>\n",
              "      <td>-1.000000</td>\n",
              "      <td>-1.000000</td>\n",
              "      <td>-1.000000</td>\n",
              "      <td>-1.000000</td>\n",
              "    </tr>\n",
              "    <tr>\n",
              "      <th>25%</th>\n",
              "      <td>3.000000</td>\n",
              "      <td>2013.000000</td>\n",
              "      <td>4.000000</td>\n",
              "      <td>3.500000</td>\n",
              "      <td>31.000000</td>\n",
              "      <td>1.000000</td>\n",
              "      <td>1.000000</td>\n",
              "      <td>44113.000000</td>\n",
              "      <td>1.000000</td>\n",
              "      <td>0.000000</td>\n",
              "      <td>0.000000</td>\n",
              "      <td>7.000000</td>\n",
              "      <td>1.000000</td>\n",
              "      <td>7.000000</td>\n",
              "      <td>2.000000</td>\n",
              "      <td>7.000000</td>\n",
              "      <td>2.000000</td>\n",
              "      <td>7.000000</td>\n",
              "      <td>1.000000</td>\n",
              "      <td>8.000000</td>\n",
              "      <td>1.000000</td>\n",
              "      <td>-1.000000</td>\n",
              "      <td>-1.000000</td>\n",
              "      <td>0.000000</td>\n",
              "      <td>0.000000</td>\n",
              "      <td>0.000000</td>\n",
              "      <td>0.000000</td>\n",
              "      <td>0.000000</td>\n",
              "      <td>0.000000</td>\n",
              "    </tr>\n",
              "    <tr>\n",
              "      <th>50%</th>\n",
              "      <td>4.000000</td>\n",
              "      <td>2015.000000</td>\n",
              "      <td>6.000000</td>\n",
              "      <td>4.000000</td>\n",
              "      <td>89.000000</td>\n",
              "      <td>1.000000</td>\n",
              "      <td>1.000000</td>\n",
              "      <td>44113.000000</td>\n",
              "      <td>1.000000</td>\n",
              "      <td>10.000000</td>\n",
              "      <td>17.000000</td>\n",
              "      <td>11.000000</td>\n",
              "      <td>19.000000</td>\n",
              "      <td>11.000000</td>\n",
              "      <td>19.000000</td>\n",
              "      <td>11.000000</td>\n",
              "      <td>19.000000</td>\n",
              "      <td>11.000000</td>\n",
              "      <td>17.000000</td>\n",
              "      <td>11.000000</td>\n",
              "      <td>15.000000</td>\n",
              "      <td>10.000000</td>\n",
              "      <td>15.000000</td>\n",
              "      <td>0.000000</td>\n",
              "      <td>1.000000</td>\n",
              "      <td>0.000000</td>\n",
              "      <td>0.000000</td>\n",
              "      <td>0.000000</td>\n",
              "      <td>1.000000</td>\n",
              "    </tr>\n",
              "    <tr>\n",
              "      <th>75%</th>\n",
              "      <td>5.000000</td>\n",
              "      <td>2016.000000</td>\n",
              "      <td>9.000000</td>\n",
              "      <td>4.000000</td>\n",
              "      <td>205.000000</td>\n",
              "      <td>2.000000</td>\n",
              "      <td>1.000000</td>\n",
              "      <td>44115.000000</td>\n",
              "      <td>1.000000</td>\n",
              "      <td>11.000000</td>\n",
              "      <td>22.000000</td>\n",
              "      <td>11.000000</td>\n",
              "      <td>22.000000</td>\n",
              "      <td>11.000000</td>\n",
              "      <td>22.000000</td>\n",
              "      <td>11.000000</td>\n",
              "      <td>22.000000</td>\n",
              "      <td>11.000000</td>\n",
              "      <td>22.000000</td>\n",
              "      <td>12.000000</td>\n",
              "      <td>22.000000</td>\n",
              "      <td>11.000000</td>\n",
              "      <td>21.000000</td>\n",
              "      <td>0.000000</td>\n",
              "      <td>1.000000</td>\n",
              "      <td>1.000000</td>\n",
              "      <td>0.000000</td>\n",
              "      <td>0.000000</td>\n",
              "      <td>1.000000</td>\n",
              "    </tr>\n",
              "    <tr>\n",
              "      <th>max</th>\n",
              "      <td>5.000000</td>\n",
              "      <td>2017.000000</td>\n",
              "      <td>12.000000</td>\n",
              "      <td>5.000000</td>\n",
              "      <td>896.000000</td>\n",
              "      <td>8.000000</td>\n",
              "      <td>1.000000</td>\n",
              "      <td>44199.000000</td>\n",
              "      <td>1.000000</td>\n",
              "      <td>22.000000</td>\n",
              "      <td>23.000000</td>\n",
              "      <td>22.000000</td>\n",
              "      <td>23.000000</td>\n",
              "      <td>22.000000</td>\n",
              "      <td>23.000000</td>\n",
              "      <td>22.000000</td>\n",
              "      <td>23.000000</td>\n",
              "      <td>22.000000</td>\n",
              "      <td>23.000000</td>\n",
              "      <td>23.000000</td>\n",
              "      <td>23.000000</td>\n",
              "      <td>22.000000</td>\n",
              "      <td>23.000000</td>\n",
              "      <td>1.000000</td>\n",
              "      <td>1.000000</td>\n",
              "      <td>1.000000</td>\n",
              "      <td>1.000000</td>\n",
              "      <td>1.000000</td>\n",
              "      <td>1.000000</td>\n",
              "    </tr>\n",
              "  </tbody>\n",
              "</table>\n",
              "</div>"
            ],
            "text/plain": [
              "              stars          year  ...   park_vallet     park_bike\n",
              "count  88516.000000  88516.000000  ...  88516.000000  88516.000000\n",
              "mean       3.763150   2014.044105  ...     -0.010642      0.539891\n",
              "std        1.342636      2.295387  ...      0.506234      0.779635\n",
              "min        1.000000   2005.000000  ...     -1.000000     -1.000000\n",
              "25%        3.000000   2013.000000  ...      0.000000      0.000000\n",
              "50%        4.000000   2015.000000  ...      0.000000      1.000000\n",
              "75%        5.000000   2016.000000  ...      0.000000      1.000000\n",
              "max        5.000000   2017.000000  ...      1.000000      1.000000\n",
              "\n",
              "[8 rows x 29 columns]"
            ]
          },
          "metadata": {
            "tags": []
          },
          "execution_count": 5
        }
      ]
    },
    {
      "cell_type": "markdown",
      "metadata": {
        "id": "K8dhkIvKSw0G",
        "colab_type": "text"
      },
      "source": [
        "\n",
        "\n",
        "---\n",
        "\n",
        "\n",
        "**1. Stars**"
      ]
    },
    {
      "cell_type": "code",
      "metadata": {
        "id": "F5L7IOSsHyUE",
        "colab_type": "code",
        "colab": {
          "base_uri": "https://localhost:8080/",
          "height": 119
        },
        "outputId": "50510109-4103-4436-f40c-a008ee09d563"
      },
      "source": [
        "rdf.stars.value_counts()"
      ],
      "execution_count": 10,
      "outputs": [
        {
          "output_type": "execute_result",
          "data": {
            "text/plain": [
              "5    35073\n",
              "4    24507\n",
              "3    11441\n",
              "1     9607\n",
              "2     7888\n",
              "Name: stars, dtype: int64"
            ]
          },
          "metadata": {
            "tags": []
          },
          "execution_count": 10
        }
      ]
    },
    {
      "cell_type": "code",
      "metadata": {
        "id": "3fnL94y_JUOL",
        "colab_type": "code",
        "colab": {
          "base_uri": "https://localhost:8080/",
          "height": 34
        },
        "outputId": "6c425a37-fd0b-4f27-96b8-d8fa48f19729"
      },
      "source": [
        "rdf.stars.mean()"
      ],
      "execution_count": 23,
      "outputs": [
        {
          "output_type": "execute_result",
          "data": {
            "text/plain": [
              "3.763150164941931"
            ]
          },
          "metadata": {
            "tags": []
          },
          "execution_count": 23
        }
      ]
    },
    {
      "cell_type": "code",
      "metadata": {
        "id": "9FRbUpo3RoE4",
        "colab_type": "code",
        "colab": {
          "base_uri": "https://localhost:8080/",
          "height": 34
        },
        "outputId": "c2f9654a-c2e8-404d-a570-37eb3d49db07"
      },
      "source": [
        "rdf.stars.quantile(0.5)"
      ],
      "execution_count": 21,
      "outputs": [
        {
          "output_type": "execute_result",
          "data": {
            "text/plain": [
              "4.0"
            ]
          },
          "metadata": {
            "tags": []
          },
          "execution_count": 21
        }
      ]
    },
    {
      "cell_type": "code",
      "metadata": {
        "id": "s13DrGYiJgj3",
        "colab_type": "code",
        "colab": {
          "base_uri": "https://localhost:8080/",
          "height": 282
        },
        "outputId": "571cca04-9d0d-4c18-d42c-e81c8eeea3ef"
      },
      "source": [
        "rdf.stars.plot.hist(bins=5)#value_counts().plot.bar()"
      ],
      "execution_count": 15,
      "outputs": [
        {
          "output_type": "execute_result",
          "data": {
            "text/plain": [
              "<matplotlib.axes._subplots.AxesSubplot at 0x7f942dfc4eb8>"
            ]
          },
          "metadata": {
            "tags": []
          },
          "execution_count": 15
        },
        {
          "output_type": "display_data",
          "data": {
            "image/png": "[encoded data removed]",
            "text/plain": [
              "<Figure size 432x288 with 1 Axes>"
            ]
          },
          "metadata": {
            "tags": []
          }
        }
      ]
    },
    {
      "cell_type": "code",
      "metadata": {
        "id": "Qi3boR5NjIXr",
        "colab_type": "code",
        "colab": {
          "base_uri": "https://localhost:8080/",
          "height": 282
        },
        "outputId": "4697bbdd-4924-4148-84ec-4fed2c3adc4e"
      },
      "source": [
        "rdf.stars.plot.box()"
      ],
      "execution_count": 17,
      "outputs": [
        {
          "output_type": "execute_result",
          "data": {
            "text/plain": [
              "<matplotlib.axes._subplots.AxesSubplot at 0x7fb00ca91a90>"
            ]
          },
          "metadata": {
            "tags": []
          },
          "execution_count": 17
        },
        {
          "output_type": "display_data",
          "data": {
            "image/png": "[encoded data removed]",
            "text/plain": [
              "<Figure size 432x288 with 1 Axes>"
            ]
          },
          "metadata": {
            "tags": []
          }
        }
      ]
    },
    {
      "cell_type": "code",
      "metadata": {
        "id": "Lc_6axUZjI7R",
        "colab_type": "code",
        "colab": {
          "base_uri": "https://localhost:8080/",
          "height": 279
        },
        "outputId": "58ab519b-ecea-43fc-8d2e-54720d24fdfd"
      },
      "source": [
        "rdf.stars.value_counts().plot.bar()"
      ],
      "execution_count": 18,
      "outputs": [
        {
          "output_type": "execute_result",
          "data": {
            "text/plain": [
              "<matplotlib.axes._subplots.AxesSubplot at 0x7fb00c927e48>"
            ]
          },
          "metadata": {
            "tags": []
          },
          "execution_count": 18
        },
        {
          "output_type": "display_data",
          "data": {
            "image/png": "[encoded data removed]",
            "text/plain": [
              "<Figure size 432x288 with 1 Axes>"
            ]
          },
          "metadata": {
            "tags": []
          }
        }
      ]
    },
    {
      "cell_type": "markdown",
      "metadata": {
        "id": "1S-gGYnFzTrs",
        "colab_type": "text"
      },
      "source": [
        "## Ralationship"
      ]
    },
    {
      "cell_type": "markdown",
      "metadata": {
        "id": "eBvOh2hk0uEv",
        "colab_type": "text"
      },
      "source": [
        "### Year vs Star"
      ]
    },
    {
      "cell_type": "code",
      "metadata": {
        "id": "BEN8vcHxksNc",
        "colab_type": "code",
        "colab": {
          "base_uri": "https://localhost:8080/",
          "height": 483
        },
        "outputId": "8bee2be2-186c-4e66-abf2-8b7333fa3146"
      },
      "source": [
        "rdf.pipe(lambda df_: pd.crosstab(df_.year, df_.stars))"
      ],
      "execution_count": 30,
      "outputs": [
        {
          "output_type": "execute_result",
          "data": {
            "text/html": [
              "<div>\n",
              "<style scoped>\n",
              "    .dataframe tbody tr th:only-of-type {\n",
              "        vertical-align: middle;\n",
              "    }\n",
              "\n",
              "    .dataframe tbody tr th {\n",
              "        vertical-align: top;\n",
              "    }\n",
              "\n",
              "    .dataframe thead th {\n",
              "        text-align: right;\n",
              "    }\n",
              "</style>\n",
              "<table border=\"1\" class=\"dataframe\">\n",
              "  <thead>\n",
              "    <tr style=\"text-align: right;\">\n",
              "      <th>stars</th>\n",
              "      <th>1</th>\n",
              "      <th>2</th>\n",
              "      <th>3</th>\n",
              "      <th>4</th>\n",
              "      <th>5</th>\n",
              "    </tr>\n",
              "    <tr>\n",
              "      <th>year</th>\n",
              "      <th></th>\n",
              "      <th></th>\n",
              "      <th></th>\n",
              "      <th></th>\n",
              "      <th></th>\n",
              "    </tr>\n",
              "  </thead>\n",
              "  <tbody>\n",
              "    <tr>\n",
              "      <th>2005</th>\n",
              "      <td>0</td>\n",
              "      <td>2</td>\n",
              "      <td>13</td>\n",
              "      <td>52</td>\n",
              "      <td>23</td>\n",
              "    </tr>\n",
              "    <tr>\n",
              "      <th>2006</th>\n",
              "      <td>16</td>\n",
              "      <td>17</td>\n",
              "      <td>58</td>\n",
              "      <td>88</td>\n",
              "      <td>81</td>\n",
              "    </tr>\n",
              "    <tr>\n",
              "      <th>2007</th>\n",
              "      <td>20</td>\n",
              "      <td>39</td>\n",
              "      <td>57</td>\n",
              "      <td>142</td>\n",
              "      <td>190</td>\n",
              "    </tr>\n",
              "    <tr>\n",
              "      <th>2008</th>\n",
              "      <td>44</td>\n",
              "      <td>104</td>\n",
              "      <td>215</td>\n",
              "      <td>384</td>\n",
              "      <td>356</td>\n",
              "    </tr>\n",
              "    <tr>\n",
              "      <th>2009</th>\n",
              "      <td>93</td>\n",
              "      <td>142</td>\n",
              "      <td>318</td>\n",
              "      <td>631</td>\n",
              "      <td>492</td>\n",
              "    </tr>\n",
              "    <tr>\n",
              "      <th>2010</th>\n",
              "      <td>220</td>\n",
              "      <td>344</td>\n",
              "      <td>658</td>\n",
              "      <td>1299</td>\n",
              "      <td>1118</td>\n",
              "    </tr>\n",
              "    <tr>\n",
              "      <th>2011</th>\n",
              "      <td>421</td>\n",
              "      <td>612</td>\n",
              "      <td>1004</td>\n",
              "      <td>2170</td>\n",
              "      <td>2040</td>\n",
              "    </tr>\n",
              "    <tr>\n",
              "      <th>2012</th>\n",
              "      <td>673</td>\n",
              "      <td>780</td>\n",
              "      <td>1209</td>\n",
              "      <td>2573</td>\n",
              "      <td>2571</td>\n",
              "    </tr>\n",
              "    <tr>\n",
              "      <th>2013</th>\n",
              "      <td>944</td>\n",
              "      <td>928</td>\n",
              "      <td>1417</td>\n",
              "      <td>2929</td>\n",
              "      <td>3488</td>\n",
              "    </tr>\n",
              "    <tr>\n",
              "      <th>2014</th>\n",
              "      <td>1430</td>\n",
              "      <td>1138</td>\n",
              "      <td>1640</td>\n",
              "      <td>3741</td>\n",
              "      <td>5215</td>\n",
              "    </tr>\n",
              "    <tr>\n",
              "      <th>2015</th>\n",
              "      <td>2012</td>\n",
              "      <td>1432</td>\n",
              "      <td>1886</td>\n",
              "      <td>4151</td>\n",
              "      <td>6629</td>\n",
              "    </tr>\n",
              "    <tr>\n",
              "      <th>2016</th>\n",
              "      <td>2357</td>\n",
              "      <td>1503</td>\n",
              "      <td>1909</td>\n",
              "      <td>3904</td>\n",
              "      <td>7695</td>\n",
              "    </tr>\n",
              "    <tr>\n",
              "      <th>2017</th>\n",
              "      <td>1377</td>\n",
              "      <td>847</td>\n",
              "      <td>1057</td>\n",
              "      <td>2443</td>\n",
              "      <td>5175</td>\n",
              "    </tr>\n",
              "  </tbody>\n",
              "</table>\n",
              "</div>"
            ],
            "text/plain": [
              "stars     1     2     3     4     5\n",
              "year                               \n",
              "2005      0     2    13    52    23\n",
              "2006     16    17    58    88    81\n",
              "2007     20    39    57   142   190\n",
              "2008     44   104   215   384   356\n",
              "2009     93   142   318   631   492\n",
              "2010    220   344   658  1299  1118\n",
              "2011    421   612  1004  2170  2040\n",
              "2012    673   780  1209  2573  2571\n",
              "2013    944   928  1417  2929  3488\n",
              "2014   1430  1138  1640  3741  5215\n",
              "2015   2012  1432  1886  4151  6629\n",
              "2016   2357  1503  1909  3904  7695\n",
              "2017   1377   847  1057  2443  5175"
            ]
          },
          "metadata": {
            "tags": []
          },
          "execution_count": 30
        }
      ]
    },
    {
      "cell_type": "code",
      "metadata": {
        "id": "_q7S_lGtz7HC",
        "colab_type": "code",
        "colab": {
          "base_uri": "https://localhost:8080/",
          "height": 312
        },
        "outputId": "fa8bbcb2-4e0d-47d1-fa78-8f9780680b7c"
      },
      "source": [
        "rdf.pipe(lambda df_: pd.crosstab(df_.year, df_.stars)).plot.bar(stacked=True, width=1)"
      ],
      "execution_count": 33,
      "outputs": [
        {
          "output_type": "execute_result",
          "data": {
            "text/plain": [
              "<matplotlib.axes._subplots.AxesSubplot at 0x7fb00c33c630>"
            ]
          },
          "metadata": {
            "tags": []
          },
          "execution_count": 33
        },
        {
          "output_type": "display_data",
          "data": {
            "image/png": "[encoded data removed]",
            "text/plain": [
              "<Figure size 432x288 with 1 Axes>"
            ]
          },
          "metadata": {
            "tags": []
          }
        }
      ]
    },
    {
      "cell_type": "code",
      "metadata": {
        "id": "on9UyBG70O_m",
        "colab_type": "code",
        "colab": {
          "base_uri": "https://localhost:8080/",
          "height": 312
        },
        "outputId": "b6fce02f-352a-4faf-d96f-d68d2b70c139"
      },
      "source": [
        "(rdf\n",
        " .pipe(lambda df_: pd.crosstab(df_.year, df_.stars))\n",
        " .pipe(lambda df_: df_.div(df_.sum(axis=1), axis=0))\n",
        " .plot.bar(stacked=True, width=1)\n",
        " .legend(bbox_to_anchor = (1,1)))"
      ],
      "execution_count": 36,
      "outputs": [
        {
          "output_type": "execute_result",
          "data": {
            "text/plain": [
              "<matplotlib.legend.Legend at 0x7fb00c2052e8>"
            ]
          },
          "metadata": {
            "tags": []
          },
          "execution_count": 36
        },
        {
          "output_type": "display_data",
          "data": {
            "image/png": "[encoded data removed]",
            "text/plain": [
              "<Figure size 432x288 with 1 Axes>"
            ]
          },
          "metadata": {
            "tags": []
          }
        }
      ]
    },
    {
      "cell_type": "code",
      "metadata": {
        "id": "BujueAQk1mNx",
        "colab_type": "code",
        "colab": {
          "base_uri": "https://localhost:8080/",
          "height": 312
        },
        "outputId": "e5c86ad6-43b6-4770-f3f1-7b7fa97a9c22"
      },
      "source": [
        "stars = [5,4,3,2,1]\n",
        "(rdf\n",
        " .pipe(lambda df_: pd.crosstab(df_.year, df_.stars))\n",
        " .pipe(lambda df_: df_.div(df_.sum(axis=1), axis=0))\n",
        " .loc[:,stars]\n",
        " .plot.bar(stacked=True, width=1)\n",
        " .legend(bbox_to_anchor = (1,1)))"
      ],
      "execution_count": 38,
      "outputs": [
        {
          "output_type": "execute_result",
          "data": {
            "text/plain": [
              "<matplotlib.legend.Legend at 0x7fb00befc668>"
            ]
          },
          "metadata": {
            "tags": []
          },
          "execution_count": 38
        },
        {
          "output_type": "display_data",
          "data": {
            "image/png": "[encoded data removed]",
            "text/plain": [
              "<Figure size 432x288 with 1 Axes>"
            ]
          },
          "metadata": {
            "tags": []
          }
        }
      ]
    },
    {
      "cell_type": "markdown",
      "metadata": {
        "id": "62AjzstK28DK",
        "colab_type": "text"
      },
      "source": [
        "### Month vs Star"
      ]
    },
    {
      "cell_type": "code",
      "metadata": {
        "id": "aj_PCgPh27OB",
        "colab_type": "code",
        "colab": {
          "base_uri": "https://localhost:8080/",
          "height": 452
        },
        "outputId": "a5a26df4-893f-4a4f-f337-1ae1e66abbae"
      },
      "source": [
        "rdf.pipe(lambda df_: pd.crosstab(df_.month, df_.stars))"
      ],
      "execution_count": 41,
      "outputs": [
        {
          "output_type": "execute_result",
          "data": {
            "text/html": [
              "<div>\n",
              "<style scoped>\n",
              "    .dataframe tbody tr th:only-of-type {\n",
              "        vertical-align: middle;\n",
              "    }\n",
              "\n",
              "    .dataframe tbody tr th {\n",
              "        vertical-align: top;\n",
              "    }\n",
              "\n",
              "    .dataframe thead th {\n",
              "        text-align: right;\n",
              "    }\n",
              "</style>\n",
              "<table border=\"1\" class=\"dataframe\">\n",
              "  <thead>\n",
              "    <tr style=\"text-align: right;\">\n",
              "      <th>stars</th>\n",
              "      <th>1</th>\n",
              "      <th>2</th>\n",
              "      <th>3</th>\n",
              "      <th>4</th>\n",
              "      <th>5</th>\n",
              "    </tr>\n",
              "    <tr>\n",
              "      <th>month</th>\n",
              "      <th></th>\n",
              "      <th></th>\n",
              "      <th></th>\n",
              "      <th></th>\n",
              "      <th></th>\n",
              "    </tr>\n",
              "  </thead>\n",
              "  <tbody>\n",
              "    <tr>\n",
              "      <th>1</th>\n",
              "      <td>717</td>\n",
              "      <td>596</td>\n",
              "      <td>937</td>\n",
              "      <td>2053</td>\n",
              "      <td>2875</td>\n",
              "    </tr>\n",
              "    <tr>\n",
              "      <th>2</th>\n",
              "      <td>754</td>\n",
              "      <td>603</td>\n",
              "      <td>856</td>\n",
              "      <td>2002</td>\n",
              "      <td>2798</td>\n",
              "    </tr>\n",
              "    <tr>\n",
              "      <th>3</th>\n",
              "      <td>716</td>\n",
              "      <td>628</td>\n",
              "      <td>926</td>\n",
              "      <td>2053</td>\n",
              "      <td>3005</td>\n",
              "    </tr>\n",
              "    <tr>\n",
              "      <th>4</th>\n",
              "      <td>780</td>\n",
              "      <td>650</td>\n",
              "      <td>981</td>\n",
              "      <td>2054</td>\n",
              "      <td>3059</td>\n",
              "    </tr>\n",
              "    <tr>\n",
              "      <th>5</th>\n",
              "      <td>891</td>\n",
              "      <td>716</td>\n",
              "      <td>980</td>\n",
              "      <td>2140</td>\n",
              "      <td>3241</td>\n",
              "    </tr>\n",
              "    <tr>\n",
              "      <th>6</th>\n",
              "      <td>954</td>\n",
              "      <td>769</td>\n",
              "      <td>1062</td>\n",
              "      <td>2264</td>\n",
              "      <td>3251</td>\n",
              "    </tr>\n",
              "    <tr>\n",
              "      <th>7</th>\n",
              "      <td>1100</td>\n",
              "      <td>848</td>\n",
              "      <td>1171</td>\n",
              "      <td>2446</td>\n",
              "      <td>3670</td>\n",
              "    </tr>\n",
              "    <tr>\n",
              "      <th>8</th>\n",
              "      <td>894</td>\n",
              "      <td>714</td>\n",
              "      <td>1051</td>\n",
              "      <td>2262</td>\n",
              "      <td>2976</td>\n",
              "    </tr>\n",
              "    <tr>\n",
              "      <th>9</th>\n",
              "      <td>720</td>\n",
              "      <td>654</td>\n",
              "      <td>884</td>\n",
              "      <td>1805</td>\n",
              "      <td>2534</td>\n",
              "    </tr>\n",
              "    <tr>\n",
              "      <th>10</th>\n",
              "      <td>737</td>\n",
              "      <td>585</td>\n",
              "      <td>856</td>\n",
              "      <td>1839</td>\n",
              "      <td>2591</td>\n",
              "    </tr>\n",
              "    <tr>\n",
              "      <th>11</th>\n",
              "      <td>680</td>\n",
              "      <td>552</td>\n",
              "      <td>877</td>\n",
              "      <td>1729</td>\n",
              "      <td>2520</td>\n",
              "    </tr>\n",
              "    <tr>\n",
              "      <th>12</th>\n",
              "      <td>664</td>\n",
              "      <td>573</td>\n",
              "      <td>860</td>\n",
              "      <td>1860</td>\n",
              "      <td>2553</td>\n",
              "    </tr>\n",
              "  </tbody>\n",
              "</table>\n",
              "</div>"
            ],
            "text/plain": [
              "stars     1    2     3     4     5\n",
              "month                             \n",
              "1       717  596   937  2053  2875\n",
              "2       754  603   856  2002  2798\n",
              "3       716  628   926  2053  3005\n",
              "4       780  650   981  2054  3059\n",
              "5       891  716   980  2140  3241\n",
              "6       954  769  1062  2264  3251\n",
              "7      1100  848  1171  2446  3670\n",
              "8       894  714  1051  2262  2976\n",
              "9       720  654   884  1805  2534\n",
              "10      737  585   856  1839  2591\n",
              "11      680  552   877  1729  2520\n",
              "12      664  573   860  1860  2553"
            ]
          },
          "metadata": {
            "tags": []
          },
          "execution_count": 41
        }
      ]
    },
    {
      "cell_type": "code",
      "metadata": {
        "id": "lQSWbR5c2p4i",
        "colab_type": "code",
        "colab": {
          "base_uri": "https://localhost:8080/",
          "height": 299
        },
        "outputId": "d4db1ac1-87f2-4e70-f070-991de8fbd212"
      },
      "source": [
        "month = [7,6,5,8,4,3,1,2,9,10,12,11]\n",
        "(rdf\n",
        " .pipe(lambda df_: pd.crosstab(df_.month, df_.stars))\n",
        " .loc[month]\n",
        " .plot.bar(stacked=True, width=1)\n",
        " .legend(bbox_to_anchor=(1,1))\n",
        " )"
      ],
      "execution_count": 119,
      "outputs": [
        {
          "output_type": "execute_result",
          "data": {
            "text/plain": [
              "<matplotlib.legend.Legend at 0x7fb006eedf98>"
            ]
          },
          "metadata": {
            "tags": []
          },
          "execution_count": 119
        },
        {
          "output_type": "display_data",
          "data": {
            "image/png": "[encoded data removed]",
            "text/plain": [
              "<Figure size 432x288 with 1 Axes>"
            ]
          },
          "metadata": {
            "tags": []
          }
        }
      ]
    },
    {
      "cell_type": "code",
      "metadata": {
        "id": "a3AKCRXX3y7H",
        "colab_type": "code",
        "colab": {
          "base_uri": "https://localhost:8080/",
          "height": 299
        },
        "outputId": "cac0b938-8c94-42bc-c18f-ae58901f99c2"
      },
      "source": [
        "(rdf\n",
        " .pipe(lambda df_: pd.crosstab(df_.month, df_.stars))\n",
        " .pipe(lambda df_: df_.div(df_.sum(axis=1), axis=0))\n",
        " .plot.bar(stacked=True, width=1)\n",
        " .legend(bbox_to_anchor=(1,1))\n",
        " )"
      ],
      "execution_count": 46,
      "outputs": [
        {
          "output_type": "execute_result",
          "data": {
            "text/plain": [
              "<matplotlib.legend.Legend at 0x7fb00b5ffe80>"
            ]
          },
          "metadata": {
            "tags": []
          },
          "execution_count": 46
        },
        {
          "output_type": "display_data",
          "data": {
            "image/png": "[encoded data removed]",
            "text/plain": [
              "<Figure size 432x288 with 1 Axes>"
            ]
          },
          "metadata": {
            "tags": []
          }
        }
      ]
    },
    {
      "cell_type": "markdown",
      "metadata": {
        "id": "AndoA4H54Wuo",
        "colab_type": "text"
      },
      "source": [
        "### Weekday vs Star"
      ]
    },
    {
      "cell_type": "code",
      "metadata": {
        "id": "jh8auzlH4JFn",
        "colab_type": "code",
        "colab": {
          "base_uri": "https://localhost:8080/",
          "height": 297
        },
        "outputId": "953ef546-1a54-46d2-8b9d-62013b43b211"
      },
      "source": [
        "(rdf.pipe(lambda df_: pd.crosstab(df_.weekday, df_.stars)))"
      ],
      "execution_count": 47,
      "outputs": [
        {
          "output_type": "execute_result",
          "data": {
            "text/html": [
              "<div>\n",
              "<style scoped>\n",
              "    .dataframe tbody tr th:only-of-type {\n",
              "        vertical-align: middle;\n",
              "    }\n",
              "\n",
              "    .dataframe tbody tr th {\n",
              "        vertical-align: top;\n",
              "    }\n",
              "\n",
              "    .dataframe thead th {\n",
              "        text-align: right;\n",
              "    }\n",
              "</style>\n",
              "<table border=\"1\" class=\"dataframe\">\n",
              "  <thead>\n",
              "    <tr style=\"text-align: right;\">\n",
              "      <th>stars</th>\n",
              "      <th>1</th>\n",
              "      <th>2</th>\n",
              "      <th>3</th>\n",
              "      <th>4</th>\n",
              "      <th>5</th>\n",
              "    </tr>\n",
              "    <tr>\n",
              "      <th>weekday</th>\n",
              "      <th></th>\n",
              "      <th></th>\n",
              "      <th></th>\n",
              "      <th></th>\n",
              "      <th></th>\n",
              "    </tr>\n",
              "  </thead>\n",
              "  <tbody>\n",
              "    <tr>\n",
              "      <th>Friday</th>\n",
              "      <td>1222</td>\n",
              "      <td>967</td>\n",
              "      <td>1433</td>\n",
              "      <td>3163</td>\n",
              "      <td>4674</td>\n",
              "    </tr>\n",
              "    <tr>\n",
              "      <th>Monday</th>\n",
              "      <td>1438</td>\n",
              "      <td>1257</td>\n",
              "      <td>1835</td>\n",
              "      <td>3971</td>\n",
              "      <td>5228</td>\n",
              "    </tr>\n",
              "    <tr>\n",
              "      <th>Saturday</th>\n",
              "      <td>1441</td>\n",
              "      <td>1126</td>\n",
              "      <td>1576</td>\n",
              "      <td>3327</td>\n",
              "      <td>5060</td>\n",
              "    </tr>\n",
              "    <tr>\n",
              "      <th>Sunday</th>\n",
              "      <td>1732</td>\n",
              "      <td>1407</td>\n",
              "      <td>1869</td>\n",
              "      <td>3792</td>\n",
              "      <td>5469</td>\n",
              "    </tr>\n",
              "    <tr>\n",
              "      <th>Thursday</th>\n",
              "      <td>1261</td>\n",
              "      <td>993</td>\n",
              "      <td>1450</td>\n",
              "      <td>3327</td>\n",
              "      <td>4860</td>\n",
              "    </tr>\n",
              "    <tr>\n",
              "      <th>Tuesday</th>\n",
              "      <td>1199</td>\n",
              "      <td>1058</td>\n",
              "      <td>1665</td>\n",
              "      <td>3434</td>\n",
              "      <td>4796</td>\n",
              "    </tr>\n",
              "    <tr>\n",
              "      <th>Wednesday</th>\n",
              "      <td>1314</td>\n",
              "      <td>1080</td>\n",
              "      <td>1613</td>\n",
              "      <td>3493</td>\n",
              "      <td>4986</td>\n",
              "    </tr>\n",
              "  </tbody>\n",
              "</table>\n",
              "</div>"
            ],
            "text/plain": [
              "stars         1     2     3     4     5\n",
              "weekday                                \n",
              "Friday     1222   967  1433  3163  4674\n",
              "Monday     1438  1257  1835  3971  5228\n",
              "Saturday   1441  1126  1576  3327  5060\n",
              "Sunday     1732  1407  1869  3792  5469\n",
              "Thursday   1261   993  1450  3327  4860\n",
              "Tuesday    1199  1058  1665  3434  4796\n",
              "Wednesday  1314  1080  1613  3493  4986"
            ]
          },
          "metadata": {
            "tags": []
          },
          "execution_count": 47
        }
      ]
    },
    {
      "cell_type": "code",
      "metadata": {
        "id": "ZM7qGuV94sdK",
        "colab_type": "code",
        "colab": {
          "base_uri": "https://localhost:8080/",
          "height": 345
        },
        "outputId": "a777096a-9d0f-4dd6-80b6-2b0fc949d4ef"
      },
      "source": [
        "weekday = ['Friday', 'Thursday', 'Tuesday', 'Wednesday', 'Monday', 'Sunday']\n",
        "(rdf\n",
        " .pipe(lambda df_: pd.crosstab(df_.weekday, df_.stars))\n",
        " .loc[weekday]\n",
        " .plot.bar(stacked=True, width =1)\n",
        " .legend(bbox_to_anchor=(1,1)))"
      ],
      "execution_count": 117,
      "outputs": [
        {
          "output_type": "execute_result",
          "data": {
            "text/plain": [
              "<matplotlib.legend.Legend at 0x7fb0070ebc50>"
            ]
          },
          "metadata": {
            "tags": []
          },
          "execution_count": 117
        },
        {
          "output_type": "display_data",
          "data": {
            "image/png": "[encoded data removed]",
            "text/plain": [
              "<Figure size 432x288 with 1 Axes>"
            ]
          },
          "metadata": {
            "tags": []
          }
        }
      ]
    },
    {
      "cell_type": "code",
      "metadata": {
        "id": "hhindtsU4zFx",
        "colab_type": "code",
        "colab": {
          "base_uri": "https://localhost:8080/",
          "height": 345
        },
        "outputId": "eabbeb58-4a71-4df5-ceac-bad0794e8ce2"
      },
      "source": [
        "(rdf\n",
        " .pipe(lambda df_: pd.crosstab(df_.weekday, df_.stars))\n",
        " .pipe(lambda df_: df_.div(df_.sum(axis=1), axis=0))\n",
        " .plot.bar(stacked=True, width =1)\n",
        " .legend(bbox_to_anchor=(1,1)))"
      ],
      "execution_count": 52,
      "outputs": [
        {
          "output_type": "execute_result",
          "data": {
            "text/plain": [
              "<matplotlib.legend.Legend at 0x7fb00b0a4d30>"
            ]
          },
          "metadata": {
            "tags": []
          },
          "execution_count": 52
        },
        {
          "output_type": "display_data",
          "data": {
            "image/png": "[encoded data removed]",
            "text/plain": [
              "<Figure size 432x288 with 1 Axes>"
            ]
          },
          "metadata": {
            "tags": []
          }
        }
      ]
    },
    {
      "cell_type": "markdown",
      "metadata": {
        "id": "xqws4qJW5wVB",
        "colab_type": "text"
      },
      "source": [
        "### Category vs Stars"
      ]
    },
    {
      "cell_type": "code",
      "metadata": {
        "id": "BGv7Ffk25Oi_",
        "colab_type": "code",
        "colab": {
          "base_uri": "https://localhost:8080/",
          "height": 297
        },
        "outputId": "a85dcf09-ddf7-43d3-90ab-d224549a8b13"
      },
      "source": [
        "(rdf.pipe(lambda df_: pd.crosstab(df_.category, df_.stars)))"
      ],
      "execution_count": 53,
      "outputs": [
        {
          "output_type": "execute_result",
          "data": {
            "text/html": [
              "<div>\n",
              "<style scoped>\n",
              "    .dataframe tbody tr th:only-of-type {\n",
              "        vertical-align: middle;\n",
              "    }\n",
              "\n",
              "    .dataframe tbody tr th {\n",
              "        vertical-align: top;\n",
              "    }\n",
              "\n",
              "    .dataframe thead th {\n",
              "        text-align: right;\n",
              "    }\n",
              "</style>\n",
              "<table border=\"1\" class=\"dataframe\">\n",
              "  <thead>\n",
              "    <tr style=\"text-align: right;\">\n",
              "      <th>stars</th>\n",
              "      <th>1</th>\n",
              "      <th>2</th>\n",
              "      <th>3</th>\n",
              "      <th>4</th>\n",
              "      <th>5</th>\n",
              "    </tr>\n",
              "    <tr>\n",
              "      <th>category</th>\n",
              "      <th></th>\n",
              "      <th></th>\n",
              "      <th></th>\n",
              "      <th></th>\n",
              "      <th></th>\n",
              "    </tr>\n",
              "  </thead>\n",
              "  <tbody>\n",
              "    <tr>\n",
              "      <th>bars</th>\n",
              "      <td>1517</td>\n",
              "      <td>1360</td>\n",
              "      <td>1964</td>\n",
              "      <td>3758</td>\n",
              "      <td>4180</td>\n",
              "    </tr>\n",
              "    <tr>\n",
              "      <th>beauty_spa</th>\n",
              "      <td>234</td>\n",
              "      <td>90</td>\n",
              "      <td>111</td>\n",
              "      <td>309</td>\n",
              "      <td>1132</td>\n",
              "    </tr>\n",
              "    <tr>\n",
              "      <th>entertainment</th>\n",
              "      <td>688</td>\n",
              "      <td>533</td>\n",
              "      <td>903</td>\n",
              "      <td>1857</td>\n",
              "      <td>2748</td>\n",
              "    </tr>\n",
              "    <tr>\n",
              "      <th>other</th>\n",
              "      <td>1198</td>\n",
              "      <td>422</td>\n",
              "      <td>508</td>\n",
              "      <td>1191</td>\n",
              "      <td>3598</td>\n",
              "    </tr>\n",
              "    <tr>\n",
              "      <th>public_service</th>\n",
              "      <td>191</td>\n",
              "      <td>37</td>\n",
              "      <td>55</td>\n",
              "      <td>164</td>\n",
              "      <td>723</td>\n",
              "    </tr>\n",
              "    <tr>\n",
              "      <th>restaurants</th>\n",
              "      <td>5112</td>\n",
              "      <td>5100</td>\n",
              "      <td>7434</td>\n",
              "      <td>16573</td>\n",
              "      <td>22104</td>\n",
              "    </tr>\n",
              "    <tr>\n",
              "      <th>travel</th>\n",
              "      <td>667</td>\n",
              "      <td>346</td>\n",
              "      <td>466</td>\n",
              "      <td>655</td>\n",
              "      <td>588</td>\n",
              "    </tr>\n",
              "  </tbody>\n",
              "</table>\n",
              "</div>"
            ],
            "text/plain": [
              "stars              1     2     3      4      5\n",
              "category                                      \n",
              "bars            1517  1360  1964   3758   4180\n",
              "beauty_spa       234    90   111    309   1132\n",
              "entertainment    688   533   903   1857   2748\n",
              "other           1198   422   508   1191   3598\n",
              "public_service   191    37    55    164    723\n",
              "restaurants     5112  5100  7434  16573  22104\n",
              "travel           667   346   466    655    588"
            ]
          },
          "metadata": {
            "tags": []
          },
          "execution_count": 53
        }
      ]
    },
    {
      "cell_type": "code",
      "metadata": {
        "id": "zJjlQsvL52Mk",
        "colab_type": "code",
        "colab": {
          "base_uri": "https://localhost:8080/",
          "height": 358
        },
        "outputId": "fb1b73b8-9305-4dfe-ef05-ce74e7f3140a"
      },
      "source": [
        "category = ['restaurants','bars','other','entertainment', 'travel', 'beauty_spa','public_service']\n",
        "(rdf\n",
        " .pipe(lambda df_: pd.crosstab(df_.category, df_.stars))\n",
        " .loc[category]\n",
        " .plot.bar(stacked=True, width =1)\n",
        " #.legend(bbox_to_anchor=(1,1))\n",
        " )"
      ],
      "execution_count": 124,
      "outputs": [
        {
          "output_type": "execute_result",
          "data": {
            "text/plain": [
              "<matplotlib.axes._subplots.AxesSubplot at 0x7fb006c0aa20>"
            ]
          },
          "metadata": {
            "tags": []
          },
          "execution_count": 124
        },
        {
          "output_type": "display_data",
          "data": {
            "image/png": "[encoded data removed]",
            "text/plain": [
              "<Figure size 432x288 with 1 Axes>"
            ]
          },
          "metadata": {
            "tags": []
          }
        }
      ]
    },
    {
      "cell_type": "code",
      "metadata": {
        "id": "brlaXINK56yD",
        "colab_type": "code",
        "colab": {
          "base_uri": "https://localhost:8080/",
          "height": 358
        },
        "outputId": "821f02a3-93dd-4a3a-ee6c-5a81ac6ce65e"
      },
      "source": [
        "(rdf\n",
        " .pipe(lambda df_: pd.crosstab(df_.category, df_.stars))\n",
        " .pipe(lambda df_: df_.div(df_.sum(axis=1), axis=0))\n",
        " .plot.bar(stacked=True, width =1)\n",
        " .legend(bbox_to_anchor=(1,1)))"
      ],
      "execution_count": 55,
      "outputs": [
        {
          "output_type": "execute_result",
          "data": {
            "text/plain": [
              "<matplotlib.legend.Legend at 0x7fb00af56f28>"
            ]
          },
          "metadata": {
            "tags": []
          },
          "execution_count": 55
        },
        {
          "output_type": "display_data",
          "data": {
            "image/png": "[encoded data removed]",
            "text/plain": [
              "<Figure size 432x288 with 1 Axes>"
            ]
          },
          "metadata": {
            "tags": []
          }
        }
      ]
    },
    {
      "cell_type": "code",
      "metadata": {
        "id": "mwiO6qfT6AGA",
        "colab_type": "code",
        "colab": {
          "base_uri": "https://localhost:8080/",
          "height": 358
        },
        "outputId": "178c82cd-6c2f-45a0-f959-3b261e7db188"
      },
      "source": [
        "category = ['beauty_spa','public_service', 'other', 'entertainment', 'restaurants', 'bars', 'travel']\n",
        "(rdf\n",
        " .pipe(lambda df_: pd.crosstab(df_.category, df_.stars))\n",
        " .pipe(lambda df_: df_.div(df_.sum(axis=1), axis=0))\n",
        " .loc[category]\n",
        " .plot.bar(stacked=True, width =1)\n",
        " .legend(bbox_to_anchor=(1,1)))"
      ],
      "execution_count": 64,
      "outputs": [
        {
          "output_type": "execute_result",
          "data": {
            "text/plain": [
              "<matplotlib.legend.Legend at 0x7fb00a7b44e0>"
            ]
          },
          "metadata": {
            "tags": []
          },
          "execution_count": 64
        },
        {
          "output_type": "display_data",
          "data": {
            "image/png": "[encoded data removed]",
            "text/plain": [
              "<Figure size 432x288 with 1 Axes>"
            ]
          },
          "metadata": {
            "tags": []
          }
        }
      ]
    },
    {
      "cell_type": "markdown",
      "metadata": {
        "id": "S0wb94PEDFqz",
        "colab_type": "text"
      },
      "source": [
        "### Credit Card Accept vs Star"
      ]
    },
    {
      "cell_type": "code",
      "metadata": {
        "id": "Llp7edKGDIYa",
        "colab_type": "code",
        "colab": {
          "base_uri": "https://localhost:8080/",
          "height": 173
        },
        "outputId": "eb0f57c9-8f68-45df-8ca9-b05fc6bb6a5c"
      },
      "source": [
        "(rdf.pipe(lambda df_: pd.crosstab(df_.accept_credit_card, df_.stars)))"
      ],
      "execution_count": 110,
      "outputs": [
        {
          "output_type": "execute_result",
          "data": {
            "text/html": [
              "<div>\n",
              "<style scoped>\n",
              "    .dataframe tbody tr th:only-of-type {\n",
              "        vertical-align: middle;\n",
              "    }\n",
              "\n",
              "    .dataframe tbody tr th {\n",
              "        vertical-align: top;\n",
              "    }\n",
              "\n",
              "    .dataframe thead th {\n",
              "        text-align: right;\n",
              "    }\n",
              "</style>\n",
              "<table border=\"1\" class=\"dataframe\">\n",
              "  <thead>\n",
              "    <tr style=\"text-align: right;\">\n",
              "      <th>stars</th>\n",
              "      <th>1</th>\n",
              "      <th>2</th>\n",
              "      <th>3</th>\n",
              "      <th>4</th>\n",
              "      <th>5</th>\n",
              "    </tr>\n",
              "    <tr>\n",
              "      <th>accept_credit_card</th>\n",
              "      <th></th>\n",
              "      <th></th>\n",
              "      <th></th>\n",
              "      <th></th>\n",
              "      <th></th>\n",
              "    </tr>\n",
              "  </thead>\n",
              "  <tbody>\n",
              "    <tr>\n",
              "      <th>-1</th>\n",
              "      <td>1168</td>\n",
              "      <td>459</td>\n",
              "      <td>634</td>\n",
              "      <td>1209</td>\n",
              "      <td>2317</td>\n",
              "    </tr>\n",
              "    <tr>\n",
              "      <th>0</th>\n",
              "      <td>144</td>\n",
              "      <td>77</td>\n",
              "      <td>147</td>\n",
              "      <td>490</td>\n",
              "      <td>1172</td>\n",
              "    </tr>\n",
              "    <tr>\n",
              "      <th>1</th>\n",
              "      <td>8295</td>\n",
              "      <td>7352</td>\n",
              "      <td>10660</td>\n",
              "      <td>22808</td>\n",
              "      <td>31584</td>\n",
              "    </tr>\n",
              "  </tbody>\n",
              "</table>\n",
              "</div>"
            ],
            "text/plain": [
              "stars                  1     2      3      4      5\n",
              "accept_credit_card                                 \n",
              "-1                  1168   459    634   1209   2317\n",
              " 0                   144    77    147    490   1172\n",
              " 1                  8295  7352  10660  22808  31584"
            ]
          },
          "metadata": {
            "tags": []
          },
          "execution_count": 110
        }
      ]
    },
    {
      "cell_type": "code",
      "metadata": {
        "id": "1bNzQCkwDcCC",
        "colab_type": "code",
        "colab": {
          "base_uri": "https://localhost:8080/",
          "height": 297
        },
        "outputId": "1bc1b1df-b992-41b7-fdda-640373afe8bf"
      },
      "source": [
        "(rdf\n",
        " .pipe(lambda df_: pd.crosstab(df_.accept_credit_card, df_.stars))\n",
        " .plot.bar(stacked=True, width =1)\n",
        " .legend(bbox_to_anchor=(1,1)))"
      ],
      "execution_count": 113,
      "outputs": [
        {
          "output_type": "execute_result",
          "data": {
            "text/plain": [
              "<matplotlib.legend.Legend at 0x7fb007308ef0>"
            ]
          },
          "metadata": {
            "tags": []
          },
          "execution_count": 113
        },
        {
          "output_type": "display_data",
          "data": {
            "image/png": "[encoded data removed]",
            "text/plain": [
              "<Figure size 432x288 with 1 Axes>"
            ]
          },
          "metadata": {
            "tags": []
          }
        }
      ]
    },
    {
      "cell_type": "code",
      "metadata": {
        "id": "JUG7MgzaEAOv",
        "colab_type": "code",
        "colab": {
          "base_uri": "https://localhost:8080/",
          "height": 297
        },
        "outputId": "255020cb-7c0b-4e09-e9f8-9f75c7805288"
      },
      "source": [
        "accept = [0, 1, -1]\n",
        "(rdf\n",
        " .pipe(lambda df_: pd.crosstab(df_.accept_credit_card, df_.stars))\n",
        " .pipe(lambda df_: df_.div(df_.sum(axis=1), axis=0))\n",
        " .loc[accept]\n",
        " .plot.bar(stacked=True, width =1)\n",
        " .legend(bbox_to_anchor=(1,1)))"
      ],
      "execution_count": 114,
      "outputs": [
        {
          "output_type": "execute_result",
          "data": {
            "text/plain": [
              "<matplotlib.legend.Legend at 0x7fb007257ef0>"
            ]
          },
          "metadata": {
            "tags": []
          },
          "execution_count": 114
        },
        {
          "output_type": "display_data",
          "data": {
            "image/png": "[encoded data removed]",
            "text/plain": [
              "<Figure size 432x288 with 1 Axes>"
            ]
          },
          "metadata": {
            "tags": []
          }
        }
      ]
    },
    {
      "cell_type": "markdown",
      "metadata": {
        "id": "0B8VvfC880je",
        "colab_type": "text"
      },
      "source": [
        "###  Company Star vs Open"
      ]
    },
    {
      "cell_type": "code",
      "metadata": {
        "id": "j3_fy4V26YuM",
        "colab_type": "code",
        "colab": {
          "base_uri": "https://localhost:8080/",
          "height": 359
        },
        "outputId": "0fe703a1-3cb9-4058-b277-1e8e78bbbd5c"
      },
      "source": [
        "(rdf.pipe(lambda df_: pd.crosstab(df_.company_star, df_.open)))"
      ],
      "execution_count": 77,
      "outputs": [
        {
          "output_type": "execute_result",
          "data": {
            "text/html": [
              "<div>\n",
              "<style scoped>\n",
              "    .dataframe tbody tr th:only-of-type {\n",
              "        vertical-align: middle;\n",
              "    }\n",
              "\n",
              "    .dataframe tbody tr th {\n",
              "        vertical-align: top;\n",
              "    }\n",
              "\n",
              "    .dataframe thead th {\n",
              "        text-align: right;\n",
              "    }\n",
              "</style>\n",
              "<table border=\"1\" class=\"dataframe\">\n",
              "  <thead>\n",
              "    <tr style=\"text-align: right;\">\n",
              "      <th>open</th>\n",
              "      <th>0</th>\n",
              "      <th>1</th>\n",
              "    </tr>\n",
              "    <tr>\n",
              "      <th>company_star</th>\n",
              "      <th></th>\n",
              "      <th></th>\n",
              "    </tr>\n",
              "  </thead>\n",
              "  <tbody>\n",
              "    <tr>\n",
              "      <th>1.0</th>\n",
              "      <td>36</td>\n",
              "      <td>256</td>\n",
              "    </tr>\n",
              "    <tr>\n",
              "      <th>1.5</th>\n",
              "      <td>52</td>\n",
              "      <td>827</td>\n",
              "    </tr>\n",
              "    <tr>\n",
              "      <th>2.0</th>\n",
              "      <td>300</td>\n",
              "      <td>1381</td>\n",
              "    </tr>\n",
              "    <tr>\n",
              "      <th>2.5</th>\n",
              "      <td>825</td>\n",
              "      <td>3397</td>\n",
              "    </tr>\n",
              "    <tr>\n",
              "      <th>3.0</th>\n",
              "      <td>908</td>\n",
              "      <td>9810</td>\n",
              "    </tr>\n",
              "    <tr>\n",
              "      <th>3.5</th>\n",
              "      <td>2381</td>\n",
              "      <td>15596</td>\n",
              "    </tr>\n",
              "    <tr>\n",
              "      <th>4.0</th>\n",
              "      <td>3461</td>\n",
              "      <td>30446</td>\n",
              "    </tr>\n",
              "    <tr>\n",
              "      <th>4.5</th>\n",
              "      <td>1046</td>\n",
              "      <td>14581</td>\n",
              "    </tr>\n",
              "    <tr>\n",
              "      <th>5.0</th>\n",
              "      <td>182</td>\n",
              "      <td>3031</td>\n",
              "    </tr>\n",
              "  </tbody>\n",
              "</table>\n",
              "</div>"
            ],
            "text/plain": [
              "open             0      1\n",
              "company_star             \n",
              "1.0             36    256\n",
              "1.5             52    827\n",
              "2.0            300   1381\n",
              "2.5            825   3397\n",
              "3.0            908   9810\n",
              "3.5           2381  15596\n",
              "4.0           3461  30446\n",
              "4.5           1046  14581\n",
              "5.0            182   3031"
            ]
          },
          "metadata": {
            "tags": []
          },
          "execution_count": 77
        }
      ]
    },
    {
      "cell_type": "code",
      "metadata": {
        "id": "optE8f3B87xo",
        "colab_type": "code",
        "colab": {
          "base_uri": "https://localhost:8080/",
          "height": 303
        },
        "outputId": "51877bb9-36cb-4b03-df7d-0bf29785b1fc"
      },
      "source": [
        "(rdf\n",
        " .pipe(lambda df_: pd.crosstab(df_.company_star, df_.open))\n",
        " .plot.bar(stacked=True, width =1)\n",
        " .legend(bbox_to_anchor=(1,1)))"
      ],
      "execution_count": 76,
      "outputs": [
        {
          "output_type": "execute_result",
          "data": {
            "text/plain": [
              "<matplotlib.legend.Legend at 0x7fb00a23da20>"
            ]
          },
          "metadata": {
            "tags": []
          },
          "execution_count": 76
        },
        {
          "output_type": "display_data",
          "data": {
            "image/png": "[encoded data removed]",
            "text/plain": [
              "<Figure size 432x288 with 1 Axes>"
            ]
          },
          "metadata": {
            "tags": []
          }
        }
      ]
    },
    {
      "cell_type": "code",
      "metadata": {
        "id": "di5KIgbC8-hN",
        "colab_type": "code",
        "colab": {
          "base_uri": "https://localhost:8080/",
          "height": 303
        },
        "outputId": "ce9c8eeb-f75b-409f-bf59-fab0cd5a8c8b"
      },
      "source": [
        "stars = [5.0, 1.5, 4.5, 3.0, 4.0, 1.0, 3.5, 2.0, 2.5]\n",
        "(rdf\n",
        " .pipe(lambda df_: pd.crosstab(df_.company_star, df_.open))\n",
        " .pipe(lambda df_: df_.div(df_.sum(axis=1), axis=0))\n",
        " .loc[stars]\n",
        " .plot.bar(stacked=True, width =1)\n",
        " .legend(bbox_to_anchor=(1,1)))"
      ],
      "execution_count": 75,
      "outputs": [
        {
          "output_type": "execute_result",
          "data": {
            "text/plain": [
              "<matplotlib.legend.Legend at 0x7fb00aae8668>"
            ]
          },
          "metadata": {
            "tags": []
          },
          "execution_count": 75
        },
        {
          "output_type": "display_data",
          "data": {
            "image/png": "[encoded data removed]",
            "text/plain": [
              "<Figure size 432x288 with 1 Axes>"
            ]
          },
          "metadata": {
            "tags": []
          }
        }
      ]
    },
    {
      "cell_type": "markdown",
      "metadata": {
        "id": "gF5uxeI2-tAY",
        "colab_type": "text"
      },
      "source": [
        "### Company Review vs Open"
      ]
    },
    {
      "cell_type": "code",
      "metadata": {
        "id": "xLQyvzHK9BQw",
        "colab_type": "code",
        "colab": {
          "base_uri": "https://localhost:8080/",
          "height": 328
        },
        "outputId": "90e77880-ce8f-4a7b-cdc4-bd0187112555"
      },
      "source": [
        "(rdf.pipe(lambda df_: pd.crosstab(df_.reviewbin, df_.open)))"
      ],
      "execution_count": 83,
      "outputs": [
        {
          "output_type": "execute_result",
          "data": {
            "text/html": [
              "<div>\n",
              "<style scoped>\n",
              "    .dataframe tbody tr th:only-of-type {\n",
              "        vertical-align: middle;\n",
              "    }\n",
              "\n",
              "    .dataframe tbody tr th {\n",
              "        vertical-align: top;\n",
              "    }\n",
              "\n",
              "    .dataframe thead th {\n",
              "        text-align: right;\n",
              "    }\n",
              "</style>\n",
              "<table border=\"1\" class=\"dataframe\">\n",
              "  <thead>\n",
              "    <tr style=\"text-align: right;\">\n",
              "      <th>open</th>\n",
              "      <th>0</th>\n",
              "      <th>1</th>\n",
              "    </tr>\n",
              "    <tr>\n",
              "      <th>reviewbin</th>\n",
              "      <th></th>\n",
              "      <th></th>\n",
              "    </tr>\n",
              "  </thead>\n",
              "  <tbody>\n",
              "    <tr>\n",
              "      <th>1</th>\n",
              "      <td>8034</td>\n",
              "      <td>43446</td>\n",
              "    </tr>\n",
              "    <tr>\n",
              "      <th>2</th>\n",
              "      <td>560</td>\n",
              "      <td>16347</td>\n",
              "    </tr>\n",
              "    <tr>\n",
              "      <th>3</th>\n",
              "      <td>225</td>\n",
              "      <td>7491</td>\n",
              "    </tr>\n",
              "    <tr>\n",
              "      <th>4</th>\n",
              "      <td>372</td>\n",
              "      <td>3345</td>\n",
              "    </tr>\n",
              "    <tr>\n",
              "      <th>5</th>\n",
              "      <td>0</td>\n",
              "      <td>4349</td>\n",
              "    </tr>\n",
              "    <tr>\n",
              "      <th>6</th>\n",
              "      <td>0</td>\n",
              "      <td>1263</td>\n",
              "    </tr>\n",
              "    <tr>\n",
              "      <th>7</th>\n",
              "      <td>0</td>\n",
              "      <td>1355</td>\n",
              "    </tr>\n",
              "    <tr>\n",
              "      <th>8</th>\n",
              "      <td>0</td>\n",
              "      <td>1729</td>\n",
              "    </tr>\n",
              "  </tbody>\n",
              "</table>\n",
              "</div>"
            ],
            "text/plain": [
              "open          0      1\n",
              "reviewbin             \n",
              "1          8034  43446\n",
              "2           560  16347\n",
              "3           225   7491\n",
              "4           372   3345\n",
              "5             0   4349\n",
              "6             0   1263\n",
              "7             0   1355\n",
              "8             0   1729"
            ]
          },
          "metadata": {
            "tags": []
          },
          "execution_count": 83
        }
      ]
    },
    {
      "cell_type": "code",
      "metadata": {
        "id": "DKrfs-js-3KY",
        "colab_type": "code",
        "colab": {
          "base_uri": "https://localhost:8080/",
          "height": 293
        },
        "outputId": "0f72b8f9-f97f-4948-fdf2-3ba4420d068b"
      },
      "source": [
        "(rdf\n",
        " .pipe(lambda df_: pd.crosstab(df_.reviewbin, df_.open))\n",
        " .plot.bar(stacked=True, width =1)\n",
        " .legend(bbox_to_anchor=(1,1)))"
      ],
      "execution_count": 84,
      "outputs": [
        {
          "output_type": "execute_result",
          "data": {
            "text/plain": [
              "<matplotlib.legend.Legend at 0x7fb009c4fda0>"
            ]
          },
          "metadata": {
            "tags": []
          },
          "execution_count": 84
        },
        {
          "output_type": "display_data",
          "data": {
            "image/png": "[encoded data removed]",
            "text/plain": [
              "<Figure size 432x288 with 1 Axes>"
            ]
          },
          "metadata": {
            "tags": []
          }
        }
      ]
    },
    {
      "cell_type": "code",
      "metadata": {
        "id": "Ef1df04O-8XU",
        "colab_type": "code",
        "colab": {
          "base_uri": "https://localhost:8080/",
          "height": 293
        },
        "outputId": "cf1db6f1-b8b8-461d-bbc2-eac47b5efd22"
      },
      "source": [
        "reviewbin = [1,4, 2, 3, 5, 6, 7, 8]\n",
        "(rdf\n",
        " .pipe(lambda df_: pd.crosstab(df_.reviewbin, df_.open))\n",
        " .pipe(lambda df_: df_.div(df_.sum(axis=1), axis=0))\n",
        " .loc[reviewbin]\n",
        " .plot.bar(stacked=True, width =1)\n",
        " .legend(bbox_to_anchor=(1,1)))"
      ],
      "execution_count": 88,
      "outputs": [
        {
          "output_type": "execute_result",
          "data": {
            "text/plain": [
              "<matplotlib.legend.Legend at 0x7fb009c04e10>"
            ]
          },
          "metadata": {
            "tags": []
          },
          "execution_count": 88
        },
        {
          "output_type": "display_data",
          "data": {
            "image/png": "[encoded data removed]",
            "text/plain": [
              "<Figure size 432x288 with 1 Axes>"
            ]
          },
          "metadata": {
            "tags": []
          }
        }
      ]
    },
    {
      "cell_type": "markdown",
      "metadata": {
        "id": "ElKacINgBy9z",
        "colab_type": "text"
      },
      "source": [
        "### Restaurants, Monday Open/Close vs Stars"
      ]
    },
    {
      "cell_type": "code",
      "metadata": {
        "id": "xzNz0_taSrH4",
        "colab_type": "code",
        "colab": {
          "base_uri": "https://localhost:8080/",
          "height": 224
        },
        "outputId": "ac36cb2f-fa24-450d-80ef-ac5f7779d993"
      },
      "source": [
        "rest_df = rdf[rdf['category'] == 'restaurants']\n",
        "rest_df.head()"
      ],
      "execution_count": 162,
      "outputs": [
        {
          "output_type": "execute_result",
          "data": {
            "text/html": [
              "<div>\n",
              "<style scoped>\n",
              "    .dataframe tbody tr th:only-of-type {\n",
              "        vertical-align: middle;\n",
              "    }\n",
              "\n",
              "    .dataframe tbody tr th {\n",
              "        vertical-align: top;\n",
              "    }\n",
              "\n",
              "    .dataframe thead th {\n",
              "        text-align: right;\n",
              "    }\n",
              "</style>\n",
              "<table border=\"1\" class=\"dataframe\">\n",
              "  <thead>\n",
              "    <tr style=\"text-align: right;\">\n",
              "      <th></th>\n",
              "      <th>review</th>\n",
              "      <th>stars</th>\n",
              "      <th>year</th>\n",
              "      <th>month</th>\n",
              "      <th>weekday</th>\n",
              "      <th>category</th>\n",
              "      <th>company_star</th>\n",
              "      <th>company_review</th>\n",
              "      <th>reviewbin</th>\n",
              "      <th>open</th>\n",
              "      <th>district</th>\n",
              "      <th>street</th>\n",
              "      <th>post_code</th>\n",
              "      <th>accept_credit_card</th>\n",
              "      <th>mon_open</th>\n",
              "      <th>mon_close</th>\n",
              "      <th>tue_open</th>\n",
              "      <th>tue_close</th>\n",
              "      <th>wed_open</th>\n",
              "      <th>wed_close</th>\n",
              "      <th>thu_open</th>\n",
              "      <th>thu_close</th>\n",
              "      <th>fri_open</th>\n",
              "      <th>fri_close</th>\n",
              "      <th>sat_open</th>\n",
              "      <th>sat_close</th>\n",
              "      <th>sun_open</th>\n",
              "      <th>sun_close</th>\n",
              "      <th>park_garage</th>\n",
              "      <th>park_street</th>\n",
              "      <th>park_lot</th>\n",
              "      <th>park_valid</th>\n",
              "      <th>park_vallet</th>\n",
              "      <th>park_bike</th>\n",
              "      <th>useful_review</th>\n",
              "      <th>cool_review</th>\n",
              "      <th>funny_review</th>\n",
              "    </tr>\n",
              "  </thead>\n",
              "  <tbody>\n",
              "    <tr>\n",
              "      <th>0</th>\n",
              "      <td>negative</td>\n",
              "      <td>2</td>\n",
              "      <td>2013</td>\n",
              "      <td>2</td>\n",
              "      <td>Saturday</td>\n",
              "      <td>restaurants</td>\n",
              "      <td>3.0</td>\n",
              "      <td>154</td>\n",
              "      <td>2</td>\n",
              "      <td>1</td>\n",
              "      <td>other</td>\n",
              "      <td>other</td>\n",
              "      <td>44103</td>\n",
              "      <td>1</td>\n",
              "      <td>11</td>\n",
              "      <td>21</td>\n",
              "      <td>11</td>\n",
              "      <td>21</td>\n",
              "      <td>11</td>\n",
              "      <td>21</td>\n",
              "      <td>11</td>\n",
              "      <td>21</td>\n",
              "      <td>11</td>\n",
              "      <td>21</td>\n",
              "      <td>12</td>\n",
              "      <td>0</td>\n",
              "      <td>11</td>\n",
              "      <td>21</td>\n",
              "      <td>0</td>\n",
              "      <td>0</td>\n",
              "      <td>1</td>\n",
              "      <td>0</td>\n",
              "      <td>0</td>\n",
              "      <td>1</td>\n",
              "      <td>very useful</td>\n",
              "      <td>very cool</td>\n",
              "      <td>very funny</td>\n",
              "    </tr>\n",
              "    <tr>\n",
              "      <th>1</th>\n",
              "      <td>negative</td>\n",
              "      <td>2</td>\n",
              "      <td>2009</td>\n",
              "      <td>3</td>\n",
              "      <td>Friday</td>\n",
              "      <td>restaurants</td>\n",
              "      <td>3.0</td>\n",
              "      <td>154</td>\n",
              "      <td>2</td>\n",
              "      <td>1</td>\n",
              "      <td>other</td>\n",
              "      <td>other</td>\n",
              "      <td>44103</td>\n",
              "      <td>1</td>\n",
              "      <td>11</td>\n",
              "      <td>21</td>\n",
              "      <td>11</td>\n",
              "      <td>21</td>\n",
              "      <td>11</td>\n",
              "      <td>21</td>\n",
              "      <td>11</td>\n",
              "      <td>21</td>\n",
              "      <td>11</td>\n",
              "      <td>21</td>\n",
              "      <td>12</td>\n",
              "      <td>0</td>\n",
              "      <td>11</td>\n",
              "      <td>21</td>\n",
              "      <td>0</td>\n",
              "      <td>0</td>\n",
              "      <td>1</td>\n",
              "      <td>0</td>\n",
              "      <td>0</td>\n",
              "      <td>1</td>\n",
              "      <td>very useful</td>\n",
              "      <td>very cool</td>\n",
              "      <td>very funny</td>\n",
              "    </tr>\n",
              "    <tr>\n",
              "      <th>2</th>\n",
              "      <td>neutral</td>\n",
              "      <td>1</td>\n",
              "      <td>2015</td>\n",
              "      <td>1</td>\n",
              "      <td>Sunday</td>\n",
              "      <td>restaurants</td>\n",
              "      <td>3.0</td>\n",
              "      <td>154</td>\n",
              "      <td>2</td>\n",
              "      <td>1</td>\n",
              "      <td>other</td>\n",
              "      <td>other</td>\n",
              "      <td>44103</td>\n",
              "      <td>1</td>\n",
              "      <td>11</td>\n",
              "      <td>21</td>\n",
              "      <td>11</td>\n",
              "      <td>21</td>\n",
              "      <td>11</td>\n",
              "      <td>21</td>\n",
              "      <td>11</td>\n",
              "      <td>21</td>\n",
              "      <td>11</td>\n",
              "      <td>21</td>\n",
              "      <td>12</td>\n",
              "      <td>0</td>\n",
              "      <td>11</td>\n",
              "      <td>21</td>\n",
              "      <td>0</td>\n",
              "      <td>0</td>\n",
              "      <td>1</td>\n",
              "      <td>0</td>\n",
              "      <td>0</td>\n",
              "      <td>1</td>\n",
              "      <td>not rated</td>\n",
              "      <td>not rated</td>\n",
              "      <td>not rated</td>\n",
              "    </tr>\n",
              "    <tr>\n",
              "      <th>3</th>\n",
              "      <td>positive</td>\n",
              "      <td>4</td>\n",
              "      <td>2015</td>\n",
              "      <td>4</td>\n",
              "      <td>Thursday</td>\n",
              "      <td>restaurants</td>\n",
              "      <td>3.0</td>\n",
              "      <td>154</td>\n",
              "      <td>2</td>\n",
              "      <td>1</td>\n",
              "      <td>other</td>\n",
              "      <td>other</td>\n",
              "      <td>44103</td>\n",
              "      <td>1</td>\n",
              "      <td>11</td>\n",
              "      <td>21</td>\n",
              "      <td>11</td>\n",
              "      <td>21</td>\n",
              "      <td>11</td>\n",
              "      <td>21</td>\n",
              "      <td>11</td>\n",
              "      <td>21</td>\n",
              "      <td>11</td>\n",
              "      <td>21</td>\n",
              "      <td>12</td>\n",
              "      <td>0</td>\n",
              "      <td>11</td>\n",
              "      <td>21</td>\n",
              "      <td>0</td>\n",
              "      <td>0</td>\n",
              "      <td>1</td>\n",
              "      <td>0</td>\n",
              "      <td>0</td>\n",
              "      <td>1</td>\n",
              "      <td>very useful</td>\n",
              "      <td>not rated</td>\n",
              "      <td>not rated</td>\n",
              "    </tr>\n",
              "    <tr>\n",
              "      <th>4</th>\n",
              "      <td>neutral</td>\n",
              "      <td>3</td>\n",
              "      <td>2012</td>\n",
              "      <td>9</td>\n",
              "      <td>Saturday</td>\n",
              "      <td>restaurants</td>\n",
              "      <td>3.0</td>\n",
              "      <td>6</td>\n",
              "      <td>1</td>\n",
              "      <td>1</td>\n",
              "      <td>other</td>\n",
              "      <td>other</td>\n",
              "      <td>44130</td>\n",
              "      <td>1</td>\n",
              "      <td>-1</td>\n",
              "      <td>-1</td>\n",
              "      <td>-1</td>\n",
              "      <td>-1</td>\n",
              "      <td>-1</td>\n",
              "      <td>-1</td>\n",
              "      <td>-1</td>\n",
              "      <td>-1</td>\n",
              "      <td>-1</td>\n",
              "      <td>-1</td>\n",
              "      <td>-1</td>\n",
              "      <td>-1</td>\n",
              "      <td>-1</td>\n",
              "      <td>-1</td>\n",
              "      <td>0</td>\n",
              "      <td>0</td>\n",
              "      <td>0</td>\n",
              "      <td>0</td>\n",
              "      <td>0</td>\n",
              "      <td>1</td>\n",
              "      <td>useful</td>\n",
              "      <td>cool</td>\n",
              "      <td>funny</td>\n",
              "    </tr>\n",
              "  </tbody>\n",
              "</table>\n",
              "</div>"
            ],
            "text/plain": [
              "     review  stars  year  ...  useful_review cool_review funny_review\n",
              "0  negative      2  2013  ...    very useful   very cool   very funny\n",
              "1  negative      2  2009  ...    very useful   very cool   very funny\n",
              "2   neutral      1  2015  ...      not rated   not rated    not rated\n",
              "3  positive      4  2015  ...    very useful   not rated    not rated\n",
              "4   neutral      3  2012  ...         useful        cool        funny\n",
              "\n",
              "[5 rows x 37 columns]"
            ]
          },
          "metadata": {
            "tags": []
          },
          "execution_count": 162
        }
      ]
    },
    {
      "cell_type": "markdown",
      "metadata": {
        "id": "y_Tm1tKuWHT7",
        "colab_type": "text"
      },
      "source": [
        "\n",
        "\n",
        "---\n",
        "\n",
        "\n",
        "**1. Open**\n",
        "\n",
        "\n",
        "---\n",
        "\n"
      ]
    },
    {
      "cell_type": "code",
      "metadata": {
        "id": "WzsKKHKclSrl",
        "colab_type": "code",
        "colab": {
          "base_uri": "https://localhost:8080/",
          "height": 235
        },
        "outputId": "b421ece1-ea26-4f4e-a596-5be390c13e28"
      },
      "source": [
        "(rest_df\n",
        " .pipe(lambda df_: pd.crosstab(df_.mon_open, df_.stars))\n",
        " .assign(sum = lambda df_: df_.sum(axis=1))\n",
        " .sort_values(by=['sum'], ascending = False)\n",
        " #.loc[:,[1,2,3,4,5]]\n",
        " .head()\n",
        " )"
      ],
      "execution_count": 320,
      "outputs": [
        {
          "output_type": "execute_result",
          "data": {
            "text/html": [
              "<div>\n",
              "<style scoped>\n",
              "    .dataframe tbody tr th:only-of-type {\n",
              "        vertical-align: middle;\n",
              "    }\n",
              "\n",
              "    .dataframe tbody tr th {\n",
              "        vertical-align: top;\n",
              "    }\n",
              "\n",
              "    .dataframe thead th {\n",
              "        text-align: right;\n",
              "    }\n",
              "</style>\n",
              "<table border=\"1\" class=\"dataframe\">\n",
              "  <thead>\n",
              "    <tr style=\"text-align: right;\">\n",
              "      <th>stars</th>\n",
              "      <th>1</th>\n",
              "      <th>2</th>\n",
              "      <th>3</th>\n",
              "      <th>4</th>\n",
              "      <th>5</th>\n",
              "      <th>sum</th>\n",
              "    </tr>\n",
              "    <tr>\n",
              "      <th>mon_open</th>\n",
              "      <th></th>\n",
              "      <th></th>\n",
              "      <th></th>\n",
              "      <th></th>\n",
              "      <th></th>\n",
              "      <th></th>\n",
              "    </tr>\n",
              "  </thead>\n",
              "  <tbody>\n",
              "    <tr>\n",
              "      <th>11</th>\n",
              "      <td>1807</td>\n",
              "      <td>2029</td>\n",
              "      <td>2824</td>\n",
              "      <td>5868</td>\n",
              "      <td>7286</td>\n",
              "      <td>19814</td>\n",
              "    </tr>\n",
              "    <tr>\n",
              "      <th>-1</th>\n",
              "      <td>1259</td>\n",
              "      <td>1018</td>\n",
              "      <td>1541</td>\n",
              "      <td>3342</td>\n",
              "      <td>4870</td>\n",
              "      <td>12030</td>\n",
              "    </tr>\n",
              "    <tr>\n",
              "      <th>7</th>\n",
              "      <td>323</td>\n",
              "      <td>348</td>\n",
              "      <td>569</td>\n",
              "      <td>1525</td>\n",
              "      <td>2106</td>\n",
              "      <td>4871</td>\n",
              "    </tr>\n",
              "    <tr>\n",
              "      <th>16</th>\n",
              "      <td>327</td>\n",
              "      <td>408</td>\n",
              "      <td>594</td>\n",
              "      <td>1324</td>\n",
              "      <td>1591</td>\n",
              "      <td>4244</td>\n",
              "    </tr>\n",
              "    <tr>\n",
              "      <th>17</th>\n",
              "      <td>285</td>\n",
              "      <td>331</td>\n",
              "      <td>538</td>\n",
              "      <td>1266</td>\n",
              "      <td>1685</td>\n",
              "      <td>4105</td>\n",
              "    </tr>\n",
              "  </tbody>\n",
              "</table>\n",
              "</div>"
            ],
            "text/plain": [
              "stars        1     2     3     4     5    sum\n",
              "mon_open                                     \n",
              " 11       1807  2029  2824  5868  7286  19814\n",
              "-1        1259  1018  1541  3342  4870  12030\n",
              " 7         323   348   569  1525  2106   4871\n",
              " 16        327   408   594  1324  1591   4244\n",
              " 17        285   331   538  1266  1685   4105"
            ]
          },
          "metadata": {
            "tags": []
          },
          "execution_count": 320
        }
      ]
    },
    {
      "cell_type": "code",
      "metadata": {
        "id": "XIdXim1vWY7b",
        "colab_type": "code",
        "colab": {
          "base_uri": "https://localhost:8080/",
          "height": 299
        },
        "outputId": "658392d4-3048-4dcd-877a-13ad2eb38cae"
      },
      "source": [
        "(rest_df\n",
        " .pipe(lambda df_: pd.crosstab(df_.mon_open, df_.stars))\n",
        " .assign(sum = lambda df_: df_.sum(axis=1))\n",
        " .sort_values(by=['sum'], ascending = False)\n",
        " .loc[:,[1,2,3,4,5]]\n",
        " .plot.bar(stacked=True, width =1)\n",
        " .legend(bbox_to_anchor=(1,1)))"
      ],
      "execution_count": 264,
      "outputs": [
        {
          "output_type": "execute_result",
          "data": {
            "text/plain": [
              "<matplotlib.legend.Legend at 0x7fb01f2415c0>"
            ]
          },
          "metadata": {
            "tags": []
          },
          "execution_count": 264
        },
        {
          "output_type": "display_data",
          "data": {
            "image/png": "[encoded data removed]",
            "text/plain": [
              "<Figure size 432x288 with 1 Axes>"
            ]
          },
          "metadata": {
            "tags": []
          }
        }
      ]
    },
    {
      "cell_type": "code",
      "metadata": {
        "id": "DmxvzA-xqk4m",
        "colab_type": "code",
        "colab": {
          "base_uri": "https://localhost:8080/",
          "height": 235
        },
        "outputId": "db976098-3c0e-4b94-a51d-efedc61a0c7d"
      },
      "source": [
        "(rest_df\n",
        " .pipe(lambda df_: pd.crosstab(df_.mon_open, df_.stars))\n",
        " .pipe(lambda df_: df_.div(df_.sum(axis=1), axis=0))\n",
        " .assign(reviewbin = lambda df_: pd.cut(rest_df.pipe(lambda df_: pd.crosstab(df_.mon_open, df_.stars)).sum(axis=1), bins=50, labels=[x for x in range(1, 51)]))\n",
        " .sort_values(by=['reviewbin', 5], ascending = False)\n",
        " .loc[:,[1,2,3,4,5]]\n",
        " .head()\n",
        ")"
      ],
      "execution_count": 319,
      "outputs": [
        {
          "output_type": "execute_result",
          "data": {
            "text/html": [
              "<div>\n",
              "<style scoped>\n",
              "    .dataframe tbody tr th:only-of-type {\n",
              "        vertical-align: middle;\n",
              "    }\n",
              "\n",
              "    .dataframe tbody tr th {\n",
              "        vertical-align: top;\n",
              "    }\n",
              "\n",
              "    .dataframe thead th {\n",
              "        text-align: right;\n",
              "    }\n",
              "</style>\n",
              "<table border=\"1\" class=\"dataframe\">\n",
              "  <thead>\n",
              "    <tr style=\"text-align: right;\">\n",
              "      <th>stars</th>\n",
              "      <th>1</th>\n",
              "      <th>2</th>\n",
              "      <th>3</th>\n",
              "      <th>4</th>\n",
              "      <th>5</th>\n",
              "    </tr>\n",
              "    <tr>\n",
              "      <th>mon_open</th>\n",
              "      <th></th>\n",
              "      <th></th>\n",
              "      <th></th>\n",
              "      <th></th>\n",
              "      <th></th>\n",
              "    </tr>\n",
              "  </thead>\n",
              "  <tbody>\n",
              "    <tr>\n",
              "      <th>11</th>\n",
              "      <td>0.091198</td>\n",
              "      <td>0.102402</td>\n",
              "      <td>0.142525</td>\n",
              "      <td>0.296154</td>\n",
              "      <td>0.367720</td>\n",
              "    </tr>\n",
              "    <tr>\n",
              "      <th>-1</th>\n",
              "      <td>0.104655</td>\n",
              "      <td>0.084622</td>\n",
              "      <td>0.128096</td>\n",
              "      <td>0.277805</td>\n",
              "      <td>0.404821</td>\n",
              "    </tr>\n",
              "    <tr>\n",
              "      <th>7</th>\n",
              "      <td>0.066311</td>\n",
              "      <td>0.071443</td>\n",
              "      <td>0.116814</td>\n",
              "      <td>0.313077</td>\n",
              "      <td>0.432355</td>\n",
              "    </tr>\n",
              "    <tr>\n",
              "      <th>17</th>\n",
              "      <td>0.069428</td>\n",
              "      <td>0.080633</td>\n",
              "      <td>0.131060</td>\n",
              "      <td>0.308404</td>\n",
              "      <td>0.410475</td>\n",
              "    </tr>\n",
              "    <tr>\n",
              "      <th>16</th>\n",
              "      <td>0.077050</td>\n",
              "      <td>0.096136</td>\n",
              "      <td>0.139962</td>\n",
              "      <td>0.311970</td>\n",
              "      <td>0.374882</td>\n",
              "    </tr>\n",
              "  </tbody>\n",
              "</table>\n",
              "</div>"
            ],
            "text/plain": [
              "stars            1         2         3         4         5\n",
              "mon_open                                                  \n",
              " 11       0.091198  0.102402  0.142525  0.296154  0.367720\n",
              "-1        0.104655  0.084622  0.128096  0.277805  0.404821\n",
              " 7        0.066311  0.071443  0.116814  0.313077  0.432355\n",
              " 17       0.069428  0.080633  0.131060  0.308404  0.410475\n",
              " 16       0.077050  0.096136  0.139962  0.311970  0.374882"
            ]
          },
          "metadata": {
            "tags": []
          },
          "execution_count": 319
        }
      ]
    },
    {
      "cell_type": "code",
      "metadata": {
        "id": "ygdhh0aGeqEK",
        "colab_type": "code",
        "colab": {
          "base_uri": "https://localhost:8080/",
          "height": 299
        },
        "outputId": "189a7c22-0480-4d12-f7f9-cf159fc2a6aa"
      },
      "source": [
        "stars=[5,4,3,2,1]\n",
        "(rest_df\n",
        " .pipe(lambda df_: pd.crosstab(df_.mon_open, df_.stars))\n",
        " .pipe(lambda df_: df_.div(df_.sum(axis=1), axis=0))\n",
        " .assign(reviewbin = lambda df_: pd.cut(rest_df.pipe(lambda df_: pd.crosstab(df_.mon_open, df_.stars)).sum(axis=1), bins=50, labels=[x for x in range(1, 51)]))\n",
        " .sort_values(by=['reviewbin', 5], ascending = False)\n",
        " .loc[:,[1,2,3,4,5]]\n",
        " .loc[:,stars]\n",
        " .plot.bar(stacked=True, width =1, cmap='viridis')\n",
        " .legend(bbox_to_anchor=(1,1))\n",
        " )"
      ],
      "execution_count": 325,
      "outputs": [
        {
          "output_type": "execute_result",
          "data": {
            "text/plain": [
              "<matplotlib.legend.Legend at 0x7fb01e2db4e0>"
            ]
          },
          "metadata": {
            "tags": []
          },
          "execution_count": 325
        },
        {
          "output_type": "display_data",
          "data": {
            "image/png": "[encoded data removed]",
            "text/plain": [
              "<Figure size 432x288 with 1 Axes>"
            ]
          },
          "metadata": {
            "tags": []
          }
        }
      ]
    },
    {
      "cell_type": "markdown",
      "metadata": {
        "id": "hE5IDhXVsOK-",
        "colab_type": "text"
      },
      "source": [
        "\n",
        "\n",
        "---\n",
        "\n",
        "\n",
        "**2. Close**\n",
        "\n",
        "---\n",
        "\n"
      ]
    },
    {
      "cell_type": "code",
      "metadata": {
        "id": "Ye9910TSsRKs",
        "colab_type": "code",
        "colab": {
          "base_uri": "https://localhost:8080/",
          "height": 235
        },
        "outputId": "0259e25a-0e8f-46f4-8f45-588986bb351e"
      },
      "source": [
        "(rest_df\n",
        " .pipe(lambda df_: pd.crosstab(df_.mon_close, df_.stars))\n",
        " .assign(sum = lambda df_: df_.sum(axis=1))\n",
        " .sort_values(by=['sum'], ascending = False)\n",
        " #.loc[:,[1,2,3,4,5]]\n",
        " .head()\n",
        " )"
      ],
      "execution_count": 318,
      "outputs": [
        {
          "output_type": "execute_result",
          "data": {
            "text/html": [
              "<div>\n",
              "<style scoped>\n",
              "    .dataframe tbody tr th:only-of-type {\n",
              "        vertical-align: middle;\n",
              "    }\n",
              "\n",
              "    .dataframe tbody tr th {\n",
              "        vertical-align: top;\n",
              "    }\n",
              "\n",
              "    .dataframe thead th {\n",
              "        text-align: right;\n",
              "    }\n",
              "</style>\n",
              "<table border=\"1\" class=\"dataframe\">\n",
              "  <thead>\n",
              "    <tr style=\"text-align: right;\">\n",
              "      <th>stars</th>\n",
              "      <th>1</th>\n",
              "      <th>2</th>\n",
              "      <th>3</th>\n",
              "      <th>4</th>\n",
              "      <th>5</th>\n",
              "      <th>sum</th>\n",
              "    </tr>\n",
              "    <tr>\n",
              "      <th>mon_close</th>\n",
              "      <th></th>\n",
              "      <th></th>\n",
              "      <th></th>\n",
              "      <th></th>\n",
              "      <th></th>\n",
              "      <th></th>\n",
              "    </tr>\n",
              "  </thead>\n",
              "  <tbody>\n",
              "    <tr>\n",
              "      <th>22</th>\n",
              "      <td>1252</td>\n",
              "      <td>1430</td>\n",
              "      <td>1994</td>\n",
              "      <td>4537</td>\n",
              "      <td>5865</td>\n",
              "      <td>15078</td>\n",
              "    </tr>\n",
              "    <tr>\n",
              "      <th>-1</th>\n",
              "      <td>1259</td>\n",
              "      <td>1018</td>\n",
              "      <td>1541</td>\n",
              "      <td>3342</td>\n",
              "      <td>4870</td>\n",
              "      <td>12030</td>\n",
              "    </tr>\n",
              "    <tr>\n",
              "      <th>21</th>\n",
              "      <td>606</td>\n",
              "      <td>697</td>\n",
              "      <td>933</td>\n",
              "      <td>1930</td>\n",
              "      <td>2410</td>\n",
              "      <td>6576</td>\n",
              "    </tr>\n",
              "    <tr>\n",
              "      <th>23</th>\n",
              "      <td>432</td>\n",
              "      <td>463</td>\n",
              "      <td>629</td>\n",
              "      <td>1239</td>\n",
              "      <td>1550</td>\n",
              "      <td>4313</td>\n",
              "    </tr>\n",
              "    <tr>\n",
              "      <th>2</th>\n",
              "      <td>360</td>\n",
              "      <td>345</td>\n",
              "      <td>501</td>\n",
              "      <td>1102</td>\n",
              "      <td>1139</td>\n",
              "      <td>3447</td>\n",
              "    </tr>\n",
              "  </tbody>\n",
              "</table>\n",
              "</div>"
            ],
            "text/plain": [
              "stars         1     2     3     4     5    sum\n",
              "mon_close                                     \n",
              " 22        1252  1430  1994  4537  5865  15078\n",
              "-1         1259  1018  1541  3342  4870  12030\n",
              " 21         606   697   933  1930  2410   6576\n",
              " 23         432   463   629  1239  1550   4313\n",
              " 2          360   345   501  1102  1139   3447"
            ]
          },
          "metadata": {
            "tags": []
          },
          "execution_count": 318
        }
      ]
    },
    {
      "cell_type": "code",
      "metadata": {
        "id": "0uv4H4CNsbTd",
        "colab_type": "code",
        "colab": {
          "base_uri": "https://localhost:8080/",
          "height": 300
        },
        "outputId": "5b83c44f-9fc6-4ece-b65b-f6c0f1581cfe"
      },
      "source": [
        "(rest_df\n",
        " .pipe(lambda df_: pd.crosstab(df_.mon_close, df_.stars))\n",
        " .assign(sum = lambda df_: df_.sum(axis=1))\n",
        " .sort_values(by=['sum'], ascending = False)\n",
        " .loc[:,[1,2,3,4,5]]\n",
        " .plot.bar(stacked=True, width =1)\n",
        " .legend(bbox_to_anchor=(1,1)))"
      ],
      "execution_count": 308,
      "outputs": [
        {
          "output_type": "execute_result",
          "data": {
            "text/plain": [
              "<matplotlib.legend.Legend at 0x7fb01e9ce3c8>"
            ]
          },
          "metadata": {
            "tags": []
          },
          "execution_count": 308
        },
        {
          "output_type": "display_data",
          "data": {
            "image/png": "[encoded data removed]",
            "text/plain": [
              "<Figure size 432x288 with 1 Axes>"
            ]
          },
          "metadata": {
            "tags": []
          }
        }
      ]
    },
    {
      "cell_type": "code",
      "metadata": {
        "id": "MbXWpW-9sfT5",
        "colab_type": "code",
        "colab": {
          "base_uri": "https://localhost:8080/",
          "height": 235
        },
        "outputId": "16513347-36a8-4e8b-aa9d-a1ba5e7e5522"
      },
      "source": [
        "(rest_df\n",
        " .pipe(lambda df_: pd.crosstab(df_.mon_close, df_.stars))\n",
        " .pipe(lambda df_: df_.div(df_.sum(axis=1), axis=0))\n",
        " .assign(reviewbin = lambda df_: pd.cut(rest_df.pipe(lambda df_: pd.crosstab(df_.mon_close, df_.stars)).sum(axis=1), bins=50, labels=[x for x in range(1, 51)]))\n",
        " .sort_values(by=['reviewbin', 5], ascending = False)\n",
        " .loc[:,[1,2,3,4,5]]\n",
        " .head()\n",
        ")"
      ],
      "execution_count": 317,
      "outputs": [
        {
          "output_type": "execute_result",
          "data": {
            "text/html": [
              "<div>\n",
              "<style scoped>\n",
              "    .dataframe tbody tr th:only-of-type {\n",
              "        vertical-align: middle;\n",
              "    }\n",
              "\n",
              "    .dataframe tbody tr th {\n",
              "        vertical-align: top;\n",
              "    }\n",
              "\n",
              "    .dataframe thead th {\n",
              "        text-align: right;\n",
              "    }\n",
              "</style>\n",
              "<table border=\"1\" class=\"dataframe\">\n",
              "  <thead>\n",
              "    <tr style=\"text-align: right;\">\n",
              "      <th>stars</th>\n",
              "      <th>1</th>\n",
              "      <th>2</th>\n",
              "      <th>3</th>\n",
              "      <th>4</th>\n",
              "      <th>5</th>\n",
              "    </tr>\n",
              "    <tr>\n",
              "      <th>mon_close</th>\n",
              "      <th></th>\n",
              "      <th></th>\n",
              "      <th></th>\n",
              "      <th></th>\n",
              "      <th></th>\n",
              "    </tr>\n",
              "  </thead>\n",
              "  <tbody>\n",
              "    <tr>\n",
              "      <th>22</th>\n",
              "      <td>0.083035</td>\n",
              "      <td>0.094840</td>\n",
              "      <td>0.132246</td>\n",
              "      <td>0.300902</td>\n",
              "      <td>0.388977</td>\n",
              "    </tr>\n",
              "    <tr>\n",
              "      <th>-1</th>\n",
              "      <td>0.104655</td>\n",
              "      <td>0.084622</td>\n",
              "      <td>0.128096</td>\n",
              "      <td>0.277805</td>\n",
              "      <td>0.404821</td>\n",
              "    </tr>\n",
              "    <tr>\n",
              "      <th>21</th>\n",
              "      <td>0.092153</td>\n",
              "      <td>0.105991</td>\n",
              "      <td>0.141880</td>\n",
              "      <td>0.293491</td>\n",
              "      <td>0.366484</td>\n",
              "    </tr>\n",
              "    <tr>\n",
              "      <th>23</th>\n",
              "      <td>0.100162</td>\n",
              "      <td>0.107350</td>\n",
              "      <td>0.145838</td>\n",
              "      <td>0.287271</td>\n",
              "      <td>0.359379</td>\n",
              "    </tr>\n",
              "    <tr>\n",
              "      <th>2</th>\n",
              "      <td>0.104439</td>\n",
              "      <td>0.100087</td>\n",
              "      <td>0.145344</td>\n",
              "      <td>0.319698</td>\n",
              "      <td>0.330432</td>\n",
              "    </tr>\n",
              "  </tbody>\n",
              "</table>\n",
              "</div>"
            ],
            "text/plain": [
              "stars             1         2         3         4         5\n",
              "mon_close                                                  \n",
              " 22        0.083035  0.094840  0.132246  0.300902  0.388977\n",
              "-1         0.104655  0.084622  0.128096  0.277805  0.404821\n",
              " 21        0.092153  0.105991  0.141880  0.293491  0.366484\n",
              " 23        0.100162  0.107350  0.145838  0.287271  0.359379\n",
              " 2         0.104439  0.100087  0.145344  0.319698  0.330432"
            ]
          },
          "metadata": {
            "tags": []
          },
          "execution_count": 317
        }
      ]
    },
    {
      "cell_type": "code",
      "metadata": {
        "id": "_966Xe_utAMx",
        "colab_type": "code",
        "colab": {
          "base_uri": "https://localhost:8080/",
          "height": 300
        },
        "outputId": "a3b7175b-bf5c-4692-c558-7e4a6e32c870"
      },
      "source": [
        "stars=[5,4,3,2,1]\n",
        "(rest_df\n",
        " .pipe(lambda df_: pd.crosstab(df_.mon_close, df_.stars))\n",
        " .pipe(lambda df_: df_.div(df_.sum(axis=1), axis=0))\n",
        " .assign(reviewbin = lambda df_: pd.cut(rest_df.pipe(lambda df_: pd.crosstab(df_.mon_close, df_.stars)).sum(axis=1), bins=50, labels=[x for x in range(1, 51)]))\n",
        " .sort_values(by=['reviewbin', 5], ascending = False)\n",
        " .loc[:,[1,2,3,4,5]]\n",
        " .loc[:, stars]\n",
        " .plot.bar(stacked=True, width =1, cmap = 'viridis')\n",
        " .legend(bbox_to_anchor=(1,1))\n",
        " )"
      ],
      "execution_count": 327,
      "outputs": [
        {
          "output_type": "execute_result",
          "data": {
            "text/plain": [
              "<matplotlib.legend.Legend at 0x7fb01e39e7b8>"
            ]
          },
          "metadata": {
            "tags": []
          },
          "execution_count": 327
        },
        {
          "output_type": "display_data",
          "data": {
            "image/png": "[encoded data removed]",
            "text/plain": [
              "<Figure size 432x288 with 1 Axes>"
            ]
          },
          "metadata": {
            "tags": []
          }
        }
      ]
    },
    {
      "cell_type": "markdown",
      "metadata": {
        "id": "Ncao22TUShdG",
        "colab_type": "text"
      },
      "source": [
        "### Restaurants, Tuesday Open/Close vs Stars"
      ]
    },
    {
      "cell_type": "markdown",
      "metadata": {
        "id": "UvI-6qtaS3wc",
        "colab_type": "text"
      },
      "source": [
        "\n",
        "\n",
        "---\n",
        "\n",
        "\n",
        "**1. Open**\n",
        "\n",
        "\n",
        "---\n",
        "\n"
      ]
    },
    {
      "cell_type": "code",
      "metadata": {
        "id": "eX27ViB6Twgi",
        "colab_type": "code",
        "colab": {
          "base_uri": "https://localhost:8080/",
          "height": 235
        },
        "outputId": "9e2d08f6-d148-485c-c353-78228bf6b594"
      },
      "source": [
        "(rest_df\n",
        " .pipe(lambda df_: pd.crosstab(df_.tue_open, df_.stars))\n",
        " .assign(sum = lambda df_: df_.sum(axis=1))\n",
        " .sort_values(by=['sum'], ascending = False)\n",
        " #.loc[:,[1,2,3,4,5]]\n",
        " .head()\n",
        " )"
      ],
      "execution_count": 316,
      "outputs": [
        {
          "output_type": "execute_result",
          "data": {
            "text/html": [
              "<div>\n",
              "<style scoped>\n",
              "    .dataframe tbody tr th:only-of-type {\n",
              "        vertical-align: middle;\n",
              "    }\n",
              "\n",
              "    .dataframe tbody tr th {\n",
              "        vertical-align: top;\n",
              "    }\n",
              "\n",
              "    .dataframe thead th {\n",
              "        text-align: right;\n",
              "    }\n",
              "</style>\n",
              "<table border=\"1\" class=\"dataframe\">\n",
              "  <thead>\n",
              "    <tr style=\"text-align: right;\">\n",
              "      <th>stars</th>\n",
              "      <th>1</th>\n",
              "      <th>2</th>\n",
              "      <th>3</th>\n",
              "      <th>4</th>\n",
              "      <th>5</th>\n",
              "      <th>sum</th>\n",
              "    </tr>\n",
              "    <tr>\n",
              "      <th>tue_open</th>\n",
              "      <th></th>\n",
              "      <th></th>\n",
              "      <th></th>\n",
              "      <th></th>\n",
              "      <th></th>\n",
              "      <th></th>\n",
              "    </tr>\n",
              "  </thead>\n",
              "  <tbody>\n",
              "    <tr>\n",
              "      <th>11</th>\n",
              "      <td>1981</td>\n",
              "      <td>2194</td>\n",
              "      <td>3066</td>\n",
              "      <td>6335</td>\n",
              "      <td>8039</td>\n",
              "      <td>21615</td>\n",
              "    </tr>\n",
              "    <tr>\n",
              "      <th>17</th>\n",
              "      <td>408</td>\n",
              "      <td>521</td>\n",
              "      <td>811</td>\n",
              "      <td>2031</td>\n",
              "      <td>2740</td>\n",
              "      <td>6511</td>\n",
              "    </tr>\n",
              "    <tr>\n",
              "      <th>-1</th>\n",
              "      <td>907</td>\n",
              "      <td>597</td>\n",
              "      <td>864</td>\n",
              "      <td>1589</td>\n",
              "      <td>1970</td>\n",
              "      <td>5927</td>\n",
              "    </tr>\n",
              "    <tr>\n",
              "      <th>16</th>\n",
              "      <td>358</td>\n",
              "      <td>444</td>\n",
              "      <td>662</td>\n",
              "      <td>1603</td>\n",
              "      <td>2085</td>\n",
              "      <td>5152</td>\n",
              "    </tr>\n",
              "    <tr>\n",
              "      <th>7</th>\n",
              "      <td>312</td>\n",
              "      <td>344</td>\n",
              "      <td>573</td>\n",
              "      <td>1502</td>\n",
              "      <td>2061</td>\n",
              "      <td>4792</td>\n",
              "    </tr>\n",
              "  </tbody>\n",
              "</table>\n",
              "</div>"
            ],
            "text/plain": [
              "stars        1     2     3     4     5    sum\n",
              "tue_open                                     \n",
              " 11       1981  2194  3066  6335  8039  21615\n",
              " 17        408   521   811  2031  2740   6511\n",
              "-1         907   597   864  1589  1970   5927\n",
              " 16        358   444   662  1603  2085   5152\n",
              " 7         312   344   573  1502  2061   4792"
            ]
          },
          "metadata": {
            "tags": []
          },
          "execution_count": 316
        }
      ]
    },
    {
      "cell_type": "code",
      "metadata": {
        "id": "MCZAvVf3t5Sf",
        "colab_type": "code",
        "colab": {
          "base_uri": "https://localhost:8080/",
          "height": 299
        },
        "outputId": "777d0a1d-9432-4843-a7bb-b6b550c8f3a0"
      },
      "source": [
        "(rest_df\n",
        " .pipe(lambda df_: pd.crosstab(df_.tue_open, df_.stars))\n",
        " .assign(sum = lambda df_: df_.sum(axis=1))\n",
        " .sort_values(by=['sum'], ascending = False)\n",
        " .loc[:,[1,2,3,4,5]]\n",
        " .plot.bar(stacked=True, width =1)\n",
        " .legend(bbox_to_anchor=(1,1)))"
      ],
      "execution_count": 312,
      "outputs": [
        {
          "output_type": "execute_result",
          "data": {
            "text/plain": [
              "<matplotlib.legend.Legend at 0x7fb01ececa20>"
            ]
          },
          "metadata": {
            "tags": []
          },
          "execution_count": 312
        },
        {
          "output_type": "display_data",
          "data": {
            "image/png": "[encoded data removed]",
            "text/plain": [
              "<Figure size 432x288 with 1 Axes>"
            ]
          },
          "metadata": {
            "tags": []
          }
        }
      ]
    },
    {
      "cell_type": "code",
      "metadata": {
        "id": "5oYjwlzWt_Do",
        "colab_type": "code",
        "colab": {
          "base_uri": "https://localhost:8080/",
          "height": 235
        },
        "outputId": "b25b0efc-0d47-4611-80ad-1accd4ef0628"
      },
      "source": [
        "(rest_df\n",
        " .pipe(lambda df_: pd.crosstab(df_.tue_open, df_.stars))\n",
        " .pipe(lambda df_: df_.div(df_.sum(axis=1), axis=0))\n",
        " .assign(reviewbin = lambda df_: pd.cut(rest_df.pipe(lambda df_: pd.crosstab(df_.tue_open, df_.stars)).sum(axis=1), bins=50, labels=[x for x in range(1, 51)]))\n",
        " .sort_values(by=['reviewbin', 5], ascending = False)\n",
        " #.loc[:,[1,2,3,4,5]]\n",
        " .head()\n",
        ")"
      ],
      "execution_count": 330,
      "outputs": [
        {
          "output_type": "execute_result",
          "data": {
            "text/html": [
              "<div>\n",
              "<style scoped>\n",
              "    .dataframe tbody tr th:only-of-type {\n",
              "        vertical-align: middle;\n",
              "    }\n",
              "\n",
              "    .dataframe tbody tr th {\n",
              "        vertical-align: top;\n",
              "    }\n",
              "\n",
              "    .dataframe thead th {\n",
              "        text-align: right;\n",
              "    }\n",
              "</style>\n",
              "<table border=\"1\" class=\"dataframe\">\n",
              "  <thead>\n",
              "    <tr style=\"text-align: right;\">\n",
              "      <th>stars</th>\n",
              "      <th>1</th>\n",
              "      <th>2</th>\n",
              "      <th>3</th>\n",
              "      <th>4</th>\n",
              "      <th>5</th>\n",
              "      <th>reviewbin</th>\n",
              "    </tr>\n",
              "    <tr>\n",
              "      <th>tue_open</th>\n",
              "      <th></th>\n",
              "      <th></th>\n",
              "      <th></th>\n",
              "      <th></th>\n",
              "      <th></th>\n",
              "      <th></th>\n",
              "    </tr>\n",
              "  </thead>\n",
              "  <tbody>\n",
              "    <tr>\n",
              "      <th>11</th>\n",
              "      <td>0.091649</td>\n",
              "      <td>0.101504</td>\n",
              "      <td>0.141846</td>\n",
              "      <td>0.293084</td>\n",
              "      <td>0.371918</td>\n",
              "      <td>50</td>\n",
              "    </tr>\n",
              "    <tr>\n",
              "      <th>17</th>\n",
              "      <td>0.062663</td>\n",
              "      <td>0.080018</td>\n",
              "      <td>0.124558</td>\n",
              "      <td>0.311934</td>\n",
              "      <td>0.420826</td>\n",
              "      <td>16</td>\n",
              "    </tr>\n",
              "    <tr>\n",
              "      <th>-1</th>\n",
              "      <td>0.153029</td>\n",
              "      <td>0.100725</td>\n",
              "      <td>0.145774</td>\n",
              "      <td>0.268095</td>\n",
              "      <td>0.332377</td>\n",
              "      <td>14</td>\n",
              "    </tr>\n",
              "    <tr>\n",
              "      <th>7</th>\n",
              "      <td>0.065109</td>\n",
              "      <td>0.071786</td>\n",
              "      <td>0.119574</td>\n",
              "      <td>0.313439</td>\n",
              "      <td>0.430092</td>\n",
              "      <td>12</td>\n",
              "    </tr>\n",
              "    <tr>\n",
              "      <th>16</th>\n",
              "      <td>0.069488</td>\n",
              "      <td>0.086180</td>\n",
              "      <td>0.128494</td>\n",
              "      <td>0.311141</td>\n",
              "      <td>0.404697</td>\n",
              "      <td>12</td>\n",
              "    </tr>\n",
              "  </tbody>\n",
              "</table>\n",
              "</div>"
            ],
            "text/plain": [
              "stars            1         2         3         4         5 reviewbin\n",
              "tue_open                                                            \n",
              " 11       0.091649  0.101504  0.141846  0.293084  0.371918        50\n",
              " 17       0.062663  0.080018  0.124558  0.311934  0.420826        16\n",
              "-1        0.153029  0.100725  0.145774  0.268095  0.332377        14\n",
              " 7        0.065109  0.071786  0.119574  0.313439  0.430092        12\n",
              " 16       0.069488  0.086180  0.128494  0.311141  0.404697        12"
            ]
          },
          "metadata": {
            "tags": []
          },
          "execution_count": 330
        }
      ]
    },
    {
      "cell_type": "code",
      "metadata": {
        "id": "yVULdpOtuIf9",
        "colab_type": "code",
        "colab": {
          "base_uri": "https://localhost:8080/",
          "height": 299
        },
        "outputId": "0eab1481-ab60-433f-da88-f98897b53571"
      },
      "source": [
        "stars=[5,4,3,2,1]\n",
        "(rest_df\n",
        " .pipe(lambda df_: pd.crosstab(df_.tue_open, df_.stars))\n",
        " .pipe(lambda df_: df_.div(df_.sum(axis=1), axis=0))\n",
        " .assign(reviewbin = lambda df_: pd.cut(rest_df.pipe(lambda df_: pd.crosstab(df_.tue_open, df_.stars)).sum(axis=1), bins=50, labels=[x for x in range(1, 51)]))\n",
        " .sort_values(by=['reviewbin', 5], ascending = False)\n",
        " .loc[:,[1,2,3,4,5]]\n",
        " .loc[:, stars]\n",
        " .plot.bar(stacked=True, width =1, cmap = 'viridis')\n",
        " .legend(bbox_to_anchor=(1,1))\n",
        " )"
      ],
      "execution_count": 331,
      "outputs": [
        {
          "output_type": "execute_result",
          "data": {
            "text/plain": [
              "<matplotlib.legend.Legend at 0x7fb01d9d8588>"
            ]
          },
          "metadata": {
            "tags": []
          },
          "execution_count": 331
        },
        {
          "output_type": "display_data",
          "data": {
            "image/png": "[encoded data removed]",
            "text/plain": [
              "<Figure size 432x288 with 1 Axes>"
            ]
          },
          "metadata": {
            "tags": []
          }
        }
      ]
    },
    {
      "cell_type": "markdown",
      "metadata": {
        "id": "wZfbvuBBwQhu",
        "colab_type": "text"
      },
      "source": [
        "\n",
        "\n",
        "---\n",
        "\n",
        "**2. Close**\n",
        "\n",
        "---\n",
        "\n"
      ]
    },
    {
      "cell_type": "code",
      "metadata": {
        "id": "DGqU77iXwPgi",
        "colab_type": "code",
        "colab": {
          "base_uri": "https://localhost:8080/",
          "height": 235
        },
        "outputId": "efbb11d2-48f7-4a1c-f905-04d528a8f557"
      },
      "source": [
        "(rest_df\n",
        " .pipe(lambda df_: pd.crosstab(df_.tue_close, df_.stars))\n",
        " .assign(sum = lambda df_: df_.sum(axis=1))\n",
        " .sort_values(by=['sum'], ascending = False)\n",
        " #.loc[:,[1,2,3,4,5]]\n",
        " .head()\n",
        " )"
      ],
      "execution_count": 334,
      "outputs": [
        {
          "output_type": "execute_result",
          "data": {
            "text/html": [
              "<div>\n",
              "<style scoped>\n",
              "    .dataframe tbody tr th:only-of-type {\n",
              "        vertical-align: middle;\n",
              "    }\n",
              "\n",
              "    .dataframe tbody tr th {\n",
              "        vertical-align: top;\n",
              "    }\n",
              "\n",
              "    .dataframe thead th {\n",
              "        text-align: right;\n",
              "    }\n",
              "</style>\n",
              "<table border=\"1\" class=\"dataframe\">\n",
              "  <thead>\n",
              "    <tr style=\"text-align: right;\">\n",
              "      <th>stars</th>\n",
              "      <th>1</th>\n",
              "      <th>2</th>\n",
              "      <th>3</th>\n",
              "      <th>4</th>\n",
              "      <th>5</th>\n",
              "      <th>sum</th>\n",
              "    </tr>\n",
              "    <tr>\n",
              "      <th>tue_close</th>\n",
              "      <th></th>\n",
              "      <th></th>\n",
              "      <th></th>\n",
              "      <th></th>\n",
              "      <th></th>\n",
              "      <th></th>\n",
              "    </tr>\n",
              "  </thead>\n",
              "  <tbody>\n",
              "    <tr>\n",
              "      <th>22</th>\n",
              "      <td>1479</td>\n",
              "      <td>1704</td>\n",
              "      <td>2423</td>\n",
              "      <td>5609</td>\n",
              "      <td>7538</td>\n",
              "      <td>18753</td>\n",
              "    </tr>\n",
              "    <tr>\n",
              "      <th>21</th>\n",
              "      <td>674</td>\n",
              "      <td>765</td>\n",
              "      <td>1093</td>\n",
              "      <td>2418</td>\n",
              "      <td>3108</td>\n",
              "      <td>8058</td>\n",
              "    </tr>\n",
              "    <tr>\n",
              "      <th>-1</th>\n",
              "      <td>907</td>\n",
              "      <td>597</td>\n",
              "      <td>864</td>\n",
              "      <td>1589</td>\n",
              "      <td>1970</td>\n",
              "      <td>5927</td>\n",
              "    </tr>\n",
              "    <tr>\n",
              "      <th>23</th>\n",
              "      <td>450</td>\n",
              "      <td>482</td>\n",
              "      <td>642</td>\n",
              "      <td>1230</td>\n",
              "      <td>1543</td>\n",
              "      <td>4347</td>\n",
              "    </tr>\n",
              "    <tr>\n",
              "      <th>2</th>\n",
              "      <td>376</td>\n",
              "      <td>379</td>\n",
              "      <td>531</td>\n",
              "      <td>1203</td>\n",
              "      <td>1209</td>\n",
              "      <td>3698</td>\n",
              "    </tr>\n",
              "  </tbody>\n",
              "</table>\n",
              "</div>"
            ],
            "text/plain": [
              "stars         1     2     3     4     5    sum\n",
              "tue_close                                     \n",
              " 22        1479  1704  2423  5609  7538  18753\n",
              " 21         674   765  1093  2418  3108   8058\n",
              "-1          907   597   864  1589  1970   5927\n",
              " 23         450   482   642  1230  1543   4347\n",
              " 2          376   379   531  1203  1209   3698"
            ]
          },
          "metadata": {
            "tags": []
          },
          "execution_count": 334
        }
      ]
    },
    {
      "cell_type": "code",
      "metadata": {
        "id": "rn7FyTWmvSCr",
        "colab_type": "code",
        "colab": {
          "base_uri": "https://localhost:8080/",
          "height": 300
        },
        "outputId": "1e91f41d-5884-4540-a7c9-b90cac30934b"
      },
      "source": [
        "(rest_df\n",
        " .pipe(lambda df_: pd.crosstab(df_.tue_close, df_.stars))\n",
        " .assign(sum = lambda df_: df_.sum(axis=1))\n",
        " .sort_values(by=['sum'], ascending = False)\n",
        " .loc[:,[1,2,3,4,5]]\n",
        " .plot.bar(stacked=True, width =1)\n",
        " .legend(bbox_to_anchor=(1,1)))"
      ],
      "execution_count": 336,
      "outputs": [
        {
          "output_type": "execute_result",
          "data": {
            "text/plain": [
              "<matplotlib.legend.Legend at 0x7fb01d773400>"
            ]
          },
          "metadata": {
            "tags": []
          },
          "execution_count": 336
        },
        {
          "output_type": "display_data",
          "data": {
            "image/png": "[encoded data removed]",
            "text/plain": [
              "<Figure size 432x288 with 1 Axes>"
            ]
          },
          "metadata": {
            "tags": []
          }
        }
      ]
    },
    {
      "cell_type": "code",
      "metadata": {
        "id": "pJoIVXi-xQVs",
        "colab_type": "code",
        "colab": {
          "base_uri": "https://localhost:8080/",
          "height": 235
        },
        "outputId": "84ff78f0-ba64-49af-e7b4-514ac3510f68"
      },
      "source": [
        "(rest_df\n",
        " .pipe(lambda df_: pd.crosstab(df_.tue_close, df_.stars))\n",
        " .pipe(lambda df_: df_.div(df_.sum(axis=1), axis=0))\n",
        " .assign(reviewbin = lambda df_: pd.cut(rest_df.pipe(lambda df_: pd.crosstab(df_.tue_close, df_.stars)).sum(axis=1), bins=50, labels=[x for x in range(1, 51)]))\n",
        " .sort_values(by=['reviewbin', 5], ascending = False)\n",
        " .loc[:,[1,2,3,4,5]]\n",
        " .head()\n",
        ")"
      ],
      "execution_count": 338,
      "outputs": [
        {
          "output_type": "execute_result",
          "data": {
            "text/html": [
              "<div>\n",
              "<style scoped>\n",
              "    .dataframe tbody tr th:only-of-type {\n",
              "        vertical-align: middle;\n",
              "    }\n",
              "\n",
              "    .dataframe tbody tr th {\n",
              "        vertical-align: top;\n",
              "    }\n",
              "\n",
              "    .dataframe thead th {\n",
              "        text-align: right;\n",
              "    }\n",
              "</style>\n",
              "<table border=\"1\" class=\"dataframe\">\n",
              "  <thead>\n",
              "    <tr style=\"text-align: right;\">\n",
              "      <th>stars</th>\n",
              "      <th>1</th>\n",
              "      <th>2</th>\n",
              "      <th>3</th>\n",
              "      <th>4</th>\n",
              "      <th>5</th>\n",
              "    </tr>\n",
              "    <tr>\n",
              "      <th>tue_close</th>\n",
              "      <th></th>\n",
              "      <th></th>\n",
              "      <th></th>\n",
              "      <th></th>\n",
              "      <th></th>\n",
              "    </tr>\n",
              "  </thead>\n",
              "  <tbody>\n",
              "    <tr>\n",
              "      <th>22</th>\n",
              "      <td>0.078867</td>\n",
              "      <td>0.090865</td>\n",
              "      <td>0.129206</td>\n",
              "      <td>0.299099</td>\n",
              "      <td>0.401962</td>\n",
              "    </tr>\n",
              "    <tr>\n",
              "      <th>21</th>\n",
              "      <td>0.083644</td>\n",
              "      <td>0.094937</td>\n",
              "      <td>0.135642</td>\n",
              "      <td>0.300074</td>\n",
              "      <td>0.385704</td>\n",
              "    </tr>\n",
              "    <tr>\n",
              "      <th>-1</th>\n",
              "      <td>0.153029</td>\n",
              "      <td>0.100725</td>\n",
              "      <td>0.145774</td>\n",
              "      <td>0.268095</td>\n",
              "      <td>0.332377</td>\n",
              "    </tr>\n",
              "    <tr>\n",
              "      <th>23</th>\n",
              "      <td>0.103520</td>\n",
              "      <td>0.110881</td>\n",
              "      <td>0.147688</td>\n",
              "      <td>0.282954</td>\n",
              "      <td>0.354957</td>\n",
              "    </tr>\n",
              "    <tr>\n",
              "      <th>2</th>\n",
              "      <td>0.101677</td>\n",
              "      <td>0.102488</td>\n",
              "      <td>0.143591</td>\n",
              "      <td>0.325311</td>\n",
              "      <td>0.326933</td>\n",
              "    </tr>\n",
              "  </tbody>\n",
              "</table>\n",
              "</div>"
            ],
            "text/plain": [
              "stars             1         2         3         4         5\n",
              "tue_close                                                  \n",
              " 22        0.078867  0.090865  0.129206  0.299099  0.401962\n",
              " 21        0.083644  0.094937  0.135642  0.300074  0.385704\n",
              "-1         0.153029  0.100725  0.145774  0.268095  0.332377\n",
              " 23        0.103520  0.110881  0.147688  0.282954  0.354957\n",
              " 2         0.101677  0.102488  0.143591  0.325311  0.326933"
            ]
          },
          "metadata": {
            "tags": []
          },
          "execution_count": 338
        }
      ]
    },
    {
      "cell_type": "code",
      "metadata": {
        "id": "-88Iza3QxCpD",
        "colab_type": "code",
        "colab": {
          "base_uri": "https://localhost:8080/",
          "height": 300
        },
        "outputId": "c43ca6c7-6d2e-4607-a2fd-4e8a42f0d5c8"
      },
      "source": [
        "stars=[5,4,3,2,1]\n",
        "(rest_df\n",
        " .pipe(lambda df_: pd.crosstab(df_.tue_close, df_.stars))\n",
        " .pipe(lambda df_: df_.div(df_.sum(axis=1), axis=0))\n",
        " .assign(reviewbin = lambda df_: pd.cut(rest_df.pipe(lambda df_: pd.crosstab(df_.tue_close, df_.stars)).sum(axis=1), bins=50, labels=[x for x in range(1, 51)]))\n",
        " .sort_values(by=['reviewbin', 5], ascending = False)\n",
        " .loc[:,[1,2,3,4,5]]\n",
        " .loc[:, stars]\n",
        " .plot.bar(stacked=True, width =1, cmap = 'viridis')\n",
        " .legend(bbox_to_anchor=(1,1))\n",
        " )"
      ],
      "execution_count": 337,
      "outputs": [
        {
          "output_type": "execute_result",
          "data": {
            "text/plain": [
              "<matplotlib.legend.Legend at 0x7fb01e128518>"
            ]
          },
          "metadata": {
            "tags": []
          },
          "execution_count": 337
        },
        {
          "output_type": "display_data",
          "data": {
            "image/png": "[encoded data removed]",
            "text/plain": [
              "<Figure size 432x288 with 1 Axes>"
            ]
          },
          "metadata": {
            "tags": []
          }
        }
      ]
    },
    {
      "cell_type": "code",
      "metadata": {
        "id": "wHcf9UiqxL2o",
        "colab_type": "code",
        "colab": {}
      },
      "source": [
        ""
      ],
      "execution_count": 0,
      "outputs": []
    }
  ]
}